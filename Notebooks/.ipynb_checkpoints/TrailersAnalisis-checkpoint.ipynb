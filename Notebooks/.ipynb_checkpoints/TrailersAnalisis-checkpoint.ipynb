{
 "cells": [
  {
   "cell_type": "markdown",
   "metadata": {
    "id": "Glpq9VU6mZbk"
   },
   "source": [
    "# Reading Movies"
   ]
  },
  {
   "cell_type": "code",
   "execution_count": 19,
   "metadata": {
    "id": "vnk-yese9cPk"
   },
   "outputs": [],
   "source": [
    "import ast\n",
    "import csv\n",
    "movies = []\n",
    "with open('results.csv') as f:\n",
    "  reader = csv.DictReader(f)\n",
    "  lst = list(reader)\n",
    "  for item in lst:\n",
    "    item[\"query_results\"] = ast.literal_eval(item[\"query_results\"])\n",
    "    item[\"top_10_results\"] = item[\"query_results\"][:10]\n",
    "    item[\"anterior_query_results\"] = ast.literal_eval(item[\"anterior_query_results\"])\n",
    "    movies.append(item)\n",
    "\n",
    "exclude_channels = []\n",
    "with open(\"Hand_Excluded_Channels.csv\") as f:\n",
    "  reader = csv.reader(f)\n",
    "  lst = reader\n",
    "  for item in lst:\n",
    "    exclude_channels.append(item[0])\n",
    "\n",
    "with open(\"Programmatically_Excluded_Channels.csv\") as f:\n",
    "  reader = csv.reader(f)\n",
    "  lst = reader\n",
    "  for item in lst:\n",
    "    exclude_channels.append(item[0])\n",
    "\n",
    "known_channels = []\n",
    "with open(\"Hand_Known_Channels.csv\") as f:\n",
    "  reader = csv.reader(f)\n",
    "  lst = reader\n",
    "  for item in lst:\n",
    "    known_channels.append(item[0])\n",
    "\n",
    "\n"
   ]
  },
  {
   "cell_type": "code",
   "execution_count": 20,
   "metadata": {
    "colab": {
     "base_uri": "https://localhost:8080/"
    },
    "id": "0xdWtoRA_pGS",
    "outputId": "1b2797a7-17d5-4216-f531-b175fc236d32"
   },
   "outputs": [
    {
     "data": {
      "text/plain": [
       "1976"
      ]
     },
     "execution_count": 20,
     "metadata": {},
     "output_type": "execute_result"
    }
   ],
   "source": [
    "len(movies)"
   ]
  },
  {
   "cell_type": "code",
   "execution_count": 21,
   "metadata": {
    "id": "ZmTpbur3AkJX"
   },
   "outputs": [],
   "source": [
    "import re\n",
    "def translate(to_translate):\n",
    "\t\ttabin = u'áéíóú'\n",
    "\t\ttabout = u'aeiou'\n",
    "\t\ttabin = [ord(char) for char in tabin]\n",
    "\t\ttranslate_table = dict(zip(tabin, tabout))\n",
    "\t\treturn to_translate.translate(translate_table)\n",
    "\n",
    "def remove_non_alphanumeric(result):\n",
    "  return re.sub(r'[^a-zA-Z0-9]', '', result)\n",
    "\n",
    "def normalize(token):\n",
    "\t\tresult = token.lower()\n",
    "\t\tresult = translate(result)\n",
    "\t\tresult = remove_non_alphanumeric(result)\n",
    "\t\treturn result"
   ]
  },
  {
   "cell_type": "code",
   "execution_count": 22,
   "metadata": {
    "id": "NSdfz_yNEGpP"
   },
   "outputs": [],
   "source": [
    "from datetime import date\n",
    "\n",
    "def diff_dates(date1, date2):\n",
    "  return abs(date2 - date1).days\n",
    "\n",
    "\n",
    "def anterior(date1, date2):\n",
    "  return (date2 - date1).days >= 0\n",
    "\n",
    "def remove_results_by_date(release_start, query_results):\n",
    "        anterior_query_results = []\n",
    "        for query_result in query_results:\n",
    "            title, channel, video_id, result_date_str, premiered, stream, subscribers, views, likes, verified = query_result\n",
    "\n",
    "            if release_start == None or result_date_str == None or release_start == \"\" or result_date_str == \"\":\n",
    "                is_anterior = True\n",
    "            else:\n",
    "                #print(\"{} {}\".format(repr(release_start), result_date_str))\n",
    "                movie_moth, movie_day, movie_year = release_start.split(\"/\")\n",
    "                result_moth, result_day, result_year = result_date_str.split(\"/\")\n",
    "                movie_date = date(int(movie_year), int(movie_moth), int(movie_day))\n",
    "                result_date = date(int(result_year), int(result_moth), int(result_day))\n",
    "                is_anterior = anterior(result_date, movie_date)\n",
    "\n",
    "            #self.logger.debug(\"Movie Date {},  Result Date {}, Diff {} Result Date Is Anterior? {}\".format(release_start, result_date_str, diff_dates(movie_date, result_date), is_anterior))\n",
    "\n",
    "            if is_anterior:\n",
    "                anterior_query_results.append(query_result)\n",
    "        return anterior_query_results"
   ]
  },
  {
   "cell_type": "code",
   "execution_count": 23,
   "metadata": {
    "id": "dt2AvSlBZb39"
   },
   "outputs": [],
   "source": [
    "def remove_results_by_channel(distributor, ampliated_top_k):\n",
    "  results = []\n",
    "  for result in ampliated_top_k:\n",
    "    if result[1].lower() in known_channels:\n",
    "      results.append(result)\n",
    "\n",
    "  #if distributor == \"Universal Pictures Distributor\": ##To Do\n",
    "    #return get_results_from_channel()\n",
    "\n",
    "  return results\n",
    "\n",
    "def exclude_by_channel(ampliated_top_k):\n",
    "  results = []\n",
    "  for result in ampliated_top_k:\n",
    "    if result[1].lower() not in exclude_channels:\n",
    "      results.append(result)\n",
    "  return results\n",
    "  "
   ]
  },
  {
   "cell_type": "code",
   "execution_count": 24,
   "metadata": {
    "id": "V7JWV_fy8hfv"
   },
   "outputs": [],
   "source": [
    "def score(title_tokens, channel_tokens, query_tokens):\n",
    "  normalized_title_tokens = []\n",
    "  for title_token in title_tokens:\n",
    "    normalized_title_token = normalize(title_token)\n",
    "    if len(normalized_title_token) > 1:\n",
    "      normalized_title_tokens.append(normalized_title_token)\n",
    "\n",
    "  normalized_channel_tokens = []\n",
    "  for channel_token in channel_tokens:\n",
    "    normalized_channel_tokens.append(normalize(channel_token))\n",
    "\n",
    "  normalized_query_tokens = []\n",
    "  for query_token in query_tokens:\n",
    "    normalized_query_token = normalize(query_token)\n",
    "    if len(normalized_query_token) > 1:\n",
    "      normalized_query_tokens.append(normalized_query_token)\n",
    "      \n",
    "  matches = 0\n",
    "  for normalized_query_token in normalized_query_tokens:\n",
    "    if normalized_query_token in normalized_title_tokens:\n",
    "      matches += 1\n",
    "  score = matches / len(normalized_query_tokens)\n",
    "  return score"
   ]
  },
  {
   "cell_type": "code",
   "execution_count": 25,
   "metadata": {
    "id": "uai_rWFxexCY"
   },
   "outputs": [],
   "source": [
    "  for movie in movies:\n",
    "    scored_trailers = []\n",
    "\n",
    "    channel_excluded_results = exclude_by_channel(movie[\"top_10_results\"])\n",
    "\n",
    "    movie[\"anterior_channel_excluded_results\"] = remove_results_by_date(movie[\"release_start\"], channel_excluded_results)\n",
    "\n",
    "    movie[\"known_channel_results\"] = remove_results_by_channel(movie[\"distributor\"], movie[\"anterior_channel_excluded_results\"]) #OPTION 1\n",
    "\n",
    "    results = movie[\"known_channel_results\"]\n",
    "\n",
    "    if results == []:\n",
    "      results = movie[\"anterior_channel_excluded_results\"]\n",
    "\n",
    "    for trailer_primary_result in results:\n",
    "      title, channel, video_id, video_date, premiered, stream, subscribers, views, likes, verified = trailer_primary_result\n",
    "\n",
    "      if premiered or stream:\n",
    "        continue\n",
    "\n",
    "      title_tokens = title.split(\" \")\n",
    "      channel_tokens = channel.split(\" \")\n",
    "      query_tokens = query_tokens = \"{} official trailer\".format(movie[\"movie_name\"]).split()\n",
    "\n",
    "      score_result = score(title_tokens, channel_tokens, query_tokens)\n",
    "      \n",
    "\n",
    "      scored_trailers.append([title, channel, video_id, video_date, premiered, stream, subscribers, views, likes, score_result])\n",
    "    movie[\"scored_trailers\"] = scored_trailers"
   ]
  },
  {
   "cell_type": "markdown",
   "metadata": {
    "id": "9-8ozgY_YXXr"
   },
   "source": [
    "# Creating manual file\n"
   ]
  },
  {
   "cell_type": "code",
   "execution_count": 26,
   "metadata": {
    "id": "tkt80cH0Y_2j"
   },
   "outputs": [],
   "source": [
    "with open(\"file.csv\", \"w\") as f:\n",
    "  f.write(\"movie_name,video_url,video_title,channel,score,id,official_trailer,known_channels_used\")\n",
    "  f.write(\"\\r\\n\")\n",
    "  for movie in movies:\n",
    "    if movie[\"no_prerelease\"] == '0':\n",
    "      if movie[\"scored_trailers\"] == []:\n",
    "        movie_name = movie[\"movie_name\"].replace(\",\",\"\")\n",
    "        f.write(\"{},{},{},{},{},{},{},{}\".format(movie_name, None, None, None, None, None, None, None))\n",
    "        f.write(\"\\r\\n\")\n",
    "\n",
    "      counter = 1\n",
    "      for trailer in movie[\"scored_trailers\"]:\n",
    "        title, channel, video_id, date, premiered, stream, subscribers, views, likes, score_result = trailer\n",
    "        youtube_url = \"https://www.youtube.com/watch?v={}\".format(video_id)\n",
    "        movie_name = movie[\"movie_name\"].replace(\",\",\"\")\n",
    "        title = title.replace(\",\",\"\")\n",
    "        channel = channel.replace(\",\",\"\")\n",
    "        official_trailer = 0\n",
    "        if score_result >= 0.75:\n",
    "          official_trailer = 1\n",
    "\n",
    "        score_result = str(round(score_result, 2))\n",
    "        \n",
    "        kwnown_channels_used = 0\n",
    "        if movie[\"known_channel_results\"] != []:\n",
    "          kwnown_channels_used = 1\n",
    "        f.write(\"{},{},{},{},{},{},{},{}\".format(movie_name, youtube_url, title, channel, score_result, counter, official_trailer, kwnown_channels_used))\n",
    "        f.write(\"\\r\\n\")\n",
    "        counter += 1\n",
    "      f.write(\",,,,,,,\")\n",
    "      f.write(\"\\r\\n\")"
   ]
  },
  {
   "cell_type": "markdown",
   "metadata": {
    "id": "y5Imm7ZYdfep"
   },
   "source": [
    "# Creating Debug Files"
   ]
  },
  {
   "cell_type": "code",
   "execution_count": 27,
   "metadata": {
    "colab": {
     "base_uri": "https://localhost:8080/"
    },
    "id": "lciPF62sdjuK",
    "outputId": "cb45542d-4c45-484f-ebfc-1b2519327b53"
   },
   "outputs": [
    {
     "name": "stdout",
     "output_type": "stream",
     "text": [
      "{'uniqueID': '0', 'movie_name': 'Avengers: Endgame', 'url_bom': 'https://www.boxofficemojo.com/release/rl3059975681/', 'gross_dom': '858373000.0', 'gross_int': '1939128328.0', 'gross_worldwide': '2797501328.0', 'distributor': 'Walt Disney Studios Motion Pictures', 'opening_box': '357115007.0', 'opening_theater': '4662.0', 'budget': '356000000.0', 'release_start': '4/26/2019', 'release_end': '9/12/2019', 'mpaa': 'PG-13', 'run_time': '181.0', 'release_length': '250.0', 'url_imdb': 'https://imdb.com/title/tt4154796', 'summary': \"After the devastating events of Avengers: Infinity War, the universe is in ruins. With the help of remaining allies, the Avengers assemble once more in order to reverse Thanos' actions and restore balance to the universe.\", 'success': '1', 'user_raiting': '8.4', 'user_reviews': '9535.0', 'critic_rating': '78.0', 'critic_reviews': '596.0', 'writers': '3', 'directors': '2', 'Action': '1', 'Adventure': '1', 'Drama': '1', 'Sci-Fi': '1', 'Fantasy': '0', 'Animation': '0', 'Family': '0', 'Musical': '0', 'Horror': '0', 'Comedy': '0', 'Thriller': '0', 'Romance': '0', 'Mystery': '0', 'Crime': '0', 'War': '0', 'Music': '0', 'Sport': '0', 'Biography': '0', 'History': '0', 'Documentary': '0', 'Western': '0', 'Film-Noir': '0', 'movie_star': '18', 'query_url': 'https://www.youtube.com/results?search_query=avengers%3A+endgame+official+trailer', 'query_results': [[\"Marvel Studios' Avengers: Endgame - Official Trailer\", 'Marvel Entertainment', 'TcMBFSGVi1c', '3/14/2019', False, False, '19.9M', '153,579,843', '3,386,330', 'verified'], ['Avengers: Endgame – Tráiler oficial #1 (Subtitulado)', 'Marvel Latinoamérica Oficial', 'znk2OICHbjY', '12/7/2018', False, False, '1.5M', '7,470,935', '226,887', 'verified'], ['Avengers: Endgame (Tráiler Final | Dob Español Latino) | DubZoneLA', 'DubZone: Latinoamérica', 'KdL8ucqi1F8', '3/15/2019', True, False, '20.8K', '2,645,133', '65,988', None], ['Marvel Studios’ Avengers: Endgame | “To the End”', 'Marvel Entertainment', '0jNvJU52LvU', '4/16/2019', False, False, '19.9M', '37,330,812', '1,240,222', 'verified'], ['Honest Trailers | Avengers: Endgame', 'Screen Junkies', 'nmrqYcw_xsE', '8/6/2019', False, False, '6.82M', '8,354,982', '187,519', 'verified'], ['Marvel Studios’ Avengers: Endgame | Special Look', 'Marvel Entertainment', 'KCSNFZKbhZE', '4/2/2019', False, False, '19.9M', '30,421,788', '795,415', 'verified'], [\"Marvel Studios' Avengers: Infinity War Official Trailer\", 'Marvel Entertainment', '6ZfuNTqbHE8', '11/29/2017', False, False, '19.9M', '257,398,297', '4,084,490', 'verified'], ['Avengers: Endgame – Tráiler oficial #2 (Subtitulado)', 'Marvel Latinoamérica Oficial', 'PyakRSni-c0', '3/14/2019', False, False, '1.5M', '9,569,550', '233,938', 'verified'], [\"Marvel Studios' Avengers - Official Trailer\", 'Marvel Entertainment', 'hA6hldpSTF8', '12/7/2018', False, False, '19.9M', '107,376,486', '3,365,840', 'verified'], ['Avengers Endgame Trailer 1 Reaction Mashup', 'GORILLA REACTSTREAM', 'd5y-to188Mg', '8/20/2019', False, False, '62.9K', '1,735,318', '29,135', None], ['Avengers: Endgame (2019) - To The End Official Trailer', 'GameSpot Universe Trailers', 'CIfm9NQzgU0', '4/16/2019', False, False, '227K', '803,213', None, None], ['AVENGERS 4 Último Tráiler (Nuevo, 2019) ENDGAME', 'SensaCine TRAILERS', 'K2POESqGEaI', '4/16/2019', False, False, '1.89M', '8,129,206', '103,092', 'verified'], ['Avengers: Infinity War Trailer #1 (2018) | Movieclips Trailers', 'Rotten Tomatoes Trailers', 'B65hW9YYY5A', '11/29/2017', False, False, '15.7M', '8,395,018', '110,149', 'verified'], ['Vengadores: Endgame de Marvel Studios | Nuevo Tráiler Oficial en español | HD', 'Marvel España', 'UQ3bqYKnyhM', '3/14/2019', False, False, '376K', '3,095,474', '48,009', 'verified'], ['Vengadores: Endgame | Tráiler oficial en español | HD', 'Marvel España', 'svLSGZkTzC0', '12/7/2018', False, False, '376K', '4,297,240', '56,290', 'verified'], ['AVENGERS 4: ENDGAME Official Trailer #2 (2019) Marvel, Superhero Movie HD', 'Rapid Trailer', 'aNkJ6QwacGE', '3/14/2019', False, False, '1.05M', '4,065,033', '53,841', 'verified'], ['AVENGERS 4 ENDGAME: All Trailers (2019)', 'FilmSelect Trailer', 'mx9TjGVW59Q', '4/2/2019', False, False, '4.11M', '2,678,928', '24,361', 'verified'], [\"Marvel Studios' Avengers: Endgame - Big Game TV Spot\", 'Marvel Entertainment', '-iFq6IcAxBc', '2/3/2019', False, False, '19.9M', '22,450,169', '579,220', 'verified'], ['Avengers: Infinity War | Official Telugu Teaser Trailer | Rana Daggubati | In cinemas April 27, 2018', 'IndiaMarvel', 'seMZ6p2SF6U', '3/26/2018', False, False, '2.42M', '1,512,593', '14,283', None], ['AVENGERS: ENDGAME – Official Trailer', 'Marvel Australia & New Zealand', 'gonAaBYuB-g', '3/14/2019', False, False, '22K', '578,102', '11,431', None]], 'anterior_query_results': [[\"Marvel Studios' Avengers: Endgame - Official Trailer\", 'Marvel Entertainment', 'TcMBFSGVi1c', '3/14/2019', False, False, '19.9M', '153,579,843', '3,386,330', 'verified'], ['Avengers: Endgame – Tráiler oficial #1 (Subtitulado)', 'Marvel Latinoamérica Oficial', 'znk2OICHbjY', '12/7/2018', False, False, '1.5M', '7,470,935', '226,887', 'verified'], ['Avengers: Endgame (Tráiler Final | Dob Español Latino) | DubZoneLA', 'DubZone: Latinoamérica', 'KdL8ucqi1F8', '3/15/2019', True, False, '20.8K', '2,645,133', '65,988', None], ['Marvel Studios’ Avengers: Endgame | “To the End”', 'Marvel Entertainment', '0jNvJU52LvU', '4/16/2019', False, False, '19.9M', '37,330,812', '1,240,222', 'verified'], ['Marvel Studios’ Avengers: Endgame | Special Look', 'Marvel Entertainment', 'KCSNFZKbhZE', '4/2/2019', False, False, '19.9M', '30,421,788', '795,415', 'verified'], [\"Marvel Studios' Avengers: Infinity War Official Trailer\", 'Marvel Entertainment', '6ZfuNTqbHE8', '11/29/2017', False, False, '19.9M', '257,398,297', '4,084,490', 'verified'], ['Avengers: Endgame – Tráiler oficial #2 (Subtitulado)', 'Marvel Latinoamérica Oficial', 'PyakRSni-c0', '3/14/2019', False, False, '1.5M', '9,569,550', '233,938', 'verified'], [\"Marvel Studios' Avengers - Official Trailer\", 'Marvel Entertainment', 'hA6hldpSTF8', '12/7/2018', False, False, '19.9M', '107,376,486', '3,365,840', 'verified'], ['Avengers: Endgame (2019) - To The End Official Trailer', 'GameSpot Universe Trailers', 'CIfm9NQzgU0', '4/16/2019', False, False, '227K', '803,213', None, None], ['AVENGERS 4 Último Tráiler (Nuevo, 2019) ENDGAME', 'SensaCine TRAILERS', 'K2POESqGEaI', '4/16/2019', False, False, '1.89M', '8,129,206', '103,092', 'verified'], ['Avengers: Infinity War Trailer #1 (2018) | Movieclips Trailers', 'Rotten Tomatoes Trailers', 'B65hW9YYY5A', '11/29/2017', False, False, '15.7M', '8,395,018', '110,149', 'verified'], ['Vengadores: Endgame de Marvel Studios | Nuevo Tráiler Oficial en español | HD', 'Marvel España', 'UQ3bqYKnyhM', '3/14/2019', False, False, '376K', '3,095,474', '48,009', 'verified'], ['Vengadores: Endgame | Tráiler oficial en español | HD', 'Marvel España', 'svLSGZkTzC0', '12/7/2018', False, False, '376K', '4,297,240', '56,290', 'verified'], ['AVENGERS 4: ENDGAME Official Trailer #2 (2019) Marvel, Superhero Movie HD', 'Rapid Trailer', 'aNkJ6QwacGE', '3/14/2019', False, False, '1.05M', '4,065,033', '53,841', 'verified'], ['AVENGERS 4 ENDGAME: All Trailers (2019)', 'FilmSelect Trailer', 'mx9TjGVW59Q', '4/2/2019', False, False, '4.11M', '2,678,928', '24,361', 'verified'], [\"Marvel Studios' Avengers: Endgame - Big Game TV Spot\", 'Marvel Entertainment', '-iFq6IcAxBc', '2/3/2019', False, False, '19.9M', '22,450,169', '579,220', 'verified'], ['Avengers: Infinity War | Official Telugu Teaser Trailer | Rana Daggubati | In cinemas April 27, 2018', 'IndiaMarvel', 'seMZ6p2SF6U', '3/26/2018', False, False, '2.42M', '1,512,593', '14,283', None], ['AVENGERS: ENDGAME – Official Trailer', 'Marvel Australia & New Zealand', 'gonAaBYuB-g', '3/14/2019', False, False, '22K', '578,102', '11,431', None]], 'no_prerelease': '0', 'top_10_results': [[\"Marvel Studios' Avengers: Endgame - Official Trailer\", 'Marvel Entertainment', 'TcMBFSGVi1c', '3/14/2019', False, False, '19.9M', '153,579,843', '3,386,330', 'verified'], ['Avengers: Endgame – Tráiler oficial #1 (Subtitulado)', 'Marvel Latinoamérica Oficial', 'znk2OICHbjY', '12/7/2018', False, False, '1.5M', '7,470,935', '226,887', 'verified'], ['Avengers: Endgame (Tráiler Final | Dob Español Latino) | DubZoneLA', 'DubZone: Latinoamérica', 'KdL8ucqi1F8', '3/15/2019', True, False, '20.8K', '2,645,133', '65,988', None], ['Marvel Studios’ Avengers: Endgame | “To the End”', 'Marvel Entertainment', '0jNvJU52LvU', '4/16/2019', False, False, '19.9M', '37,330,812', '1,240,222', 'verified'], ['Honest Trailers | Avengers: Endgame', 'Screen Junkies', 'nmrqYcw_xsE', '8/6/2019', False, False, '6.82M', '8,354,982', '187,519', 'verified'], ['Marvel Studios’ Avengers: Endgame | Special Look', 'Marvel Entertainment', 'KCSNFZKbhZE', '4/2/2019', False, False, '19.9M', '30,421,788', '795,415', 'verified'], [\"Marvel Studios' Avengers: Infinity War Official Trailer\", 'Marvel Entertainment', '6ZfuNTqbHE8', '11/29/2017', False, False, '19.9M', '257,398,297', '4,084,490', 'verified'], ['Avengers: Endgame – Tráiler oficial #2 (Subtitulado)', 'Marvel Latinoamérica Oficial', 'PyakRSni-c0', '3/14/2019', False, False, '1.5M', '9,569,550', '233,938', 'verified'], [\"Marvel Studios' Avengers - Official Trailer\", 'Marvel Entertainment', 'hA6hldpSTF8', '12/7/2018', False, False, '19.9M', '107,376,486', '3,365,840', 'verified'], ['Avengers Endgame Trailer 1 Reaction Mashup', 'GORILLA REACTSTREAM', 'd5y-to188Mg', '8/20/2019', False, False, '62.9K', '1,735,318', '29,135', None]], 'anterior_channel_excluded_results': [[\"Marvel Studios' Avengers: Endgame - Official Trailer\", 'Marvel Entertainment', 'TcMBFSGVi1c', '3/14/2019', False, False, '19.9M', '153,579,843', '3,386,330', 'verified'], ['Avengers: Endgame – Tráiler oficial #1 (Subtitulado)', 'Marvel Latinoamérica Oficial', 'znk2OICHbjY', '12/7/2018', False, False, '1.5M', '7,470,935', '226,887', 'verified'], ['Avengers: Endgame (Tráiler Final | Dob Español Latino) | DubZoneLA', 'DubZone: Latinoamérica', 'KdL8ucqi1F8', '3/15/2019', True, False, '20.8K', '2,645,133', '65,988', None], ['Marvel Studios’ Avengers: Endgame | “To the End”', 'Marvel Entertainment', '0jNvJU52LvU', '4/16/2019', False, False, '19.9M', '37,330,812', '1,240,222', 'verified'], ['Marvel Studios’ Avengers: Endgame | Special Look', 'Marvel Entertainment', 'KCSNFZKbhZE', '4/2/2019', False, False, '19.9M', '30,421,788', '795,415', 'verified'], [\"Marvel Studios' Avengers: Infinity War Official Trailer\", 'Marvel Entertainment', '6ZfuNTqbHE8', '11/29/2017', False, False, '19.9M', '257,398,297', '4,084,490', 'verified'], ['Avengers: Endgame – Tráiler oficial #2 (Subtitulado)', 'Marvel Latinoamérica Oficial', 'PyakRSni-c0', '3/14/2019', False, False, '1.5M', '9,569,550', '233,938', 'verified'], [\"Marvel Studios' Avengers - Official Trailer\", 'Marvel Entertainment', 'hA6hldpSTF8', '12/7/2018', False, False, '19.9M', '107,376,486', '3,365,840', 'verified']], 'known_channel_results': [[\"Marvel Studios' Avengers: Endgame - Official Trailer\", 'Marvel Entertainment', 'TcMBFSGVi1c', '3/14/2019', False, False, '19.9M', '153,579,843', '3,386,330', 'verified'], ['Marvel Studios’ Avengers: Endgame | “To the End”', 'Marvel Entertainment', '0jNvJU52LvU', '4/16/2019', False, False, '19.9M', '37,330,812', '1,240,222', 'verified'], ['Marvel Studios’ Avengers: Endgame | Special Look', 'Marvel Entertainment', 'KCSNFZKbhZE', '4/2/2019', False, False, '19.9M', '30,421,788', '795,415', 'verified'], [\"Marvel Studios' Avengers: Infinity War Official Trailer\", 'Marvel Entertainment', '6ZfuNTqbHE8', '11/29/2017', False, False, '19.9M', '257,398,297', '4,084,490', 'verified'], [\"Marvel Studios' Avengers - Official Trailer\", 'Marvel Entertainment', 'hA6hldpSTF8', '12/7/2018', False, False, '19.9M', '107,376,486', '3,365,840', 'verified']], 'scored_trailers': [[\"Marvel Studios' Avengers: Endgame - Official Trailer\", 'Marvel Entertainment', 'TcMBFSGVi1c', '3/14/2019', False, False, '19.9M', '153,579,843', '3,386,330', 1.0], ['Marvel Studios’ Avengers: Endgame | “To the End”', 'Marvel Entertainment', '0jNvJU52LvU', '4/16/2019', False, False, '19.9M', '37,330,812', '1,240,222', 0.5], ['Marvel Studios’ Avengers: Endgame | Special Look', 'Marvel Entertainment', 'KCSNFZKbhZE', '4/2/2019', False, False, '19.9M', '30,421,788', '795,415', 0.5], [\"Marvel Studios' Avengers: Infinity War Official Trailer\", 'Marvel Entertainment', '6ZfuNTqbHE8', '11/29/2017', False, False, '19.9M', '257,398,297', '4,084,490', 0.75], [\"Marvel Studios' Avengers - Official Trailer\", 'Marvel Entertainment', 'hA6hldpSTF8', '12/7/2018', False, False, '19.9M', '107,376,486', '3,365,840', 0.75]]}\n"
     ]
    },
    {
     "ename": "ValueError",
     "evalue": "too many values to unpack (expected 9)",
     "output_type": "error",
     "traceback": [
      "\u001b[0;31m---------------------------------------------------------------------------\u001b[0m",
      "\u001b[0;31mValueError\u001b[0m                                Traceback (most recent call last)",
      "Input \u001b[0;32mIn [27]\u001b[0m, in \u001b[0;36m<cell line: 1>\u001b[0;34m()\u001b[0m\n\u001b[1;32m      7\u001b[0m \u001b[38;5;28mprint\u001b[39m(movie)\n\u001b[1;32m      8\u001b[0m \u001b[38;5;28;01mfor\u001b[39;00m result \u001b[38;5;129;01min\u001b[39;00m movie[\u001b[38;5;124m\"\u001b[39m\u001b[38;5;124mquery_results\u001b[39m\u001b[38;5;124m\"\u001b[39m]:\n\u001b[0;32m----> 9\u001b[0m   title, channel, video_id, video_date, premiered, stream, subscribers, views, likes \u001b[38;5;241m=\u001b[39m result\n\u001b[1;32m     11\u001b[0m   youtube_url \u001b[38;5;241m=\u001b[39m \u001b[38;5;124m\"\u001b[39m\u001b[38;5;124mhttps://www.youtube.com/watch?v=\u001b[39m\u001b[38;5;132;01m{}\u001b[39;00m\u001b[38;5;124m\"\u001b[39m\u001b[38;5;241m.\u001b[39mformat(video_id)\n\u001b[1;32m     12\u001b[0m   movie_name \u001b[38;5;241m=\u001b[39m movie[\u001b[38;5;124m\"\u001b[39m\u001b[38;5;124mmovie_name\u001b[39m\u001b[38;5;124m\"\u001b[39m]\u001b[38;5;241m.\u001b[39mreplace(\u001b[38;5;124m\"\u001b[39m\u001b[38;5;124m,\u001b[39m\u001b[38;5;124m\"\u001b[39m,\u001b[38;5;124m\"\u001b[39m\u001b[38;5;124m\"\u001b[39m)\n",
      "\u001b[0;31mValueError\u001b[0m: too many values to unpack (expected 9)"
     ]
    }
   ],
   "source": [
    "with open(\"./Debug_Files/query_results.csv\", \"w\") as f:\n",
    "  f.write(\"movie_name,video_url,video_title,channel,score\")\n",
    "  f.write(\"\\r\\n\")\n",
    "  for movie in movies:\n",
    "    \n",
    "    query_tokens = query_tokens = \"{} official trailer\".format(movie[\"movie_name\"]).split()\n",
    "    print(movie)\n",
    "    for result in movie[\"query_results\"]:\n",
    "      title, channel, video_id, video_date, premiered, stream, subscribers, views, likes = result\n",
    "\n",
    "      youtube_url = \"https://www.youtube.com/watch?v={}\".format(video_id)\n",
    "      movie_name = movie[\"movie_name\"].replace(\",\",\"\")\n",
    "      title = title.replace(\",\",\"\")\n",
    "      channel = channel.replace(\",\",\"\")\n",
    "\n",
    "      channel_tokens = channel.split(\" \")\n",
    "      title_tokens = title.split(\" \")\n",
    "      score_result = score(channel_tokens=channel_tokens, query_tokens=query_tokens, title_tokens=title_tokens)\n",
    "\n",
    "      #TODO print normalized tokens to debug\n",
    "      \n",
    "      f.write(\"{},{},{},{},{},{},{},{}\".format(movie_name, youtube_url, title, channel, score_result, counter, official_trailer, kwnown_channels_used))\n",
    "      f.write(\"\\r\\n\")\n",
    "      break\n",
    "    break\n",
    "\n",
    "  f.write(\",,,,,,,\")\n",
    "  f.write(\"\\r\\n\")"
   ]
  },
  {
   "cell_type": "code",
   "execution_count": null,
   "metadata": {
    "colab": {
     "base_uri": "https://localhost:8080/",
     "height": 157
    },
    "id": "Rxvf-46J_q52",
    "outputId": "6c6fd62e-b263-4e74-bed7-cc66c0e53e6e"
   },
   "outputs": [],
   "source": [
    "\"\"\"\n",
    "with open(\"file.txt\", \"w\") as f:\n",
    "  for movie in movies:\n",
    "    f.write(\"------------------------------------------------------------------\")\n",
    "    f.write(\"\\r\\n\")\n",
    "    f.write(\"{} Official Trailer\".format(movie[\"movie_name\"]))\n",
    "    f.write(\"\\r\\n\")\n",
    "    f.write(\"Serch url {}\".format(movie[\"query_url\"]))\n",
    "    f.write(\"\\r\\n\")\n",
    "    f.write(\"Movie Release Start {}\".format(movie[\"release_start\"]))\n",
    "    f.write(\"\\r\\n\")\n",
    "    f.write(\"Query: {} Official Trailer\".format(movie[\"movie_name\"]))\n",
    "    f.write(\"\\r\\n\")\n",
    "    f.write(\"Distributor: {}\".format(movie[\"distributor\"]))\n",
    "    f.write(\"\\r\\n\")\n",
    "\n",
    "    results = movie[\"anterior_query_results\"][:5]\n",
    "\n",
    "    f.write(\"\\r\\n\")\n",
    "    f.write(\"Top 5 results uploaded previous to release_start\".format(len(results)))\n",
    "    f.write(\"\\r\\n\")\n",
    "    for result in movie[\"anterior_query_results\"][:5]:\n",
    "      f.write(\"Title: {}, Channel: {}\".format(result[0], result[1]))\n",
    "      f.write(\"\\r\\n\")\n",
    "\n",
    "    results = remove_results_by_channel(movie[\"distributor\"], movie[\"anterior_query_results\"][:5])\n",
    "\n",
    "    f.write(\"\\r\\n\")\n",
    "    f.write(\"Known channel results {}\".format(len(results)))\n",
    "    f.write(\"\\r\\n\")\n",
    "    for result in results:\n",
    "      f.write(\"Title: {}, Channel: {}\".format(result[0], result[1]))\n",
    "      f.write(\"\\r\\n\")\n",
    "    f.write(\"\\r\\n\")\n",
    "\n",
    "    if results == []:\n",
    "      results = movie[\"anterior_query_results\"][:5]\n",
    "\n",
    "\n",
    "    f.write(\"Scored results:\".format(len(results)))\n",
    "    f.write(\"\\r\\n\")\n",
    "\n",
    "    for trailer_primary_result in results:\n",
    "      title, channel, video_id, date, premiered, stream, subscribers, views, likes = trailer_primary_result\n",
    "\n",
    "      if premiered or stream:\n",
    "        continue\n",
    "\n",
    "      title_tokens = title.split(\" \")\n",
    "      channel_tokens = channel.split(\" \")\n",
    "\n",
    "      normalized_title_tokens = []\n",
    "      for title_token in title_tokens:\n",
    "        normalized_title_token = normalize(title_token)\n",
    "        if len(normalized_title_token) > 1:\n",
    "          normalized_title_tokens.append(normalized_title_token)\n",
    "\n",
    "      normalized_channel_tokens = []\n",
    "      for channel_token in channel_tokens:\n",
    "        normalized_channel_tokens.append(normalize(channel_token))\n",
    "\n",
    "      query_tokens = \"{} official trailer\".format(movie[\"movie_name\"]).split()\n",
    "      normalized_query_tokens = []\n",
    "      for query_token in query_tokens:\n",
    "        normalized_query_token = normalize(query_token)\n",
    "        if len(normalized_query_token) > 1:\n",
    "          normalized_query_tokens.append(normalized_query_token)\n",
    "      \n",
    "      matches = 0\n",
    "      for normalized_query_token in normalized_query_tokens:\n",
    "        if normalized_query_token in normalized_title_tokens:\n",
    "          matches += 1\n",
    "      score = matches / len(normalized_query_tokens)\n",
    "    \n",
    "      if score >= 0:\n",
    "        f.write(\"Title: {}, Channel: {}, Score: {}\".format(\" \".join(normalized_title_tokens), \" \".join(normalized_channel_tokens), score))\n",
    "        f.write(\"\\r\\n\")\n",
    "    f.write(\"\\r\\n\")\n",
    "\n",
    "    f.write(\"Posible Official Trailers, with treshold in {}\".format(0.75))\n",
    "    f.write(\"\\r\\n\")\n",
    "\n",
    "    for trailer_primary_result in results:\n",
    "      title, channel, video_id, date, premiered, stream, subscribers, views, likes = trailer_primary_result\n",
    "\n",
    "      if premiered or stream:\n",
    "        continue\n",
    "\n",
    "      title_tokens = title.split(\" \")\n",
    "      channel_tokens = channel.split(\" \")\n",
    "\n",
    "      normalized_title_tokens = []\n",
    "      for title_token in title_tokens:\n",
    "        normalized_title_token = normalize(title_token)\n",
    "        if len(normalized_title_token) > 1:\n",
    "          normalized_title_tokens.append(normalized_title_token)\n",
    "\n",
    "      normalized_channel_tokens = []\n",
    "      for channel_token in channel_tokens:\n",
    "        normalized_channel_tokens.append(normalize(channel_token))\n",
    "\n",
    "      query_tokens = \"{} official trailer\".format(movie[\"movie_name\"]).split()\n",
    "      normalized_query_tokens = []\n",
    "      for query_token in query_tokens:\n",
    "        normalized_query_token = normalize(query_token)\n",
    "        if len(normalized_query_token) > 1:\n",
    "          normalized_query_tokens.append(normalized_query_token)\n",
    "      \n",
    "      matches = 0\n",
    "      for normalized_query_token in normalized_query_tokens:\n",
    "        if normalized_query_token in normalized_title_tokens:\n",
    "          matches += 1\n",
    "      score = matches / len(normalized_query_tokens)\n",
    "    \n",
    "      if score >= 0.75:\n",
    "        f.write(\"Title: {}, Channel: {}, Score: {}\".format(\" \".join(normalized_title_tokens), \" \".join(normalized_channel_tokens), score))\n",
    "        f.write(\"\\r\\n\")\n",
    "    f.write(\"\\r\\n\")\n",
    "\"\"\""
   ]
  }
 ],
 "metadata": {
  "colab": {
   "provenance": []
  },
  "kernelspec": {
   "display_name": "Python 3 (ipykernel)",
   "language": "python",
   "name": "python3"
  },
  "language_info": {
   "codemirror_mode": {
    "name": "ipython",
    "version": 3
   },
   "file_extension": ".py",
   "mimetype": "text/x-python",
   "name": "python",
   "nbconvert_exporter": "python",
   "pygments_lexer": "ipython3",
   "version": "3.10.6"
  }
 },
 "nbformat": 4,
 "nbformat_minor": 1
}
