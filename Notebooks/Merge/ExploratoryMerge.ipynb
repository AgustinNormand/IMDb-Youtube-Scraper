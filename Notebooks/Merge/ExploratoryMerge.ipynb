{
 "cells": [
  {
   "cell_type": "markdown",
   "metadata": {
    "id": "Glpq9VU6mZbk",
    "pycharm": {
     "name": "#%% md\n"
    }
   },
   "source": [
    "# Reading Movies"
   ]
  },
  {
   "cell_type": "code",
   "execution_count": 13,
   "metadata": {
    "id": "vnk-yese9cPk",
    "pycharm": {
     "name": "#%%\n"
    }
   },
   "outputs": [],
   "source": [
    "import ast\n",
    "import csv\n",
    "score_scheme = []\n",
    "with open('ScoreScheme.csv') as f:\n",
    "    reader = csv.DictReader(f)\n",
    "    lst = list(reader)\n",
    "    for item in lst:\n",
    "        if item[\"movie_name\"] == \"\":\n",
    "            continue\n",
    "        if item[\"video_url\"] == \"None\":\n",
    "            continue\n",
    "        score_scheme.append(item)"
   ]
  },
  {
   "cell_type": "code",
   "execution_count": 14,
   "metadata": {
    "colab": {
     "base_uri": "https://localhost:8080/"
    },
    "id": "0xdWtoRA_pGS",
    "outputId": "1b2797a7-17d5-4216-f531-b175fc236d32",
    "pycharm": {
     "name": "#%%\n"
    }
   },
   "outputs": [
    {
     "data": {
      "text/plain": "2870"
     },
     "execution_count": 14,
     "metadata": {},
     "output_type": "execute_result"
    }
   ],
   "source": [
    "len(score_scheme)"
   ]
  },
  {
   "cell_type": "code",
   "execution_count": 3,
   "outputs": [],
   "source": [
    "movies = []\n",
    "with open('Output.csv') as f:\n",
    "    reader = csv.DictReader(f)\n",
    "    lst = list(reader)\n",
    "    for item in lst:\n",
    "        item[\"query_results\"] = ast.literal_eval(item[\"query_results\"])\n",
    "        movies.append(item)"
   ],
   "metadata": {
    "collapsed": false,
    "pycharm": {
     "name": "#%%\n"
    }
   }
  },
  {
   "cell_type": "code",
   "execution_count": 4,
   "outputs": [
    {
     "data": {
      "text/plain": "1967"
     },
     "execution_count": 4,
     "metadata": {},
     "output_type": "execute_result"
    }
   ],
   "source": [
    "len(movies)"
   ],
   "metadata": {
    "collapsed": false,
    "pycharm": {
     "name": "#%%\n"
    }
   }
  },
  {
   "cell_type": "markdown",
   "metadata": {
    "pycharm": {
     "name": "#%% md\n"
    }
   },
   "source": [
    "# Merging Score Scheme File and Movies"
   ]
  },
  {
   "cell_type": "code",
   "execution_count": 5,
   "outputs": [
    {
     "data": {
      "text/plain": "1051"
     },
     "execution_count": 5,
     "metadata": {},
     "output_type": "execute_result"
    }
   ],
   "source": [
    "movies_with_prerelease = []\n",
    "for movie in movies:\n",
    "    if movie[\"no_prerelease\"] == \"1\":\n",
    "        continue\n",
    "    movies_with_prerelease.append(movie)\n",
    "len(movies_with_prerelease)"
   ],
   "metadata": {
    "collapsed": false,
    "pycharm": {
     "name": "#%%\n"
    }
   }
  },
  {
   "cell_type": "code",
   "execution_count": 15,
   "outputs": [
    {
     "name": "stdout",
     "output_type": "stream",
     "text": [
      "Noah\n",
      "Noah\n",
      "Noah\n",
      "Noah\n"
     ]
    }
   ],
   "source": [
    "index_ignore = []\n",
    "for movie in movies_with_prerelease:\n",
    "    found_movie = False\n",
    "    movie_in_previous_section = False\n",
    "    for index, result in enumerate(score_scheme):\n",
    "        if movie[\"movie_name\"].replace(\",\", \"\") == result[\"movie_name\"]:\n",
    "            found_movie = True\n",
    "            if movie_in_previous_section:\n",
    "                print(movie[\"movie_name\"])\n",
    "        else:\n",
    "            if found_movie:\n",
    "                movie_in_previous_section = True\n"
   ],
   "metadata": {
    "collapsed": false,
    "pycharm": {
     "name": "#%%\n"
    }
   }
  },
  {
   "cell_type": "code",
   "execution_count": 16,
   "outputs": [],
   "source": [
    "index_ignore = []\n",
    "movies_with_results = []\n",
    "for movie in movies_with_prerelease:\n",
    "    movie[\"results\"] = []\n",
    "    found_movie = False\n",
    "    for index, result in enumerate(score_scheme):\n",
    "        if result[\"video_url\"] == \"None\":\n",
    "            continue\n",
    "        if movie[\"movie_name\"].replace(\",\", \"\") == result[\"movie_name\"]:\n",
    "            if index not in index_ignore:\n",
    "                found_movie = True\n",
    "                movie[\"results\"].append(result)\n",
    "                index_ignore.append(index)\n",
    "        else:\n",
    "            if found_movie:\n",
    "                break\n",
    "    movies_with_results.append(movie)"
   ],
   "metadata": {
    "collapsed": false,
    "pycharm": {
     "name": "#%%\n"
    }
   }
  },
  {
   "cell_type": "code",
   "execution_count": 22,
   "outputs": [
    {
     "name": "stdout",
     "output_type": "stream",
     "text": [
      "3/28/2014\n",
      "https://www.youtube.com/watch?v=tRg0Ms4lMII\n",
      "https://www.youtube.com/watch?v=UAfJulXFYlc\n",
      "4/9/2019\n",
      "https://www.youtube.com/watch?v=fdu10cX3pWA\n",
      "https://www.youtube.com/watch?v=UAfJulXFYlc\n"
     ]
    }
   ],
   "source": [
    "for movie in movies:\n",
    "    if movie[\"movie_name\"] == \"Noah\":\n",
    "        print(movie[\"release_start\"])\n",
    "        for result in movie[\"results\"]:\n",
    "            print(result[\"video_url\"])"
   ],
   "metadata": {
    "collapsed": false,
    "pycharm": {
     "name": "#%%\n"
    }
   }
  },
  {
   "cell_type": "code",
   "execution_count": 17,
   "outputs": [
    {
     "name": "stdout",
     "output_type": "stream",
     "text": [
      "The Dark Knight\n",
      "Fast & Furious\n",
      "Clash of the Titans\n",
      "Watchmen\n",
      "Superman Returns\n",
      "The Divergent Series: Insurgent\n",
      "Ghost Rider\n",
      "Happy Feet\n",
      "Casino Royale\n",
      "Cloverfield\n",
      "Chicken Little\n",
      "Get Smart\n",
      "Inglourious Basterds\n",
      "Robin Hood\n",
      "10,000 BC\n",
      "I Now Pronounce You Chuck & Larry\n",
      "Live Free or Die Hard\n",
      "A Nightmare on Elm Street\n",
      "Four Christmases\n",
      "Knocked Up\n",
      "The Curious Case of Benjamin Button\n",
      "TMNT\n",
      "Unstoppable\n",
      "Bridge to Terabithia\n",
      "The Forbidden Kingdom\n",
      "Bride Wars\n",
      "1408\n",
      "Deja Vu\n",
      "Pinocchio\n",
      "The Letters\n",
      "The Abandoned\n",
      "Blindness\n",
      "Persecuted\n",
      "The Last Legion\n",
      "Charlie Bartlett\n",
      "Burnt\n",
      "Hot Rod\n",
      "Flash of Genius\n",
      "The Notebook II\n"
     ]
    },
    {
     "data": {
      "text/plain": "39"
     },
     "execution_count": 17,
     "metadata": {},
     "output_type": "execute_result"
    }
   ],
   "source": [
    "count = 0\n",
    "for movie in movies_with_results:\n",
    "    if movie[\"results\"] == []:\n",
    "        print(movie[\"movie_name\"])\n",
    "        count += 1\n",
    "count"
   ],
   "metadata": {
    "collapsed": false,
    "pycharm": {
     "name": "#%%\n"
    }
   }
  },
  {
   "cell_type": "code",
   "execution_count": 18,
   "outputs": [],
   "source": [
    "movies_with_selected_trailers = []\n",
    "for movie in movies_with_results:\n",
    "    results = []\n",
    "    for result in movie[\"results\"]:\n",
    "        if result[\"official\"] == \"\" and result[\"teaser\"] == \"\":\n",
    "            continue\n",
    "        results.append(result)\n",
    "    movie[\"selected_trailers\"] = results\n",
    "    movies_with_selected_trailers.append(movie)"
   ],
   "metadata": {
    "collapsed": false,
    "pycharm": {
     "name": "#%%\n"
    }
   }
  },
  {
   "cell_type": "code",
   "execution_count": 19,
   "outputs": [
    {
     "name": "stdout",
     "output_type": "stream",
     "text": [
      "Spider-Man 3\n",
      "Iron Man 2\n",
      "Shrek the Third\n",
      "Pirates of the Caribbean: At World's End\n",
      "Transformers: Revenge of the Fallen\n",
      "Indiana Jones and the Kingdom of the Crystal Skull\n",
      "Transformers: Dark of the Moon\n",
      "Pirates of the Caribbean: On Stranger Tides\n",
      "I Am Legend\n",
      "Harry Potter and the Order of the Phoenix\n",
      "Star Trek\n",
      "The Simpsons Movie\n",
      "300\n",
      "Shrek Forever After\n",
      "Twilight\n",
      "Maleficent\n",
      "The Bourne Ultimatum\n",
      "Up\n",
      "World War Z\n",
      "Teenage Mutant Ninja Turtles\n",
      "Madagascar: Escape 2 Africa\n",
      "Madagascar 3: Europe's Most Wanted\n",
      "Monsters vs. Aliens\n",
      "Valentine's Day\n",
      "The Incredible Hulk\n",
      "G.I. Joe: The Rise of Cobra\n",
      "Home\n",
      "Wanted\n",
      "Rush Hour 3\n",
      "Megamind\n",
      "Horton Hears a Who!\n",
      "The Hangover\n",
      "National Treasure: Book of Secrets\n",
      "How to Train Your Dragon\n",
      "American Gangster\n",
      "Terminator Salvation\n",
      "High School Musical 3: Senior Year\n",
      "Shutter Island\n",
      "Paranormal Activity 2\n",
      "The Mummy: Tomb of the Dragon Emperor\n",
      "The Last Airbender\n",
      "Rango\n",
      "Marley & Me\n",
      "Ocean's Thirteen\n",
      "Super 8\n",
      "Hellboy II: The Golden Army\n",
      "Superbad\n",
      "The Book of Eli\n",
      "Mr. Peabody & Sherman\n",
      "Evan Almighty\n",
      "Beowulf\n",
      "Bolt\n",
      "The Golden Compass\n",
      "Evil Dead\n",
      "The Town\n",
      "Resident Evil: Extinction\n",
      "Mortal Kombat\n",
      "Heaven Is for Real\n",
      "Sarah Landon and the Paranormal Hour\n",
      "Ponyo\n",
      "Half Brothers\n",
      "Moses\n",
      "Jane Got a Gun\n",
      "The Metropolitan Opera HD Live: Verdi: Luisa Miller\n",
      "Sword Art Online: Progressive - Aria of a Starless Night\n",
      "Gold\n",
      "Meet Dave\n"
     ]
    },
    {
     "data": {
      "text/plain": "67"
     },
     "execution_count": 19,
     "metadata": {},
     "output_type": "execute_result"
    }
   ],
   "source": [
    "count = 0\n",
    "for movie in movies_with_selected_trailers:\n",
    "    if movie[\"selected_trailers\"] == [] and movie[\"results\"] != []:\n",
    "        print(movie[\"movie_name\"])\n",
    "        count += 1\n",
    "count"
   ],
   "metadata": {
    "collapsed": false,
    "pycharm": {
     "name": "#%%\n"
    }
   }
  },
  {
   "cell_type": "code",
   "execution_count": 37,
   "outputs": [],
   "source": [
    "ampliated_movies = []\n",
    "for movie in movies_with_results:\n",
    "    ampliated_results = []\n",
    "    for result in movie[\"selected_trailers\"]:\n",
    "        not_ampliated_video_id = result[\"video_url\"].replace(\"https://www.youtube.com/watch?v=\", \"\")\n",
    "        found = False\n",
    "        for query_result in movie[\"query_results\"]:\n",
    "            title, channel, video_id, result_date_str, premiered, stream, subscribers, views, likes = query_result\n",
    "            if not_ampliated_video_id == video_id:\n",
    "                result[\"release_date\"] = result_date_str\n",
    "                result[\"views\"] = views\n",
    "                result[\"likes\"] = likes\n",
    "                ampliated_results.append(result)\n",
    "                found = True\n",
    "                break\n",
    "        if not found:\n",
    "            result[\"release_date\"] = \"TO-COMPLETE\"\n",
    "            result[\"views\"] = \"TO-COMPLETE\"\n",
    "            result[\"likes\"] = \"TO-COMPLETE\"\n",
    "            ampliated_results.append(result)\n",
    "    movie[\"ampliated_results\"] = ampliated_results\n",
    "    ampliated_movies.append(movie)\n"
   ],
   "metadata": {
    "collapsed": false,
    "pycharm": {
     "name": "#%%\n"
    }
   }
  },
  {
   "cell_type": "code",
   "execution_count": 116,
   "outputs": [
    {
     "data": {
      "text/plain": "{'uniqueID': '0',\n 'movie_name': 'Avengers: Endgame',\n 'url_bom': 'https://www.boxofficemojo.com/release/rl3059975681/',\n 'success': '1',\n 'gross_dom': '858373000.0',\n 'gross_int': '1939128328.0',\n 'gross_worldwide': '2797501328.0',\n 'distributor': 'Walt Disney Studios Motion Pictures',\n 'opening_box': '357115007.0',\n 'opening_theater': '4662.0',\n 'budget': '356000000.0',\n 'release_start': '4/26/2019',\n 'release_end': '9/12/2019',\n 'mpaa': 'PG-13',\n 'run_time': '181.0',\n 'Action': '1',\n 'Adventure': '1',\n 'Drama': '1',\n 'Sci-Fi': '1',\n 'Fantasy': '0',\n 'Animation': '0',\n 'Family': '0',\n 'Musical': '0',\n 'Horror': '0',\n 'Comedy': '0',\n 'Thriller': '0',\n 'Romance': '0',\n 'Mystery': '0',\n 'Crime': '0',\n 'War': '0',\n 'Music': '0',\n 'Sport': '0',\n 'Biography': '0',\n 'History': '0',\n 'Documentary': '0',\n 'Western': '0',\n 'Film-Noir': '0',\n 'release_length': '250.0',\n 'url_imdb': 'https://imdb.com/title/tt4154796',\n 'summary': \"After the devastating events of Avengers: Infinity War, the universe is in ruins. With the help of remaining allies, the Avengers assemble once more in order to reverse Thanos' actions and restore balance to the universe.\",\n 'user_raiting': '8.4',\n 'user_reviews': '9535.0',\n 'critic_rating': '78.0',\n 'critic_reviews': '596.0',\n 'writers': '3',\n 'directors': '2',\n 'movie_star': '18',\n 'query_url': 'https://www.youtube.com/results?search_query=avengers%3A+endgame+official+trailer',\n 'no_prerelease': '0',\n 'query_results': [[\"Marvel Studios' Avengers: Endgame - Official Trailer\",\n   'Marvel Entertainment',\n   'TcMBFSGVi1c',\n   '3/14/2019',\n   False,\n   False,\n   '19.9M',\n   '153,515,424',\n   '3,385,792'],\n  [\"Marvel Studios' Avengers - Official Trailer\",\n   'Marvel Entertainment',\n   'hA6hldpSTF8',\n   '12/7/2018',\n   False,\n   False,\n   '19.9M',\n   '107,347,927',\n   '3,365,646'],\n  ['Marvel Studios’ Avengers: Endgame | “To the End”',\n   'Marvel Entertainment',\n   '0jNvJU52LvU',\n   '4/16/2019',\n   False,\n   False,\n   '19.9M',\n   '37,317,134',\n   '1,240,108'],\n  ['Marvel Studios’ Avengers: Endgame | Special Look',\n   'Marvel Entertainment',\n   'KCSNFZKbhZE',\n   '4/2/2019',\n   False,\n   False,\n   '19.9M',\n   '30,414,837',\n   '795,380'],\n  ['Avengers: Endgame (Tráiler Final | Dob Español Latino) | DubZoneLA',\n   'DubZone: Latinoamérica',\n   'KdL8ucqi1F8',\n   '3/15/2019',\n   True,\n   False,\n   '20.8K',\n   '2,643,813',\n   '65,973'],\n  [\"Marvel Studios' Avengers: Endgame - Big Game TV Spot\",\n   'Marvel Entertainment',\n   '-iFq6IcAxBc',\n   '2/3/2019',\n   False,\n   False,\n   '19.9M',\n   '22,447,921',\n   '579,226'],\n  ['AVENGERS: ENDGAME All Movie Clips - Final Battle (2019)',\n   'Entertainment Access',\n   'BKviRM0KF2A',\n   '4/1/2022',\n   False,\n   False,\n   '6.74M',\n   '7,971,581',\n   '68,989'],\n  ['Avengers: Endgame – Tráiler oficial #2 (Subtitulado)',\n   'Marvel Latinoamérica Oficial',\n   'PyakRSni-c0',\n   '3/14/2019',\n   False,\n   False,\n   '1.5M',\n   '9,567,848',\n   '233,926'],\n  ['AVENGERS - END GAME - trailer music (Epic version)',\n   'Epic Music Paradise',\n   'Nm9dKIEamqc',\n   '12/8/2018',\n   False,\n   False,\n   '15.6K',\n   '8,893,840',\n   '97,432'],\n  ['Avengers: Endgame – Tráiler oficial #1 (Subtitulado)',\n   'Marvel Latinoamérica Oficial',\n   'znk2OICHbjY',\n   '12/7/2018',\n   False,\n   False,\n   '1.5M',\n   '7,469,146',\n   '226,871'],\n  ['Peppa Pig: Endgame - Official Trailer',\n   'Peppa Pig Parodies',\n   'Oozdpz12Ejo',\n   '8/15/2019',\n   False,\n   False,\n   '1.45M',\n   '15,304,961',\n   '391,547'],\n  ['Avengers: Endgame - \"To The End\" Subtitulado',\n   'Marvel Latinoamérica Oficial',\n   'QbCBVsYVogI',\n   '4/20/2019',\n   False,\n   False,\n   '1.5M',\n   '916,646',\n   '47,682'],\n  [\"Marvel Studios' Avengers: Infinity War Official Trailer\",\n   'Marvel Entertainment',\n   '6ZfuNTqbHE8',\n   '11/29/2017',\n   False,\n   False,\n   '19.9M',\n   '257,335,708',\n   '4,083,701'],\n  ['AVENGERS 4: ENDGAME Official Trailer #2 (2019) Marvel, Superhero Movie HD',\n   'Rapid Trailer',\n   'aNkJ6QwacGE',\n   '3/14/2019',\n   False,\n   False,\n   '1.05M',\n   '4,064,962',\n   '53,842'],\n  ['AVENGERS 4: ENDGAME Trailer (4K ULTRA HD) NEW 2019',\n   'FilmSpot Trailer',\n   'NVf7qLnEuvQ',\n   '12/7/2018',\n   False,\n   False,\n   '5.17M',\n   '1,220,789',\n   '5,942'],\n  ['Vengadores: Endgame de Marvel Studios | Nuevo Tráiler Oficial en español | HD',\n   'Marvel España',\n   'UQ3bqYKnyhM',\n   '3/14/2019',\n   False,\n   False,\n   '376K',\n   '3,094,447',\n   '48,001'],\n  ['Vengadores: Endgame | Tráiler oficial en español | HD',\n   'Marvel España',\n   'svLSGZkTzC0',\n   '12/7/2018',\n   False,\n   False,\n   '376K',\n   '4,296,558',\n   '56,285'],\n  ['Avengers: Endgame (2019) - To The End Official Trailer',\n   'GameSpot Universe Trailers',\n   'CIfm9NQzgU0',\n   '4/16/2019',\n   False,\n   False,\n   '227K',\n   '803,183',\n   None],\n  ['Avengers: Infinity War Trailer #1 (2018) | Movieclips Trailers',\n   'Rotten Tomatoes Trailers',\n   'B65hW9YYY5A',\n   '11/29/2017',\n   False,\n   False,\n   '15.7M',\n   '8,394,565',\n   '110,149'],\n  ['AVENGERS: ENDGAME Trailer 2 Music Version | Best Proper Movie Trailer Soundtrack Final Theme Song',\n   'Feature Presentations',\n   'f4WxRpF_ZAs',\n   '3/17/2019',\n   False,\n   False,\n   '31.3K',\n   '3,558,338',\n   '46,270']],\n 'results': [{'movie_name': 'Avengers: Endgame',\n   'video_url': 'https://www.youtube.com/watch?v=TcMBFSGVi1c',\n   'video_title': \"Marvel Studios' Avengers: Endgame - Official Trailer\",\n   'channel': 'Marvel Entertainment',\n   'score': '1.0',\n   'id': '1',\n   'official_trailer': '1',\n   'known_channels_used': '1',\n   'official': '1',\n   'teaser': '',\n   'release_date': '3/14/2019',\n   'views': '153,515,424',\n   'likes': '3,385,792'},\n  {'movie_name': 'Avengers: Endgame',\n   'video_url': 'https://www.youtube.com/watch?v=hA6hldpSTF8',\n   'video_title': \"Marvel Studios' Avengers - Official Trailer\",\n   'channel': 'Marvel Entertainment',\n   'score': '0.75',\n   'id': '2',\n   'official_trailer': '1',\n   'known_channels_used': '1',\n   'official': '1',\n   'teaser': '',\n   'release_date': '12/7/2018',\n   'views': '107,347,927',\n   'likes': '3,365,646'},\n  {'movie_name': 'Avengers: Endgame',\n   'video_url': 'https://www.youtube.com/watch?v=0jNvJU52LvU',\n   'video_title': 'Marvel Studios’ Avengers: Endgame | “To the End”',\n   'channel': 'Marvel Entertainment',\n   'score': '0.5',\n   'id': '3',\n   'official_trailer': '0',\n   'known_channels_used': '1',\n   'official': '',\n   'teaser': '',\n   'release_date': '4/16/2019',\n   'views': '37,317,134',\n   'likes': '1,240,108'},\n  {'movie_name': 'Avengers: Endgame',\n   'video_url': 'https://www.youtube.com/watch?v=KCSNFZKbhZE',\n   'video_title': 'Marvel Studios’ Avengers: Endgame | Special Look',\n   'channel': 'Marvel Entertainment',\n   'score': '0.5',\n   'id': '4',\n   'official_trailer': '0',\n   'known_channels_used': '1',\n   'official': '',\n   'teaser': '',\n   'release_date': '4/2/2019',\n   'views': '30,414,837',\n   'likes': '795,380'},\n  {'movie_name': 'Avengers: Endgame',\n   'video_url': 'https://www.youtube.com/watch?v=-iFq6IcAxBc',\n   'video_title': \"Marvel Studios' Avengers: Endgame - Big Game TV Spot\",\n   'channel': 'Marvel Entertainment',\n   'score': '0.5',\n   'id': '5',\n   'official_trailer': '0',\n   'known_channels_used': '1',\n   'official': '',\n   'teaser': '',\n   'release_date': '2/3/2019',\n   'views': '22,447,921',\n   'likes': '579,226'}],\n 'ampliated_results': [{'movie_name': 'Avengers: Endgame',\n   'video_url': 'https://www.youtube.com/watch?v=TcMBFSGVi1c',\n   'video_title': \"Marvel Studios' Avengers: Endgame - Official Trailer\",\n   'channel': 'Marvel Entertainment',\n   'score': '1.0',\n   'id': '1',\n   'official_trailer': '1',\n   'known_channels_used': '1',\n   'official': '1',\n   'teaser': '',\n   'release_date': '3/14/2019',\n   'views': '153,515,424',\n   'likes': '3,385,792'},\n  {'movie_name': 'Avengers: Endgame',\n   'video_url': 'https://www.youtube.com/watch?v=hA6hldpSTF8',\n   'video_title': \"Marvel Studios' Avengers - Official Trailer\",\n   'channel': 'Marvel Entertainment',\n   'score': '0.75',\n   'id': '2',\n   'official_trailer': '1',\n   'known_channels_used': '1',\n   'official': '1',\n   'teaser': '',\n   'release_date': '12/7/2018',\n   'views': '107,347,927',\n   'likes': '3,365,646'},\n  {'movie_name': 'Avengers: Endgame',\n   'video_url': 'https://www.youtube.com/watch?v=0jNvJU52LvU',\n   'video_title': 'Marvel Studios’ Avengers: Endgame | “To the End”',\n   'channel': 'Marvel Entertainment',\n   'score': '0.5',\n   'id': '3',\n   'official_trailer': '0',\n   'known_channels_used': '1',\n   'official': '',\n   'teaser': '',\n   'release_date': '4/16/2019',\n   'views': '37,317,134',\n   'likes': '1,240,108'},\n  {'movie_name': 'Avengers: Endgame',\n   'video_url': 'https://www.youtube.com/watch?v=KCSNFZKbhZE',\n   'video_title': 'Marvel Studios’ Avengers: Endgame | Special Look',\n   'channel': 'Marvel Entertainment',\n   'score': '0.5',\n   'id': '4',\n   'official_trailer': '0',\n   'known_channels_used': '1',\n   'official': '',\n   'teaser': '',\n   'release_date': '4/2/2019',\n   'views': '30,414,837',\n   'likes': '795,380'},\n  {'movie_name': 'Avengers: Endgame',\n   'video_url': 'https://www.youtube.com/watch?v=-iFq6IcAxBc',\n   'video_title': \"Marvel Studios' Avengers: Endgame - Big Game TV Spot\",\n   'channel': 'Marvel Entertainment',\n   'score': '0.5',\n   'id': '5',\n   'official_trailer': '0',\n   'known_channels_used': '1',\n   'official': '',\n   'teaser': '',\n   'release_date': '2/3/2019',\n   'views': '22,447,921',\n   'likes': '579,226'}]}"
     },
     "execution_count": 116,
     "metadata": {},
     "output_type": "execute_result"
    }
   ],
   "source": [
    "ampliated_movies[0]"
   ],
   "metadata": {
    "collapsed": false,
    "pycharm": {
     "name": "#%%\n"
    }
   }
  },
  {
   "cell_type": "code",
   "execution_count": 27,
   "outputs": [],
   "source": [
    "completed_movies = []\n",
    "for movie in ampliated_movies:\n",
    "    results = []\n",
    "    for result in movie[\"ampliated_results\"]:\n",
    "        if result[\"video_url\"] == \"https://www.youtube.com/watch?v=W6xUnDKcHNA\":\n",
    "            result[\"release_date\"] = '7/23/2013'\n",
    "            result[\"views\"] = '191,922'\n",
    "            result[\"likes\"] = '470'\n",
    "        if result[\"video_url\"] == \"https://www.youtube.com/watch?v=0sH0__SpV88\":\n",
    "            result[\"release_date\"] = '3/9/2015'\n",
    "            result[\"views\"] = '6,768,826'\n",
    "            result[\"likes\"] = '15,357'\n",
    "        if result[\"video_url\"] == \"https://www.youtube.com/watch?v=HydiAICZq6I\":\n",
    "            result[\"release_date\"] = \"6/3/2014\"\n",
    "            result[\"views\"] = \"547,288\"\n",
    "            result[\"likes\"] = \"971\"\n",
    "        results.append(result)\n",
    "    movie[\"completed_results\"] = results\n",
    "    completed_movies.append(movie)\n"
   ],
   "metadata": {
    "collapsed": false,
    "pycharm": {
     "name": "#%%\n"
    }
   }
  },
  {
   "cell_type": "code",
   "execution_count": 30,
   "outputs": [],
   "source": [
    "for movie in completed_movies:\n",
    "    for result in movie[\"completed_results\"]:\n",
    "        if result[\"release_date\"] == \"TO-COMPLETE\":\n",
    "            print(result)"
   ],
   "metadata": {
    "collapsed": false,
    "pycharm": {
     "name": "#%%\n"
    }
   }
  },
  {
   "cell_type": "code",
   "execution_count": 148,
   "outputs": [
    {
     "name": "stdout",
     "output_type": "stream",
     "text": [
      "{'movie_name': 'Pirates of the Caribbean: On Stranger Tides', 'video_url': 'https://www.youtube.com/watch?v=qc-44WJkWAw', 'video_title': 'Pirates of the Caribbean On Stranger Tides Official Trailer', 'channel': 'carteleramax', 'score': '1.0', 'id': '3', 'official_trailer': '1', 'known_channels_used': '0', 'official': '', 'teaser': '', 'release_date': '2/18/2011', 'views': '57', 'likes': 'No'}\n",
      "{'movie_name': 'Night at the Museum: Battle of the Smithsonian', 'video_url': 'https://www.youtube.com/watch?v=G_xuIyhYyrc', 'video_title': 'Night at the Museum Battle of the Smithsonian trailer', 'channel': 'jucedmovietrailer', 'score': '0.9', 'id': '5', 'official_trailer': '1', 'known_channels_used': '0', 'official': '', 'teaser': '', 'release_date': '5/19/2009', 'views': '86', 'likes': '1like'}\n",
      "{'movie_name': 'Ice Age: Continental Drift', 'video_url': 'https://www.youtube.com/watch?v=676f6baOgWY', 'video_title': 'Ice Age: Continental Drift Official Trailer | HD - English', 'channel': 'ESMTrailersHD', 'score': '1.0', 'id': '5', 'official_trailer': '1', 'known_channels_used': '0', 'official': '', 'teaser': '', 'release_date': '1/17/2011', 'views': '948', 'likes': '1like'}\n",
      "{'movie_name': 'Fifty Shades Freed', 'video_url': 'https://www.youtube.com/watch?v=yDEjsLFe_7w', 'video_title': 'Fifty Shades Freed | Trailer | Own it now on Digital', 'channel': 'Universal Pictures All-Access', 'score': '0.8', 'id': '3', 'official_trailer': '1', 'known_channels_used': '0', 'official': '', 'teaser': '', 'release_date': '2/8/2018', 'views': '91,959', 'likes': None}\n",
      "{'movie_name': 'Super 8', 'video_url': 'https://www.youtube.com/watch?v=TWOJQOzNmCQ', 'video_title': 'Super 8 Official Movie Trailer (HD) 2011', 'channel': 'MovieTrailersHot', 'score': '1.0', 'id': '2', 'official_trailer': '1', 'known_channels_used': '0', 'official': '', 'teaser': '', 'release_date': '4/7/2011', 'views': '364', 'likes': 'No'}\n",
      "{'movie_name': 'Wrath of the Titans', 'video_url': 'https://www.youtube.com/watch?v=IHHPPX6dnYU', 'video_title': 'Wrath of the Titans - Official Trailer #1 (HD)', 'channel': 'Warner Bros. Pictures', 'score': '1.0', 'id': '1', 'official_trailer': '1', 'known_channels_used': '1', 'official': '1', 'teaser': '', 'release_date': '12/20/2011', 'views': '2,097,584', 'likes': None}\n",
      "{'movie_name': 'Temptation: Confessions of a Marriage Counselor', 'video_url': 'https://www.youtube.com/watch?v=EGuCIWlKB0M', 'video_title': \"Tyler Perry's Temptation: Confessions of a Marriage Counselor - Trailer\", 'channel': 'LionsgateVOD', 'score': '0.86', 'id': '2', 'official_trailer': '1', 'known_channels_used': '0', 'official': '', 'teaser': '', 'release_date': None, 'views': None, 'likes': None}\n",
      "{'movie_name': 'Temptation: Confessions of a Marriage Counselor', 'video_url': 'https://www.youtube.com/watch?v=u0V61lrjFqg', 'video_title': \"Tyler Perry's Temptation: Confessions of a Marriage Counselor - 10 Minute Preview\", 'channel': 'LionsgateVOD', 'score': '0.71', 'id': '3', 'official_trailer': '0', 'known_channels_used': '0', 'official': '', 'teaser': '', 'release_date': None, 'views': None, 'likes': None}\n",
      "{'movie_name': 'London Has Fallen', 'video_url': 'https://www.youtube.com/watch?v=GAeWcYODMoQ', 'video_title': 'London Has Fallen - Trailer', 'channel': 'Universal Pictures All-Access', 'score': '0.8', 'id': '1', 'official_trailer': '1', 'known_channels_used': '0', 'official': '1', 'teaser': '', 'release_date': '3/3/2016', 'views': '176,500', 'likes': None}\n",
      "{'movie_name': 'Proud American', 'video_url': 'https://www.youtube.com/watch?v=-jGNV5zg-Zg', 'video_title': 'Proud American - Theatrical Teaser', 'channel': 'bradyemmel', 'score': '0.5', 'id': '3', 'official_trailer': '0', 'known_channels_used': '0', 'official': '', 'teaser': '', 'release_date': '5/22/2008', 'views': '413', 'likes': '1like'}\n",
      "{'movie_name': 'Call Jane', 'video_url': 'https://www.youtube.com/watch?v=bOcEoE2YQ_4', 'video_title': 'Call Jane Trailer | On Digital and OnDemand November 29', 'channel': 'Front Row Filmed Entertainment', 'score': '0.75', 'id': '6', 'official_trailer': '1', 'known_channels_used': '0', 'official': '', 'teaser': '', 'release_date': '10/18/2022', 'views': '266', 'likes': '1like'}\n",
      "{'movie_name': 'On the Come Up', 'video_url': 'https://www.youtube.com/watch?v=OjVkOo5qJD4', 'video_title': 'ON THE COME UP Trailer 2022 Jamila Gray Sanaa Lathan Drama Movie', 'channel': 'Cinema Playground International', 'score': '0.83', 'id': '7', 'official_trailer': '1', 'known_channels_used': '0', 'official': '', 'teaser': '', 'release_date': '9/2/2022', 'views': '65', 'likes': 'No'}\n",
      "{'movie_name': 'Pokémon the Movie: The Power of Us', 'video_url': 'https://www.youtube.com/watch?v=58b5vZ2zvk4', 'video_title': 'Pokémon The Movie: The Power Of Us - Official Full Trailer (2018)', 'channel': 'GameSpot Universe Trailers', 'score': '1.0', 'id': '6', 'official_trailer': '1', 'known_channels_used': '0', 'official': '', 'teaser': '', 'release_date': '10/23/2018', 'views': '38,141', 'likes': None}\n",
      "{'movie_name': 'Pokémon the Movie: The Power of Us', 'video_url': 'https://www.youtube.com/watch?v=iruxLKzTLTw', 'video_title': 'Pokémon The Movie: The Power Of Us - Teaser Trailer', 'channel': 'GameSpot Universe Trailers', 'score': '0.89', 'id': '8', 'official_trailer': '1', 'known_channels_used': '0', 'official': '', 'teaser': '', 'release_date': '7/30/2018', 'views': '9,452', 'likes': None}\n",
      "{'movie_name': 'Ponyo', 'video_url': 'https://www.youtube.com/watch?v=M12OWkhr8ac', 'video_title': 'Ponyo Trailer (Deutsch/German)', 'channel': 'StarsImUniversum', 'score': '0.67', 'id': '2', 'official_trailer': '0', 'known_channels_used': '0', 'official': '', 'teaser': '', 'release_date': None, 'views': None, 'likes': None}\n",
      "{'movie_name': 'Infinite Storm', 'video_url': 'https://www.youtube.com/watch?v=H2I4x5ITSQQ', 'video_title': 'Infinite Storm | Official Trailer | Horror Brains', 'channel': 'Horror Brains', 'score': '1.0', 'id': '6', 'official_trailer': '1', 'known_channels_used': '0', 'official': '', 'teaser': '', 'release_date': '3/2/2022', 'views': '17,506', 'likes': None}\n",
      "{'movie_name': 'Running the Bases', 'video_url': 'https://www.youtube.com/watch?v=G-yaGyi6ujU', 'video_title': 'Running the Bases Trailer @IMDb', 'channel': 'Shark Movies HD', 'score': '0.8', 'id': '5', 'official_trailer': '1', 'known_channels_used': '0', 'official': '', 'teaser': '', 'release_date': '9/16/2022', 'views': '126', 'likes': '1like'}\n",
      "{'movie_name': 'Running the Bases', 'video_url': 'https://www.youtube.com/watch?v=8NFuQ24EWT8', 'video_title': 'RUNNING THE BASES (English) | Trailer | Brett Varvel | Cameron Arnett | Jimmy Womble', 'channel': 'Ratna-Raj', 'score': '0.8', 'id': '8', 'official_trailer': '1', 'known_channels_used': '0', 'official': '', 'teaser': '', 'release_date': '9/16/2022', 'views': '184', 'likes': '1like'}\n",
      "{'movie_name': 'The Quintessential Quintuplets Movie', 'video_url': 'https://www.youtube.com/watch?v=s_C0jGdC0R8', 'video_title': 'The Quintessential Quintuplets Movie - official trailer 2 | Go-Tōbun no Hanayome | #anime  #Ananime', 'channel': 'AN Animeアニメ', 'score': '1.0', 'id': '7', 'official_trailer': '1', 'known_channels_used': '0', 'official': '', 'teaser': '', 'release_date': '4/19/2022', 'views': '117', 'likes': '1like'}\n",
      "{'movie_name': 'Professor Marston & the Wonder Women', 'video_url': 'https://www.youtube.com/watch?v=WTzIqZiENsg', 'video_title': 'Professor Marston & the Wonder Women - Official Trailer #1 [HD] - Subtitulado', 'channel': 'La Pochoclera', 'score': '1.0', 'id': '1', 'official_trailer': '1', 'known_channels_used': '0', 'official': '', 'teaser': '', 'release_date': '7/19/2017', 'views': '281', 'likes': '1like'}\n",
      "{'movie_name': 'Finding You', 'video_url': 'https://www.youtube.com/watch?v=0MYiMkS06b0', 'video_title': 'FINDING YOU official trailer 2021', 'channel': 'Hollywood trailers', 'score': '1.0', 'id': '3', 'official_trailer': '1', 'known_channels_used': '0', 'official': '', 'teaser': '', 'release_date': '3/17/2021', 'views': '16', 'likes': 'No'}\n",
      "{'movie_name': 'Assassination Nation', 'video_url': 'https://www.youtube.com/watch?v=kf2pWOokLQU', 'video_title': 'Assassination Nation | Official HD Trailer (2018) | Film Threat Trailers', 'channel': 'Film Threat', 'score': '1.0', 'id': '4', 'official_trailer': '1', 'known_channels_used': '0', 'official': '', 'teaser': '', 'release_date': '6/29/2018', 'views': '232', 'likes': '1like'}\n",
      "{'movie_name': 'Copshop', 'video_url': 'https://www.youtube.com/watch?v=wgdLO-U2mDQ', 'video_title': 'COPSHOP | Official Trailer | Now Available on Digital!', 'channel': 'Open Road Films', 'score': '1.0', 'id': '6', 'official_trailer': '1', 'known_channels_used': '0', 'official': '1', 'teaser': '', 'release_date': '8/5/2021', 'views': '3,000,108', 'likes': None}\n",
      "{'movie_name': 'Infidel', 'video_url': 'https://www.youtube.com/watch?v=r_oNLC83hzQ', 'video_title': 'Infidel Official Trailer 2020', 'channel': 'ميكس موفيز Mix movies', 'score': '1.0', 'id': '6', 'official_trailer': '1', 'known_channels_used': '0', 'official': '', 'teaser': '', 'release_date': '9/13/2020', 'views': '72', 'likes': 'No'}\n",
      "{'movie_name': 'The Identical', 'video_url': 'https://www.youtube.com/watch?v=S0NDAKb1Vdk', 'video_title': 'The Identical (Official Trailer)', 'channel': 'CinemaDrunk', 'score': '1.0', 'id': '2', 'official_trailer': '1', 'known_channels_used': '0', 'official': '', 'teaser': '', 'release_date': '8/25/2014', 'views': '97', 'likes': 'No'}\n",
      "{'movie_name': 'The Identical', 'video_url': 'https://www.youtube.com/watch?v=VTAKPYIQjbc', 'video_title': 'The Identical 2014  Official Trailer [HD 1080p]', 'channel': 'Trailer Tube', 'score': '1.0', 'id': '3', 'official_trailer': '1', 'known_channels_used': '0', 'official': '', 'teaser': '', 'release_date': '6/20/2014', 'views': '75', 'likes': 'No'}\n",
      "{'movie_name': 'Gigi & Nate', 'video_url': 'https://www.youtube.com/watch?v=LYgFvFLwlyU', 'video_title': 'Gigi & Nate (2022) | Official Trailer [4K]', 'channel': 'FilmNation', 'score': '1.0', 'id': '6', 'official_trailer': '1', 'known_channels_used': '0', 'official': '', 'teaser': '', 'release_date': '7/22/2022', 'views': '64', 'likes': 'No'}\n",
      "{'movie_name': 'Gigi & Nate', 'video_url': 'https://www.youtube.com/watch?v=qwZSfAWoSQs', 'video_title': 'Gigi & Nate Official Trailer HD 2022', 'channel': 'BMT Central Official', 'score': '1.0', 'id': '7', 'official_trailer': '1', 'known_channels_used': '0', 'official': '', 'teaser': '', 'release_date': '7/22/2022', 'views': '60', 'likes': 'No'}\n",
      "{'movie_name': 'Dylan Dog: Dead of Night', 'video_url': 'https://www.youtube.com/watch?v=0YGfX_LaV3U', 'video_title': 'Dylan Dog- Dead of Night Official Trailer HD 2010.mp4', 'channel': 'Molder Scaly', 'score': '1.0', 'id': '4', 'official_trailer': '1', 'known_channels_used': '0', 'official': '', 'teaser': '', 'release_date': '4/27/2011', 'views': '236', 'likes': 'No'}\n",
      "{'movie_name': 'Beautifully Broken', 'video_url': 'https://www.youtube.com/watch?v=Eg7CAOIxm0E', 'video_title': 'Beautifully Broken (2018) - Official Trailer', 'channel': 'Movie Trailer World', 'score': '1.0', 'id': '6', 'official_trailer': '1', 'known_channels_used': '0', 'official': '', 'teaser': '', 'release_date': '8/24/2018', 'views': '47', 'likes': 'No'}\n",
      "{'movie_name': 'Free Fire', 'video_url': 'https://www.youtube.com/watch?v=D1BKzFKC1ak', 'video_title': 'FREE FIRE | Reel Cinemas Shout Out & Official Trailer', 'channel': 'Front Row Filmed Entertainment', 'score': '1.0', 'id': '4', 'official_trailer': '1', 'known_channels_used': '0', 'official': '', 'teaser': '', 'release_date': '2/2/2017', 'views': '101', 'likes': '1like'}\n",
      "{'movie_name': 'Battle for Terra', 'video_url': 'https://www.youtube.com/watch?v=T5Aj4Pv4x2w', 'video_title': 'Battle for Terra', 'channel': 'mymarvinthemartian14', 'score': '0.6', 'id': '1', 'official_trailer': '0', 'known_channels_used': '0', 'official': '1', 'teaser': '', 'release_date': '3/5/2009', 'views': '682', 'likes': '1like'}\n",
      "{'movie_name': 'The Fifth Estate', 'video_url': 'https://www.youtube.com/watch?v=dHfHP6rVi9o', 'video_title': 'The Fifth Estate - Official Trailer (2013) [HD]', 'channel': 'Pop Splat', 'score': '1.0', 'id': '2', 'official_trailer': '1', 'known_channels_used': '0', 'official': '', 'teaser': '', 'release_date': '7/22/2013', 'views': '91', 'likes': 'No'}\n",
      "{'movie_name': 'The Metropolitan Opera HD Live: Nico Muhly: Marnie', 'video_url': 'https://www.youtube.com/watch?v=6yWaG4r1Yow', 'video_title': 'Marnie Preview | Great Performances at the Met | PBS', 'channel': 'PBS', 'score': '0.2', 'id': '5', 'official_trailer': '0', 'known_channels_used': '0', 'official': '', 'teaser': '', 'release_date': None, 'views': None, 'likes': None}\n",
      "{'movie_name': 'Met Opera: The Hours', 'video_url': 'https://www.youtube.com/watch?v=NRHS41BWB50', 'video_title': 'The Met Live in HD 2022-23 The Hours Trailer', 'channel': 'Trafalgar Releasing', 'score': '0.67', 'id': '2', 'official_trailer': '0', 'known_channels_used': '0', 'official': '', 'teaser': '', 'release_date': '12/1/2022', 'views': '222', 'likes': '1like'}\n",
      "{'movie_name': 'Arctic Dogs', 'video_url': 'https://www.youtube.com/watch?v=1ao2B0v_0M8', 'video_title': 'Arctic Dogs (2019) - Official Teaser Trailer | Jeremy Renner Heidi Klum James Franco', 'channel': 'GameSpot Universe Trailers', 'score': '1.0', 'id': '8', 'official_trailer': '1', 'known_channels_used': '0', 'official': '', 'teaser': '', 'release_date': '6/21/2019', 'views': '66,119', 'likes': None}\n",
      "{'movie_name': 'The Metropolitan Opera HD Live: Puccini: La Fanciulla del West', 'video_url': 'https://www.youtube.com/watch?v=W3rrVVw96c4', 'video_title': 'La Fanciulla del West Preview | Great Performances at the Met | PBS', 'channel': 'PBS', 'score': '0.42', 'id': '5', 'official_trailer': '0', 'known_channels_used': '0', 'official': '', 'teaser': '', 'release_date': None, 'views': None, 'likes': None}\n",
      "{'movie_name': 'The Art of Getting By', 'video_url': 'https://www.youtube.com/watch?v=wULmS5XcB-4', 'video_title': 'The Art Of Getting By Official Trailer', 'channel': 'ETV Film Inc.', 'score': '1.0', 'id': '3', 'official_trailer': '1', 'known_channels_used': '0', 'official': '', 'teaser': '', 'release_date': '6/13/2011', 'views': '105', 'likes': '1like'}\n",
      "{'movie_name': 'The Metropolitan Opera HD Live: Rossini: Semiramide', 'video_url': 'https://www.youtube.com/watch?v=ocD58lrZWgY', 'video_title': 'GREAT PERFORMANCES AT THE MET | Official Trailer: Semiramide | PBS', 'channel': 'PBS', 'score': '0.44', 'id': '5', 'official_trailer': '0', 'known_channels_used': '0', 'official': '', 'teaser': '', 'release_date': None, 'views': None, 'likes': None}\n",
      "{'movie_name': 'The Cold Light of Day', 'video_url': 'https://www.youtube.com/watch?v=LaCJWuZ_oRU', 'video_title': 'The Cold Light of Day - Official Movie Trailer [HD]', 'channel': 'Henry Cavill Fanpage', 'score': '1.0', 'id': '3', 'official_trailer': '1', 'known_channels_used': '0', 'official': '', 'teaser': '', 'release_date': '1/30/2012', 'views': '3,122', 'likes': None}\n",
      "{'movie_name': 'Last Ounce of Courage', 'video_url': 'https://www.youtube.com/watch?v=A5iue0Wi3gY', 'video_title': 'Last Ounce of Courage trailer', 'channel': 'Kevin McAfee', 'score': '0.83', 'id': '1', 'official_trailer': '1', 'known_channels_used': '0', 'official': '1', 'teaser': '', 'release_date': '7/26/2012', 'views': '480,724', 'likes': None}\n",
      "{'movie_name': 'Last Ounce of Courage', 'video_url': 'https://www.youtube.com/watch?v=AUsa-eO6A2A', 'video_title': 'Last Ounce of Courage CHRISTIAN trailer (for churches)', 'channel': 'PatrioticToDaBone', 'score': '0.83', 'id': '3', 'official_trailer': '1', 'known_channels_used': '0', 'official': '', 'teaser': '', 'release_date': '9/3/2012', 'views': '49,871', 'likes': None}\n",
      "{'movie_name': \"The Metropolitan Opera HD Live: Donizetti: L'Elisir d'Amore\", 'video_url': 'https://www.youtube.com/watch?v=xm5Vhj-6Mvg', 'video_title': \"The Metropolitan Opera: L'Elisir d'Amore - Trailer\", 'channel': 'Foroxity Filmarena', 'score': '0.6', 'id': '3', 'official_trailer': '0', 'known_channels_used': '0', 'official': '', 'teaser': '', 'release_date': '1/22/2018', 'views': '102', 'likes': 'No'}\n",
      "{'movie_name': \"The Metropolitan Opera HD Live: Donizetti: L'Elisir d'Amore\", 'video_url': 'https://www.youtube.com/watch?v=Yrr6lBDl58E', 'video_title': 'GREAT PERFORMANCES AT THE MET | Official Trailer: L’Elisir d’Amore | PBS', 'channel': 'PBS', 'score': '0.5', 'id': '4', 'official_trailer': '0', 'known_channels_used': '0', 'official': '', 'teaser': '', 'release_date': None, 'views': None, 'likes': None}\n",
      "{'movie_name': \"The Metropolitan Opera HD Live: Donizetti: L'Elisir d'Amore\", 'video_url': 'https://www.youtube.com/watch?v=lNV0UMAhPOU', 'video_title': \"L'Elisir D'Amore (Trailer Oficial)\", 'channel': 'Full Dimensional Entertainment', 'score': '0.3', 'id': '5', 'official_trailer': '0', 'known_channels_used': '0', 'official': '', 'teaser': '', 'release_date': '4/30/2013', 'views': '345', 'likes': '1like'}\n",
      "{'movie_name': 'The Metropolitan Opera HD Live: Verdi: Luisa Miller', 'video_url': 'https://www.youtube.com/watch?v=KzgZet50Rv4', 'video_title': 'GREAT PERFORMANCES AT THE MET | Official Trailer | Luisa Miller | PBS', 'channel': 'PBS', 'score': '0.5', 'id': '2', 'official_trailer': '0', 'known_channels_used': '0', 'official': '', 'teaser': '', 'release_date': None, 'views': None, 'likes': None}\n",
      "{'movie_name': 'The Metropolitan Opera HD Live: Saint-Saëns: Samson et Dalila', 'video_url': 'https://www.youtube.com/watch?v=ZtiPQATpEjg', 'video_title': 'Samson et Dalila Preview | Great Performances at the Met | PBS', 'channel': 'PBS', 'score': '0.36', 'id': '3', 'official_trailer': '0', 'known_channels_used': '0', 'official': '', 'teaser': '', 'release_date': None, 'views': None, 'likes': None}\n",
      "{'movie_name': 'The Metropolitan Opera HD Live: Saint-Saëns: Samson et Dalila', 'video_url': 'https://www.youtube.com/watch?v=QNooPUgC1N4', 'video_title': 'Samson et Dalila - filmed live from the Met Opera!', 'channel': 'Sharmill Films', 'score': '0.55', 'id': '7', 'official_trailer': '0', 'known_channels_used': '0', 'official': '', 'teaser': '', 'release_date': '10/9/2018', 'views': '1,047', 'likes': '1like'}\n",
      "{'movie_name': 'The Space Between Us', 'video_url': 'https://www.youtube.com/watch?v=BQg71qBQdC8', 'video_title': 'The Space Between Us - Trailer', 'channel': 'Universal Pictures All-Access', 'score': '0.83', 'id': '3', 'official_trailer': '1', 'known_channels_used': '0', 'official': '', 'teaser': '', 'release_date': '2/2/2017', 'views': '49,957', 'likes': None}\n",
      "{'movie_name': 'The Metropolitan Opera HD Live: Massenet: Cendrillon', 'video_url': 'https://www.youtube.com/watch?v=9ejikMV8e2w', 'video_title': 'GREAT PERFORMANCES AT THE MET | Official Trailer: Cendrillon | PBS', 'channel': 'PBS', 'score': '0.44', 'id': '3', 'official_trailer': '0', 'known_channels_used': '0', 'official': '', 'teaser': '', 'release_date': None, 'views': None, 'likes': None}\n",
      "{'movie_name': 'The Metropolitan Opera HD Live: Mozart: Così fan tutte', 'video_url': 'https://www.youtube.com/watch?v=Eo9bfqUqYJ0', 'video_title': 'GREAT PERFORMANCES AT THE MET | Official Trailer: Così fan tutte | PBS', 'channel': 'PBS', 'score': '0.55', 'id': '5', 'official_trailer': '0', 'known_channels_used': '0', 'official': '', 'teaser': '', 'release_date': None, 'views': None, 'likes': None}\n",
      "{'movie_name': 'Incarnate', 'video_url': 'https://www.youtube.com/watch?v=kKA7SlcyDXs', 'video_title': 'Incarnate Official Trailer 2 2016', 'channel': 'Rattus Films', 'score': '1.0', 'id': '3', 'official_trailer': '1', 'known_channels_used': '0', 'official': '', 'teaser': '', 'release_date': '12/2/2016', 'views': '49', 'likes': 'No'}\n",
      "{'movie_name': 'Captivity', 'video_url': 'https://www.youtube.com/watch?v=RxYudQ_f8-8', 'video_title': 'Captivity: Official Trailer', 'channel': 'cinemanow13', 'score': '1.0', 'id': '1', 'official_trailer': '1', 'known_channels_used': '0', 'official': '1', 'teaser': '', 'release_date': '4/28/2007', 'views': '3,090', 'likes': 'No'}\n",
      "{'movie_name': 'The Big Year', 'video_url': 'https://www.youtube.com/watch?v=zWoSa5Pr4A4', 'video_title': 'The Big Year - Official Trailer HD', 'channel': 'tekudesign', 'score': '1.0', 'id': '3', 'official_trailer': '1', 'known_channels_used': '0', 'official': '', 'teaser': '', 'release_date': '9/9/2011', 'views': '172', 'likes': 'No'}\n",
      "{'movie_name': 'Antlers', 'video_url': 'https://www.youtube.com/watch?v=XpmTac6lqz8', 'video_title': 'Antlers (2020) - Official Trailer #2 | Keri Russell Jesse Plemons Jeremy T. Thomas', 'channel': 'GameSpot Universe Trailers', 'score': '1.0', 'id': '3', 'official_trailer': '1', 'known_channels_used': '0', 'official': '', 'teaser': '', 'release_date': '10/23/2019', 'views': '6,235', 'likes': None}\n",
      "{'movie_name': 'A Question of Faith', 'video_url': 'https://www.youtube.com/watch?v=StNvFjirQks', 'video_title': 'A Question of Faith movie official trailer', 'channel': 'Silver Lining Entertainment', 'score': '1.0', 'id': '1', 'official_trailer': '1', 'known_channels_used': '0', 'official': '1', 'teaser': '', 'release_date': '3/3/2017', 'views': '780,633', 'likes': None}\n",
      "{'movie_name': \"God's Not Dead: A Light in Darkness\", 'video_url': 'https://www.youtube.com/watch?v=YQXnsCM7AVc', 'video_title': 'Gods Not Dead: A Light in Darkness | Trailer | Own it now on Blu-ray DVD & Digital', 'channel': 'Universal Pictures All-Access', 'score': '0.88', 'id': '6', 'official_trailer': '1', 'known_channels_used': '0', 'official': '', 'teaser': '', 'release_date': '3/29/2018', 'views': '128,599', 'likes': None}\n",
      "{'movie_name': 'A-X-L', 'video_url': 'https://www.youtube.com/watch?v=7uwSohn696w', 'video_title': 'AXL - Official Trailer (2018)', 'channel': 'GameSpot Universe Trailers', 'score': '1.0', 'id': '5', 'official_trailer': '1', 'known_channels_used': '0', 'official': '', 'teaser': '', 'release_date': '5/21/2018', 'views': '4,695', 'likes': None}\n",
      "{'movie_name': 'Hillsong: Let Hope Rise', 'video_url': 'https://www.youtube.com/watch?v=RQ0DW-Snj9E', 'video_title': 'Hillsong: Let Hope Rise - Trailer', 'channel': 'Universal Pictures All-Access', 'score': '0.83', 'id': '1', 'official_trailer': '1', 'known_channels_used': '0', 'official': '1', 'teaser': '', 'release_date': '9/15/2016', 'views': '8,916', 'likes': None}\n",
      "{'movie_name': 'Hillsong: Let Hope Rise', 'video_url': 'https://www.youtube.com/watch?v=rO9_x16wjTk', 'video_title': 'HILLSONG: LET HOPE RISE Official Trailer #2 | Pure Flix', 'channel': 'Movieguide', 'score': '1.0', 'id': '2', 'official_trailer': '1', 'known_channels_used': '0', 'official': '', 'teaser': '', 'release_date': '7/7/2016', 'views': '18,161', 'likes': None}\n",
      "{'movie_name': 'Birth of the Dragon', 'video_url': 'https://www.youtube.com/watch?v=tVxY2uVkQTo', 'video_title': 'Birth of the Dragon - Trailer', 'channel': 'Universal Pictures All-Access', 'score': '0.83', 'id': '4', 'official_trailer': '1', 'known_channels_used': '0', 'official': '', 'teaser': '', 'release_date': '8/24/2017', 'views': '43,993', 'likes': None}\n",
      "{'movie_name': 'Ratchet & Clank', 'video_url': 'https://www.youtube.com/watch?v=0A78AsVBGhU', 'video_title': 'Ratchet & Clank - Trailer', 'channel': 'Universal Pictures All-Access', 'score': '0.75', 'id': '4', 'official_trailer': '1', 'known_channels_used': '0', 'official': '', 'teaser': '', 'release_date': '4/28/2016', 'views': '51,192', 'likes': None}\n",
      "{'movie_name': 'Serenity', 'video_url': 'https://www.youtube.com/watch?v=pRnIJM8NGok', 'video_title': 'Serenity - Trailer', 'channel': 'Universal Pictures All-Access', 'score': '0.67', 'id': '3', 'official_trailer': '0', 'known_channels_used': '0', 'official': '', 'teaser': '', 'release_date': '12/7/2011', 'views': '124,641', 'likes': None}\n",
      "{'movie_name': \"I Don't Know How She Does It\", 'video_url': 'https://www.youtube.com/watch?v=5Zw0sLRtcOg', 'video_title': \"I Don't Know How She Does It Trailer\", 'channel': 'ODEON Cinemas', 'score': '0.88', 'id': '2', 'official_trailer': '1', 'known_channels_used': '0', 'official': '', 'teaser': '', 'release_date': '7/20/2011', 'views': '1,520', 'likes': '1like'}\n",
      "{'movie_name': \"Everybody's Fine\", 'video_url': 'https://www.youtube.com/watch?v=6BF83TW2ObE', 'video_title': \"Everybody's Fine Official Trailer HD\", 'channel': 'MrSlowify', 'score': '1.0', 'id': '2', 'official_trailer': '1', 'known_channels_used': '0', 'official': '', 'teaser': '', 'release_date': '10/27/2009', 'views': '430', 'likes': '1like'}\n",
      "{'movie_name': 'Indivisible', 'video_url': 'https://www.youtube.com/watch?v=yIkWIrM0k_I', 'video_title': 'INDIVISIBLE Official Movie HD Trailer 2018', 'channel': 'Oracle Films', 'score': '1.0', 'id': '4', 'official_trailer': '1', 'known_channels_used': '0', 'official': '1', 'teaser': '', 'release_date': '7/2/2018', 'views': '24', 'likes': 'No'}\n",
      "{'movie_name': 'The Metropolitan Opera HD Live: Verdi: La Traviata', 'video_url': 'https://www.youtube.com/watch?v=gVbAdncN3JY', 'video_title': 'Verdi - La Traviata - Fleming Bruson Villazón - Subtítulos en Español', 'channel': 'La Voz por Excelencia', 'score': '0.3', 'id': '1', 'official_trailer': '0', 'known_channels_used': '0', 'official': '', 'teaser': '', 'release_date': '3/10/2017', 'views': '1,690,391', 'likes': None}\n",
      "{'movie_name': 'Redeeming Love', 'video_url': 'https://www.youtube.com/watch?v=m6Z4aAGgNQc', 'video_title': 'Amor redentor - Tráiler español', 'channel': 'FilmAffinity Oficial', 'score': '0.25', 'id': '2', 'official_trailer': '0', 'known_channels_used': '0', 'official': '', 'teaser': '', 'release_date': None, 'views': None, 'likes': None}\n",
      "{'movie_name': 'Sorority Row', 'video_url': 'https://www.youtube.com/watch?v=dOZY9ZrA0tM', 'video_title': 'Sorority Row Official Trailer', 'channel': 'ShouldIPick', 'score': '1.0', 'id': '1', 'official_trailer': '1', 'known_channels_used': '0', 'official': '', 'teaser': '', 'release_date': '8/19/2009', 'views': '206', 'likes': '1like'}\n",
      "{'movie_name': 'Sorority Row', 'video_url': 'https://www.youtube.com/watch?v=XHmZx0GQQ40', 'video_title': 'Sorority Row Official Trailer HD HD', 'channel': 'Maanuuee17', 'score': '1.0', 'id': '3', 'official_trailer': '1', 'known_channels_used': '0', 'official': '', 'teaser': '', 'release_date': '8/26/2009', 'views': '309', 'likes': 'No'}\n",
      "{'movie_name': 'The Metropolitan Opera HD Live: Puccini: La Bohème', 'video_url': 'https://www.youtube.com/watch?v=I0oFPdHdq7U', 'video_title': 'GREAT PERFORMANCES AT THE MET | Official Trailer: La Bohème  | PBS', 'channel': 'PBS', 'score': '0.5', 'id': '4', 'official_trailer': '0', 'known_channels_used': '0', 'official': '', 'teaser': '', 'release_date': None, 'views': None, 'likes': None}\n",
      "{'movie_name': 'The Haunting of Molly Hartley', 'video_url': 'https://www.youtube.com/watch?v=VQZTqp_0riY', 'video_title': 'The Haunting of Molly Hartley Official Trailer', 'channel': 'preler18', 'score': '1.0', 'id': '2', 'official_trailer': '1', 'known_channels_used': '0', 'official': '', 'teaser': '', 'release_date': '8/14/2008', 'views': '2,519', 'likes': '1like'}\n",
      "{'movie_name': 'Hot Tub Time Machine 2', 'video_url': 'https://www.youtube.com/watch?v=IJdBclPz8Yk', 'video_title': 'Hot Tub Time Machine 2 Official Trailer 2015  Movie HD', 'channel': 'Film Movie Trailers', 'score': '1.0', 'id': '3', 'official_trailer': '1', 'known_channels_used': '0', 'official': '', 'teaser': '', 'release_date': '2/19/2015', 'views': '7', 'likes': 'No'}\n",
      "{'movie_name': 'The Transporter Refueled', 'video_url': 'https://www.youtube.com/watch?v=j19hokNcnNQ', 'video_title': 'THE TRANSPORTER: REFUELED Official Trailer', 'channel': 'ReelLebowski', 'score': '1.0', 'id': '4', 'official_trailer': '1', 'known_channels_used': '0', 'official': '', 'teaser': '', 'release_date': '3/29/2015', 'views': '240', 'likes': 'No'}\n",
      "{'movie_name': 'Roadrunner: A Film About Anthony Bourdain', 'video_url': 'https://www.youtube.com/watch?v=O9_uNQnAQVo', 'video_title': 'Roadrunner: A Film About Anthony Bourdain (2021) | Official Trailer | 1080 HD', 'channel': 'MENONTON ID', 'score': '1.0', 'id': '4', 'official_trailer': '1', 'known_channels_used': '0', 'official': '', 'teaser': '', 'release_date': '6/8/2021', 'views': '215', 'likes': '1like'}\n"
     ]
    }
   ],
   "source": [
    "for movie in completed_movies:\n",
    "    max_likes = -1\n",
    "    max_likes_id = None\n",
    "    for result in movie[\"results\"]:\n",
    "        try:\n",
    "            if float(result[\"likes\"].replace(\",\",\"\")) > max_likes:\n",
    "                max_likes_id = result[\"video_url\"]\n",
    "        except Exception as e:\n",
    "            print(result)"
   ],
   "metadata": {
    "collapsed": false,
    "pycharm": {
     "name": "#%%\n"
    }
   }
  },
  {
   "cell_type": "code",
   "execution_count": null,
   "outputs": [],
   "source": [
    "#Export Selected"
   ],
   "metadata": {
    "collapsed": false,
    "pycharm": {
     "name": "#%%\n"
    }
   }
  },
  {
   "cell_type": "code",
   "execution_count": 137,
   "outputs": [],
   "source": [
    "from datetime import date\n",
    "\n",
    "def days_diff(date1, date2):\n",
    "    try:\n",
    "        movie_moth, movie_day, movie_year = date2.split(\"/\")\n",
    "        result_moth, result_day, result_year = date1.split(\"/\")\n",
    "        movie_date = date(int(movie_year), int(movie_moth), int(movie_day))\n",
    "        result_date = date(int(result_year), int(result_moth), int(result_day))\n",
    "        days_diff_video_movie = (result_date - movie_date).days\n",
    "    except Exception as e:\n",
    "        days_diff_video_movie = 1\n",
    "    return days_diff_video_movie"
   ],
   "metadata": {
    "collapsed": false,
    "pycharm": {
     "name": "#%%\n"
    }
   }
  },
  {
   "cell_type": "code",
   "execution_count": 142,
   "outputs": [
    {
     "name": "stdout",
     "output_type": "stream",
     "text": [
      "0,Avengers: Endgame,5,0,https://www.youtube.com/watch?v=TcMBFSGVi1c,Marvel Studios' Avengers: Endgame - Official Trailer,Marvel Entertainment,1,0,-43,3/14/2019,153,515,424,TO-DO,TO-DO,TO-DO,TO-DO,TO-DO\n"
     ]
    }
   ],
   "source": [
    "with open(\"./selected_trailers.csv\", \"w\") as f:\n",
    "    f.write(\"uniqueID,movie_name,num_trailers,trailer_id,video_url,video_title,channel,official,teaser,days_diff,trailer_release,trailer_view,trailer_like,trailer_comment,most_recent,oldest,most_viewed,most_comment\")\n",
    "    f.write(\"\\r\\n\")\n",
    "    for movie in completed_movies:\n",
    "        movie_name = movie[\"movie_name\"].replace(\",\", \"\")\n",
    "        id = 0\n",
    "        for result in movie[\"completed_results\"]:\n",
    "            days_diff_value = days_diff(result[\"release_date\"], movie[\"release_start\"])\n",
    "            official = 0\n",
    "            teaser = 0\n",
    "            if result[\"teaser\"] == \"1\":\n",
    "                teaser = 1\n",
    "            if result[\"official\"] == \"1\":\n",
    "                official = 1\n",
    "\n",
    "            if result[\"official\"] == \"1\":\n",
    "                print(\"{},{},{},{},{},{},{},{},{},{},{},{},{},{},{},{},{}\".format(\n",
    "                    movie[\"uniqueID\"],\n",
    "                    movie_name,\n",
    "                    len(movie[\"completed_results\"]),\n",
    "                    id,\n",
    "                    result[\"video_url\"],\n",
    "                    result[\"video_title\"],\n",
    "                    result[\"channel\"],\n",
    "                    official,\n",
    "                    teaser,\n",
    "                    days_diff_value,\n",
    "                    result[\"release_date\"],\n",
    "                    result[\"views\"],\n",
    "                    \"TO-DO\",\n",
    "                    \"TO-DO\",\n",
    "                    \"TO-DO\",\n",
    "                    \"TO-DO\",\n",
    "                    \"TO-DO\",\n",
    "                ))\n",
    "                f.write(\"\\r\\n\")\n",
    "            id = id + 1\n",
    "            break\n",
    "        break\n"
   ],
   "metadata": {
    "collapsed": false,
    "pycharm": {
     "name": "#%%\n"
    }
   }
  }
 ],
 "metadata": {
  "colab": {
   "provenance": []
  },
  "kernelspec": {
   "display_name": "Python 3 (ipykernel)",
   "language": "python",
   "name": "python3"
  },
  "language_info": {
   "codemirror_mode": {
    "name": "ipython",
    "version": 3
   },
   "file_extension": ".py",
   "mimetype": "text/x-python",
   "name": "python",
   "nbconvert_exporter": "python",
   "pygments_lexer": "ipython3",
   "version": "3.10.6"
  }
 },
 "nbformat": 4,
 "nbformat_minor": 1
}