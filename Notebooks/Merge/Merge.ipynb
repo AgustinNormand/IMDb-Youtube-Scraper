{
 "cells": [
  {
   "cell_type": "markdown",
   "metadata": {
    "id": "Glpq9VU6mZbk",
    "pycharm": {
     "name": "#%% md\n"
    }
   },
   "source": [
    "# Reading Movies"
   ]
  },
  {
   "cell_type": "code",
   "execution_count": 2,
   "metadata": {
    "id": "vnk-yese9cPk",
    "pycharm": {
     "name": "#%%\n"
    }
   },
   "outputs": [],
   "source": [
    "import ast\n",
    "import csv\n",
    "score_scheme = []\n",
    "with open('ScoreScheme.csv') as f:\n",
    "    reader = csv.DictReader(f)\n",
    "    lst = list(reader)\n",
    "    for item in lst:\n",
    "        if item[\"movie_name\"] == \"\":\n",
    "            continue\n",
    "        if item[\"video_url\"] == \"None\":\n",
    "            continue\n",
    "        score_scheme.append(item)"
   ]
  },
  {
   "cell_type": "code",
   "execution_count": 3,
   "metadata": {
    "colab": {
     "base_uri": "https://localhost:8080/"
    },
    "id": "0xdWtoRA_pGS",
    "outputId": "1b2797a7-17d5-4216-f531-b175fc236d32",
    "pycharm": {
     "name": "#%%\n"
    }
   },
   "outputs": [
    {
     "data": {
      "text/plain": "2870"
     },
     "execution_count": 3,
     "metadata": {},
     "output_type": "execute_result"
    }
   ],
   "source": [
    "len(score_scheme)"
   ]
  },
  {
   "cell_type": "code",
   "execution_count": 4,
   "outputs": [],
   "source": [
    "movies = []\n",
    "with open('Output.csv') as f:\n",
    "    reader = csv.DictReader(f)\n",
    "    lst = list(reader)\n",
    "    for item in lst:\n",
    "        item[\"query_results\"] = ast.literal_eval(item[\"query_results\"])\n",
    "        movies.append(item)"
   ],
   "metadata": {
    "collapsed": false,
    "pycharm": {
     "name": "#%%\n"
    }
   }
  },
  {
   "cell_type": "code",
   "execution_count": 5,
   "outputs": [
    {
     "data": {
      "text/plain": "1967"
     },
     "execution_count": 5,
     "metadata": {},
     "output_type": "execute_result"
    }
   ],
   "source": [
    "len(movies)"
   ],
   "metadata": {
    "collapsed": false,
    "pycharm": {
     "name": "#%%\n"
    }
   }
  },
  {
   "cell_type": "markdown",
   "metadata": {
    "pycharm": {
     "name": "#%% md\n"
    }
   },
   "source": [
    "# Merging Score Scheme File and Movies"
   ]
  },
  {
   "cell_type": "code",
   "execution_count": 6,
   "outputs": [
    {
     "data": {
      "text/plain": "1051"
     },
     "execution_count": 6,
     "metadata": {},
     "output_type": "execute_result"
    }
   ],
   "source": [
    "movies_with_prerelease = []\n",
    "for movie in movies:\n",
    "    if movie[\"no_prerelease\"] == \"1\":\n",
    "        continue\n",
    "    movies_with_prerelease.append(movie)\n",
    "len(movies_with_prerelease)"
   ],
   "metadata": {
    "collapsed": false,
    "pycharm": {
     "name": "#%%\n"
    }
   }
  },
  {
   "cell_type": "code",
   "execution_count": 7,
   "outputs": [],
   "source": [
    "index_ignore = []\n",
    "movies_with_results = []\n",
    "for movie in movies_with_prerelease:\n",
    "    movie[\"results\"] = []\n",
    "    found_movie = False\n",
    "    for index, result in enumerate(score_scheme):\n",
    "        if movie[\"movie_name\"].replace(\",\", \"\") == result[\"movie_name\"]:\n",
    "            if index not in index_ignore:\n",
    "                found_movie = True\n",
    "                movie[\"results\"].append(result)\n",
    "                index_ignore.append(index)\n",
    "        else:\n",
    "            if found_movie:\n",
    "                break\n",
    "    movies_with_results.append(movie)\n",
    "\n",
    "movies = movies_with_results"
   ],
   "metadata": {
    "collapsed": false,
    "pycharm": {
     "name": "#%%\n"
    }
   }
  },
  {
   "cell_type": "code",
   "execution_count": 8,
   "outputs": [
    {
     "name": "stdout",
     "output_type": "stream",
     "text": [
      "Pending to select  39\n",
      "New movies  1012\n"
     ]
    }
   ],
   "source": [
    "pending_to_select_trailers = []\n",
    "new_movies = []\n",
    "for movie in movies:\n",
    "    if movie[\"results\"] == []:\n",
    "        pending_to_select_trailers.append(movie)\n",
    "    else:\n",
    "        new_movies.append(movie)\n",
    "movies = new_movies\n",
    "print(\"Pending to select \",len(pending_to_select_trailers))\n",
    "print(\"New movies \",len(new_movies))"
   ],
   "metadata": {
    "collapsed": false,
    "pycharm": {
     "name": "#%%\n"
    }
   }
  },
  {
   "cell_type": "code",
   "execution_count": 9,
   "outputs": [],
   "source": [
    "movies_with_selected_trailers = []\n",
    "for movie in movies:\n",
    "    results = []\n",
    "    for result in movie[\"results\"]:\n",
    "        if result[\"official\"] == \"\" and result[\"teaser\"] == \"\":\n",
    "            continue\n",
    "        results.append(result)\n",
    "    movie[\"results\"] = results\n",
    "    movies_with_selected_trailers.append(movie)\n",
    "movies = movies_with_selected_trailers"
   ],
   "metadata": {
    "collapsed": false,
    "pycharm": {
     "name": "#%%\n"
    }
   }
  },
  {
   "cell_type": "code",
   "execution_count": 10,
   "outputs": [
    {
     "name": "stdout",
     "output_type": "stream",
     "text": [
      "Pending to select  106\n",
      "New movies  945\n"
     ]
    }
   ],
   "source": [
    "new_movies = []\n",
    "for movie in movies:\n",
    "    if movie[\"results\"] == []:\n",
    "        pending_to_select_trailers.append(movie)\n",
    "    else:\n",
    "        new_movies.append(movie)\n",
    "movies = new_movies\n",
    "print(\"Pending to select \",len(pending_to_select_trailers))\n",
    "print(\"New movies \",len(new_movies))"
   ],
   "metadata": {
    "collapsed": false,
    "pycharm": {
     "name": "#%%\n"
    }
   }
  },
  {
   "cell_type": "code",
   "execution_count": 11,
   "outputs": [],
   "source": [
    "ampliated_movies = []\n",
    "for movie in movies:\n",
    "    ampliated_results = []\n",
    "    for result in movie[\"results\"]:\n",
    "        not_ampliated_video_id = result[\"video_url\"].replace(\"https://www.youtube.com/watch?v=\", \"\")\n",
    "        found = False\n",
    "        for query_result in movie[\"query_results\"]:\n",
    "            title, channel, video_id, result_date_str, premiered, stream, subscribers, views, likes = query_result\n",
    "            if likes == \"1like\":\n",
    "                likes = '1'\n",
    "            if likes == \"No\" or likes == None:\n",
    "                likes = '0'\n",
    "            if not_ampliated_video_id == video_id:\n",
    "                result[\"release_date\"] = result_date_str\n",
    "                result[\"views\"] = views\n",
    "                result[\"likes\"] = likes\n",
    "                ampliated_results.append(result)\n",
    "                found = True\n",
    "                break\n",
    "        if not found:\n",
    "            result[\"release_date\"] = \"TO-COMPLETE\"\n",
    "            result[\"views\"] = \"TO-COMPLETE\"\n",
    "            result[\"likes\"] = \"TO-COMPLETE\"\n",
    "            ampliated_results.append(result)\n",
    "    movie[\"results\"] = ampliated_results\n",
    "    ampliated_movies.append(movie)\n",
    "movies = ampliated_movies"
   ],
   "metadata": {
    "collapsed": false,
    "pycharm": {
     "name": "#%%\n"
    }
   }
  },
  {
   "cell_type": "code",
   "execution_count": 12,
   "outputs": [],
   "source": [
    "completed_movies = []\n",
    "for movie in movies:\n",
    "    results = []\n",
    "    for result in movie[\"results\"]:\n",
    "        if result[\"video_url\"] == \"https://www.youtube.com/watch?v=W6xUnDKcHNA\":\n",
    "            result[\"release_date\"] = '7/23/2013'\n",
    "            result[\"views\"] = '191,922'\n",
    "            result[\"likes\"] = '470'\n",
    "        if result[\"video_url\"] == \"https://www.youtube.com/watch?v=0sH0__SpV88\":\n",
    "            result[\"release_date\"] = '3/9/2015'\n",
    "            result[\"views\"] = '6,768,826'\n",
    "            result[\"likes\"] = '15,357'\n",
    "        if result[\"video_url\"] == \"https://www.youtube.com/watch?v=HydiAICZq6I\":\n",
    "            result[\"release_date\"] = \"6/3/2014\"\n",
    "            result[\"views\"] = \"547,288\"\n",
    "            result[\"likes\"] = \"971\"\n",
    "        results.append(result)\n",
    "    movie[\"results\"] = results\n",
    "    completed_movies.append(movie)\n",
    "movies = completed_movies"
   ],
   "metadata": {
    "collapsed": false,
    "pycharm": {
     "name": "#%%\n"
    }
   }
  },
  {
   "cell_type": "code",
   "execution_count": 13,
   "outputs": [],
   "source": [
    "from datetime import date\n",
    "\n",
    "def days_diff(date1, date2):\n",
    "    try:\n",
    "        movie_moth, movie_day, movie_year = date2.split(\"/\")\n",
    "        result_moth, result_day, result_year = date1.split(\"/\")\n",
    "        movie_date = date(int(movie_year), int(movie_moth), int(movie_day))\n",
    "        result_date = date(int(result_year), int(result_moth), int(result_day))\n",
    "        days_diff_video_movie = (result_date - movie_date).days\n",
    "    except Exception as e:\n",
    "        days_diff_video_movie = 1\n",
    "    return days_diff_video_movie\n",
    "\n",
    "new_movies = []\n",
    "for movie in movies:\n",
    "    results = []\n",
    "    for result in movie[\"results\"]:\n",
    "        result[\"days_diff\"] = days_diff(result[\"release_date\"], movie[\"release_start\"])\n",
    "        results.append(result)\n",
    "    movie[\"results\"] = results\n",
    "    new_movies.append(movie)\n",
    "movies = new_movies"
   ],
   "metadata": {
    "collapsed": false,
    "pycharm": {
     "name": "#%%\n"
    }
   }
  },
  {
   "cell_type": "code",
   "execution_count": 14,
   "outputs": [],
   "source": [
    "new_movies = []\n",
    "for movie in movies:\n",
    "    max_likes = -1\n",
    "    max_likes_id = None\n",
    "    for result in movie[\"results\"]:\n",
    "        if int(result[\"likes\"].replace(\",\",\"\")) > max_likes:\n",
    "            max_likes = int(result[\"likes\"].replace(\",\",\"\"))\n",
    "            max_likes_id = result[\"video_url\"]\n",
    "\n",
    "    if max_likes_id == None:\n",
    "        print(\"Error\")\n",
    "    results = []\n",
    "    for result in movie[\"results\"]:\n",
    "        result[\"most_liked\"] = '0'\n",
    "        if result[\"video_url\"] == max_likes_id:\n",
    "            result[\"most_liked\"] = '1'\n",
    "        results.append(result)\n",
    "    movie[\"results\"] = results\n",
    "    new_movies.append(movie)\n",
    "movies = new_movies"
   ],
   "metadata": {
    "collapsed": false,
    "pycharm": {
     "name": "#%%\n"
    }
   }
  },
  {
   "cell_type": "code",
   "execution_count": 15,
   "outputs": [],
   "source": [
    "new_movies = []\n",
    "for movie in movies:\n",
    "    max_views = -1\n",
    "    max_views_id = None\n",
    "    for result in movie[\"results\"]:\n",
    "        if int(result[\"views\"].replace(\",\",\"\")) > max_views:\n",
    "            max_views = int(result[\"views\"].replace(\",\",\"\"))\n",
    "            max_views_id = result[\"video_url\"]\n",
    "\n",
    "    if max_views_id == None:\n",
    "        print(\"Error\")\n",
    "    results = []\n",
    "    for result in movie[\"results\"]:\n",
    "        result[\"most_viewed\"] = '0'\n",
    "        if result[\"video_url\"] == max_views_id:\n",
    "            result[\"most_viewed\"] = '1'\n",
    "        results.append(result)\n",
    "    movie[\"results\"] = results\n",
    "    new_movies.append(movie)\n",
    "movies = new_movies"
   ],
   "metadata": {
    "collapsed": false,
    "pycharm": {
     "name": "#%%\n"
    }
   }
  },
  {
   "cell_type": "code",
   "execution_count": 16,
   "outputs": [],
   "source": [
    "new_movies = []\n",
    "for movie in movies:\n",
    "    min_days_diff = 901823901823012312\n",
    "    min_days_diff_id = None\n",
    "    for result in movie[\"results\"]:\n",
    "        if int(result[\"days_diff\"]) < min_days_diff:\n",
    "            min_days_diff_id = int(result[\"days_diff\"])\n",
    "            min_days_diff_id = result[\"video_url\"]\n",
    "\n",
    "    if min_days_diff_id == None:\n",
    "        print(\"Error\")\n",
    "\n",
    "    results = []\n",
    "    for result in movie[\"results\"]:\n",
    "        result[\"oldest\"] = '0'\n",
    "        if result[\"video_url\"] == min_days_diff_id:\n",
    "            result[\"oldest\"] = '1'\n",
    "        results.append(result)\n",
    "    movie[\"results\"] = results\n",
    "    new_movies.append(movie)\n",
    "movies = new_movies"
   ],
   "metadata": {
    "collapsed": false,
    "pycharm": {
     "name": "#%%\n"
    }
   }
  },
  {
   "cell_type": "code",
   "execution_count": 17,
   "outputs": [],
   "source": [
    "new_movies = []\n",
    "for movie in movies:\n",
    "    max_days_diff = -12389018230912839012381029\n",
    "    max_days_diff_id = None\n",
    "    for result in movie[\"results\"]:\n",
    "        if int(result[\"days_diff\"]) > max_days_diff:\n",
    "            max_days_diff = int(result[\"days_diff\"])\n",
    "            max_days_diff_id = result[\"video_url\"]\n",
    "\n",
    "    if max_days_diff_id == None:\n",
    "        print(\"Error\")\n",
    "\n",
    "    results = []\n",
    "    for result in movie[\"results\"]:\n",
    "        result[\"most_recent\"] = '0'\n",
    "        if result[\"video_url\"] == max_days_diff_id:\n",
    "            result[\"most_recent\"] = '1'\n",
    "        results.append(result)\n",
    "    movie[\"results\"] = results\n",
    "    new_movies.append(movie)\n",
    "movies = new_movies"
   ],
   "metadata": {
    "collapsed": false,
    "pycharm": {
     "name": "#%%\n"
    }
   }
  },
  {
   "cell_type": "code",
   "execution_count": 23,
   "outputs": [],
   "source": [
    "with open(\"./selected_trailers.csv\", \"w\") as f:\n",
    "    f.write(\n",
    "        \"uniqueID,movie_name,num_trailers,trailer_id,video_url,video_title,channel,official,teaser,days_diff,trailer_release,trailer_view,trailer_like,trailer_comment,most_recent,oldest,most_liked,most_viewed,most_comment\")\n",
    "    f.write(\"\\r\\n\")\n",
    "    for movie in movies:\n",
    "        movie_name = movie[\"movie_name\"].replace(\",\", \"\")\n",
    "        id = 0\n",
    "        for result in movie[\"results\"]:\n",
    "            official = 0\n",
    "            teaser = 0\n",
    "            if result[\"teaser\"] == \"1\":\n",
    "                teaser = 1\n",
    "            if result[\"official\"] == \"1\":\n",
    "                official = 1\n",
    "            f.write(\"{},{},{},{},{},{},{},{},{},{},{},{},{},{},{},{},{},{},{}\".format(\n",
    "                movie[\"uniqueID\"],\n",
    "                movie_name,\n",
    "                len(movie[\"results\"]),\n",
    "                id,\n",
    "                result[\"video_url\"],\n",
    "                result[\"video_title\"],\n",
    "                result[\"channel\"],\n",
    "                official,\n",
    "                teaser,\n",
    "                result[\"days_diff\"],\n",
    "                result[\"release_date\"],\n",
    "                result[\"views\"].replace(\",\", \"\"),\n",
    "                result[\"likes\"].replace(\",\", \"\"),\n",
    "                \"TO-DO\",\n",
    "                result[\"most_recent\"],\n",
    "                result[\"oldest\"],\n",
    "                result[\"most_liked\"],\n",
    "                result[\"most_viewed\"],\n",
    "                \"TO-DO\",\n",
    "            ))\n",
    "            f.write(\"\\r\\n\")\n",
    "            id = id + 1"
   ],
   "metadata": {
    "collapsed": false,
    "pycharm": {
     "name": "#%%\n"
    }
   }
  },
  {
   "cell_type": "code",
   "execution_count": 19,
   "outputs": [
    {
     "name": "stdout",
     "output_type": "stream",
     "text": [
      "The Dark Knight\n",
      "Fast & Furious\n",
      "Clash of the Titans\n",
      "Watchmen\n",
      "Superman Returns\n",
      "The Divergent Series: Insurgent\n",
      "Ghost Rider\n",
      "Happy Feet\n",
      "Casino Royale\n",
      "Cloverfield\n",
      "Chicken Little\n",
      "Get Smart\n",
      "Inglourious Basterds\n",
      "Robin Hood\n",
      "10,000 BC\n",
      "I Now Pronounce You Chuck & Larry\n",
      "Live Free or Die Hard\n",
      "A Nightmare on Elm Street\n",
      "Four Christmases\n",
      "Knocked Up\n",
      "The Curious Case of Benjamin Button\n",
      "TMNT\n",
      "Unstoppable\n",
      "Bridge to Terabithia\n",
      "The Forbidden Kingdom\n",
      "Bride Wars\n",
      "1408\n",
      "Deja Vu\n",
      "Pinocchio\n",
      "The Letters\n",
      "The Abandoned\n",
      "Blindness\n",
      "Persecuted\n",
      "The Last Legion\n",
      "Charlie Bartlett\n",
      "Burnt\n",
      "Hot Rod\n",
      "Flash of Genius\n",
      "The Notebook II\n",
      "Spider-Man 3\n",
      "Iron Man 2\n",
      "Shrek the Third\n",
      "Pirates of the Caribbean: At World's End\n",
      "Transformers: Revenge of the Fallen\n",
      "Indiana Jones and the Kingdom of the Crystal Skull\n",
      "Transformers: Dark of the Moon\n",
      "Pirates of the Caribbean: On Stranger Tides\n",
      "I Am Legend\n",
      "Harry Potter and the Order of the Phoenix\n",
      "Star Trek\n",
      "The Simpsons Movie\n",
      "300\n",
      "Shrek Forever After\n",
      "Twilight\n",
      "Maleficent\n",
      "The Bourne Ultimatum\n",
      "Up\n",
      "World War Z\n",
      "Teenage Mutant Ninja Turtles\n",
      "Madagascar: Escape 2 Africa\n",
      "Madagascar 3: Europe's Most Wanted\n",
      "Monsters vs. Aliens\n",
      "Valentine's Day\n",
      "The Incredible Hulk\n",
      "G.I. Joe: The Rise of Cobra\n",
      "Home\n",
      "Wanted\n",
      "Rush Hour 3\n",
      "Megamind\n",
      "Horton Hears a Who!\n",
      "The Hangover\n",
      "National Treasure: Book of Secrets\n",
      "How to Train Your Dragon\n",
      "American Gangster\n",
      "Terminator Salvation\n",
      "High School Musical 3: Senior Year\n",
      "Shutter Island\n",
      "Paranormal Activity 2\n",
      "The Mummy: Tomb of the Dragon Emperor\n",
      "The Last Airbender\n",
      "Rango\n",
      "Marley & Me\n",
      "Ocean's Thirteen\n",
      "Super 8\n",
      "Hellboy II: The Golden Army\n",
      "Superbad\n",
      "The Book of Eli\n",
      "Mr. Peabody & Sherman\n",
      "Evan Almighty\n",
      "Beowulf\n",
      "Bolt\n",
      "The Golden Compass\n",
      "Evil Dead\n",
      "The Town\n",
      "Resident Evil: Extinction\n",
      "Mortal Kombat\n",
      "Heaven Is for Real\n",
      "Sarah Landon and the Paranormal Hour\n",
      "Ponyo\n",
      "Half Brothers\n",
      "Moses\n",
      "Jane Got a Gun\n",
      "The Metropolitan Opera HD Live: Verdi: Luisa Miller\n",
      "Sword Art Online: Progressive - Aria of a Starless Night\n",
      "Gold\n",
      "Meet Dave\n"
     ]
    }
   ],
   "source": [
    "for movie in pending_to_select_trailers:\n",
    "    #if movie[\"no_prerelease\"] == \"1\":\n",
    "    #    print(\"Error\")\n",
    "    print(movie[\"movie_name\"])"
   ],
   "metadata": {
    "collapsed": false,
    "pycharm": {
     "name": "#%%\n"
    }
   }
  }
 ],
 "metadata": {
  "colab": {
   "provenance": []
  },
  "kernelspec": {
   "display_name": "Python 3 (ipykernel)",
   "language": "python",
   "name": "python3"
  },
  "language_info": {
   "codemirror_mode": {
    "name": "ipython",
    "version": 3
   },
   "file_extension": ".py",
   "mimetype": "text/x-python",
   "name": "python",
   "nbconvert_exporter": "python",
   "pygments_lexer": "ipython3",
   "version": "3.10.6"
  }
 },
 "nbformat": 4,
 "nbformat_minor": 1
}