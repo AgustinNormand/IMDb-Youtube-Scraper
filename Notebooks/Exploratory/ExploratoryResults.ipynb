{
 "cells": [
  {
   "cell_type": "markdown",
   "metadata": {
    "id": "Glpq9VU6mZbk",
    "pycharm": {
     "name": "#%% md\n"
    }
   },
   "source": [
    "# Reading Movies"
   ]
  },
  {
   "cell_type": "code",
   "execution_count": 33,
   "metadata": {
    "id": "vnk-yese9cPk",
    "pycharm": {
     "name": "#%%\n"
    }
   },
   "outputs": [],
   "source": [
    "import ast\n",
    "import csv\n",
    "\n",
    "results = []\n",
    "csv_filename = 'date_filtered_top_10_channel_excluded.csv'\n",
    "with open(csv_filename) as f:\n",
    "    reader = csv.DictReader(f)\n",
    "    lst = list(reader)\n",
    "    for item in lst:\n",
    "    #    print(item)\n",
    "        if item[\"channel\"] == \"\":\n",
    "            continue\n",
    "    #    break\n",
    "        results.append(item)"
   ]
  },
  {
   "cell_type": "code",
   "execution_count": 34,
   "metadata": {
    "colab": {
     "base_uri": "https://localhost:8080/"
    },
    "id": "0xdWtoRA_pGS",
    "outputId": "d05f06f8-da01-4380-af1c-d345704787b2",
    "pycharm": {
     "name": "#%%\n"
    }
   },
   "outputs": [
    {
     "data": {
      "text/plain": "5518"
     },
     "execution_count": 34,
     "metadata": {},
     "output_type": "execute_result"
    }
   ],
   "source": [
    "len(results)"
   ]
  },
  {
   "cell_type": "markdown",
   "metadata": {
    "id": "txqErKlhTQ33",
    "pycharm": {
     "name": "#%% md\n"
    }
   },
   "source": [
    "# Movie Channels\n"
   ]
  },
  {
   "cell_type": "code",
   "execution_count": 35,
   "metadata": {
    "colab": {
     "base_uri": "https://localhost:8080/"
    },
    "id": "0RpjkSiATSHA",
    "outputId": "638f3183-3975-4062-a143-4091d22afa6a",
    "pycharm": {
     "name": "#%%\n"
    }
   },
   "outputs": [],
   "source": [
    "channels = {}\n",
    "for result in results:\n",
    "    if result[\"channel\"] not in channels.keys():\n",
    "        channels[result[\"channel\"]] = 0\n",
    "    channels[result[\"channel\"]] += 1\n",
    "channels = {k: v for k, v in sorted(channels.items(), key=lambda item: item[1], reverse=True)}"
   ]
  },
  {
   "cell_type": "code",
   "execution_count": 36,
   "outputs": [
    {
     "data": {
      "text/plain": "{'Sony Pictures Entertainment': 284,\n 'Warner Bros. Pictures': 261,\n 'Universal Pictures': 166,\n '20th Century Studios': 132,\n 'Zero Media': 111,\n 'Lionsgate Movies': 91,\n 'ONE Media': 84,\n 'Movie Coverage': 81,\n 'Walt Disney Studios': 79,\n 'IGN': 76,\n 'Marvel Entertainment': 72,\n 'Paramount Pictures': 71,\n 'KinoCheck': 51,\n 'SensaCine TRAILERS': 49,\n 'Movie Trailers Source': 45,\n 'Pixar': 44,\n 'Peacock Kids': 40,\n 'Moviefone': 40,\n 'FilmSelect Trailer': 39,\n 'Rapid Trailer': 39,\n 'Metropolitan Opera': 39,\n 'Roadshow Films': 37,\n 'FilmSelect Español': 32,\n 'hollywoodstreams': 31,\n 'Illumination': 30,\n 'Cieon Movies': 29,\n 'Paramount Pictures International': 29,\n 'Focus Features': 29,\n 'Walt Disney Animation Studios': 27,\n 'Fox Family Entertainment': 26,\n 'SearchlightPictures': 26,\n 'Open Road Films': 24,\n '@HOLLYWOOD': 23,\n 'MGM': 23,\n 'StudiocanalUK': 23,\n 'Regal': 23,\n 'Entertainment Access': 21,\n 'FilmIsNow Movie Trailers International': 21,\n 'ColumbiaPicturesPhils': 20,\n 'IGN Movie Trailers': 20,\n 'SonyPicturesMéxico': 20,\n 'Star Wars': 19,\n 'The Fast Saga': 19,\n 'RoadsideFlix': 19,\n 'CineMovs Trailers': 18,\n 'The Dollar Theater': 18,\n 'Stream Movie Trailers': 18,\n 'IMAX': 17,\n 'FilmSpot Trailer': 16,\n 'ClevverTV': 16,\n 'eOnefilms': 16,\n 'Fandom Entertainment': 15,\n 'ELMentado Chavez': 15,\n 'LionsgateFilmsUK': 14,\n 'GameSpot Universe Trailers': 14,\n 'JoBlo Movies': 14,\n 'FilmIsNow Movie Bloopers & Extras': 13,\n 'DC': 13,\n 'New Trailer Buzz': 13,\n '20th Century Studios AU': 13,\n 'Eagle Films': 13,\n 'CINECONECTA': 12,\n 'E! News': 12,\n 'VVS Films': 12,\n 'A24': 12,\n 'Fathom Events': 12,\n 'The Hunger Games': 11,\n 'Collider Extras': 11,\n 'The Twilight Saga': 11,\n 'trailerscine': 11,\n 'PlayStation': 10,\n 'Legendary': 10,\n 'STXfilms': 10,\n 'Madman Films': 9,\n 'DanceOn': 9,\n '5max1HD': 9,\n 'Warner Bros. DE': 9,\n 'IFC Films': 9,\n 'BlackTree TV': 8,\n 'X-Men Movies': 8,\n 'Planet of the Apes': 8,\n 'Fandango Latam': 8,\n 'Sony Pictures Animation': 8,\n 'FilmIsNow Family Movies & Trailers': 8,\n '20th Century Studios NZ': 8,\n 'CBS Films': 8,\n 'Universal Pictures Nederland': 7,\n 'Transformers': 7,\n 'VILLAGE': 7,\n 'Sony Pictures Italia': 7,\n 'Movie Trailers': 7,\n 'HBO Max': 7,\n 'Bleecker Street': 7,\n 'Paramount Movies': 7,\n 'Aniplex USA': 7,\n 'Trailer Coverage': 7,\n 'Royal Opera House': 7,\n 'Movie Trailers Brought To You By FlickDirect': 7,\n 'DeinKinoticket.de': 7,\n 'PicturehouseDF': 7,\n 'Netflix': 7,\n 'BrothersSolomon': 7,\n 'MxTrailers HD': 6,\n 'MovieGasm.com': 6,\n 'Corazón Films': 6,\n '20th Century Studios DE': 6,\n 'AMC Theatres': 6,\n 'Flicks And The City Clips': 6,\n 'Kung Fu Panda': 6,\n 'Streaming Clips': 6,\n 'Empire Movies': 6,\n 'Fandango All Access': 6,\n 'Madman Anime': 6,\n 'overturefilms': 6,\n 'Magnolia Pictures & Magnet Releasing': 6,\n 'Warner Bros.': 6,\n 'Disney On Broadway': 6,\n 'NEXTLEVEL Movie Trailers': 6,\n 'NEON': 6,\n 'Trafalgar Releasing': 6,\n 'Orion Pictures': 6,\n 'Lifemark Movie': 6,\n 'LetsGoToPrison': 6,\n 'Estrenopelis.net': 5,\n 'James Kearney': 5,\n 'James Bond 007': 5,\n 'Fifty Shades': 5,\n 'Warner Bros. Italia': 5,\n ' Boxoffice Movie Scenes ☆ Animation ': 5,\n '20th Century Studios NL': 5,\n 'Queen Official': 5,\n 'watchCulturetainment': 5,\n 'Roadshow Films NZ': 5,\n 'WEBW0MBAT': 5,\n 'Jimmy Kimmel Live': 5,\n 'Entertainment Tonight': 5,\n 'Justin Bieber': 5,\n 'Beyond The Trailer': 5,\n 'Christianbook.com': 5,\n 'Provident Films': 5,\n 'Rotten Tomatoes Family': 5,\n 'Sony Pictures Classics': 5,\n 'DanTDM': 5,\n 'Icon Film Distribution': 5,\n 'Amazon Studios': 5,\n 'GorositoTV': 5,\n 'Allen Media Group': 5,\n 'VaDeTrailers': 5,\n 'FilmIsNow Action Movies': 5,\n 'orfeoedeuridice777': 5,\n 'Dolby': 4,\n 'Screen Culture': 4,\n 'THG Fansite': 4,\n 'Jurassic World': 4,\n 'Independent Films': 4,\n 'Electronic Arts': 4,\n 'XDP1026DX': 4,\n 'Disney Deutschland': 4,\n 'Sony Pictures New Zealand Official': 4,\n 'Wizarding World': 4,\n 'GlobalTrailers': 4,\n 'STUDIOCANAL New Zealand': 4,\n 'LEONINE Studios': 4,\n 'Disney IT': 4,\n 'Trailers Subtitulados': 4,\n 'Viacom18 Studios': 4,\n 'cameronknowlton': 4,\n 'AwesomenessTV': 4,\n 'ScreamFactoryTV': 4,\n 'UMP Movie Guide': 4,\n 'MoviePoolmovies': 4,\n 'None': 4,\n 'MovieTrailersHot': 4,\n 'aBaNDoMoVieZ trailers': 4,\n 'Anchorman Movie': 4,\n 'FilmFabriek': 4,\n 'iamrogue': 4,\n 'JoBlo Animated Videos': 4,\n 'shaw theatres': 4,\n 'GKIDS Films': 4,\n 'SHINE LABS': 4,\n 'GSC Movies': 4,\n 'Foo Fighters': 4,\n 'Film Threat': 4,\n 'JoBlo Movie Clips': 4,\n 'RialtoDistribution': 4,\n 'Imagine Cinemas': 4,\n 'Movieguide': 4,\n 'ANNAPURNA': 4,\n 'Sight & Sound': 4,\n 'Beautifully Broken Movie': 4,\n 'Trailers Oficiales En Español': 4,\n 'The Resurrection of Gavin Stone': 4,\n 'Pure Flix': 4,\n 'EuropaCorpUS': 4,\n 'GORILLA REACTSTREAM': 3,\n 'The Cyber Nerds': 3,\n 'TheEllenShow': 3,\n 'FFF Kino': 3,\n 'SonyPicturesLatam': 3,\n 'Disney Sverige': 3,\n 'Miramax': 3,\n 'TheTrailerSiteDOTcom': 3,\n 'Pitch Perfect': 3,\n 'WilliamXimenez': 3,\n 'DisneyJuniorUK': 3,\n 'TMNT Movie': 3,\n 'Mission Impossible': 3,\n 'NewLine': 3,\n 'ESMTrailersHD': 3,\n 'Alien Anthology': 3,\n 'ComingSoonFilm': 3,\n 'isthemoviegood': 3,\n 'KinoCheck Horror': 3,\n 'Ghostbusters': 3,\n 'Screen Rant Plus': 3,\n 'Angry Birds': 3,\n 'Think Jam': 3,\n 'vipmagazin': 3,\n 'ThePopcornfever': 3,\n 'WB Kids': 3,\n 'Tomorrowland': 3,\n 'The Tonight Show Starring Jimmy Fallon': 3,\n 'Flamezor': 3,\n 'DutchRainbowTrailers': 3,\n 'The Movie Planet': 3,\n 'ScreenSlam': 3,\n 'Red Bull': 3,\n 'Voltage Pictures': 3,\n 'Popcorn Entertainment': 3,\n 'Fear: The Home Of Horror': 3,\n 'julianleftonmovies': 3,\n 'HD Retro Trailers': 3,\n 'Crunchyroll Collection': 3,\n 'Screambox': 3,\n 'Will Smith': 3,\n 'bradyemmel': 3,\n 'Arts Alliance': 3,\n 'PatternsOfEvidence': 3,\n 'The Official Pokémon YouTube channel': 3,\n 'Royale Movie Trailers': 3,\n 'RHINO': 3,\n 'Puffs The Play': 3,\n 'The Avenue Film': 3,\n 'Good Morning America': 3,\n '23 Blast': 3,\n 'Movie Trailers Cinema': 3,\n 'YFGR': 3,\n 'Broad Green Pictures': 3,\n 'KinoCheck Emotions 💖': 3,\n 'Relativity Media': 3,\n 'MET im Kino': 3,\n 'Briarcliff Entertainment': 3,\n 'LD Entertainment': 3,\n 'Ingresso.com': 3,\n 'Signature Entertainment': 3,\n 'BH Tilt': 3,\n 'Silver Lining Entertainment': 3,\n 'The Home of Shaun the Sheep': 3,\n 'DreamWorks Spirit': 3,\n 'InTheNameOfKing': 3,\n 'DisneyMusicVEVO': 2,\n 'Scholastic': 2,\n 'The Graham Norton Show': 2,\n 'apnatvHD': 2,\n 'Fueled By Ramen': 2,\n 'Lady Gaga': 2,\n 'The Late Late Show with James Corden': 2,\n 'Disney New Zealand': 2,\n 'crzymalu': 2,\n 'IndianaJonesSite': 2,\n 'HDTR4ILERS': 2,\n 'Godzilla: King of the Monsters': 2,\n 'BreadCrustCouncil': 2,\n 'Warner Bros. Pictures International': 2,\n 'WWE': 2,\n 'triviatrailers': 2,\n 'Bdynamitze': 2,\n 'MakingOf': 2,\n 'traileru': 2,\n 'IndiaMarvel': 2,\n 'The Midnight Screening': 2,\n 'Harry Potter': 2,\n 'Avatar': 2,\n 'Michael Jackson': 2,\n 'DeAPlaneta': 2,\n \"Dr. Seuss' The Lorax\": 2,\n 'bourneultimatummovie': 2,\n 'LEGO': 2,\n 'PLAYLIVE Trailers': 2,\n 'QuantumOfSolace': 2,\n 'Sony Pictures Brasil': 2,\n 'EstrenosCinema': 2,\n 'Phase 4 Films': 2,\n 'N.W.A.': 2,\n 'Screen Bites': 2,\n 'SexAndTheCityFilm': 2,\n 'Snow White and the Huntsman': 2,\n 'SpongeBob SquarePants Official': 2,\n 'Universal Pictures NZ': 2,\n 'apeswillrise': 2,\n 'fsilverscreen': 2,\n 'Vidz Faz': 2,\n 'Logan': 2,\n 'Toronto After Dark: Horror SciFi Action FilmFest': 2,\n 'PrometheusNews': 2,\n 'El Séptimo Arte': 2,\n '20th Century Studios Italia': 2,\n 'alvinello': 2,\n 'Filmagic': 2,\n 'Interstellar Movie': 2,\n 'officialiceage': 2,\n 'stelenaforever89': 2,\n 'Sony Pictures Home Entertainment': 2,\n 'Warner Bros. ME': 2,\n 'WamBamFam': 2,\n 'RlsTvDotCom': 2,\n 'TODAY': 2,\n 'cjne7': 2,\n 'The Asylum - Official Trailers': 2,\n 'CasinoRoyaleMovie': 2,\n 'TheTrailerFactor': 2,\n 'LastAirbenderFans': 2,\n 'VEOCLIPS': 2,\n 'GameZone': 2,\n 'Peacock': 2,\n 'somosCINE.com': 2,\n 'Veacine Estrenos': 2,\n 'HoptheMovie': 2,\n 'UGO': 2,\n 'Warner Bros. Pictures Brasil': 2,\n 'Flicks And The City': 2,\n 'cowboysandaliensfilm': 2,\n \"JonClem310's Clown Pill Media\": 2,\n 'datrailershd': 2,\n 'shortcutdanne': 2,\n 'CineTvTrailers': 2,\n 'Young Hollywood': 2,\n 'frenchmanofsteel': 2,\n 'Jennifer Lopez': 2,\n 'StudioCanal Español': 2,\n 'Supra Cinema': 2,\n 'Smasher': 2,\n 'badteachermovie': 2,\n 'daniwelcome': 2,\n 'JChaseFilms': 2,\n 'AdventureFun!': 2,\n 'Universal Pictures Latam': 2,\n 'OlympusHasFallen': 2,\n 'ComingSoon.net': 2,\n 'Enspired Media': 2,\n 'N.B.': 2,\n 'iMovieTrailersMx': 2,\n 'FilmIsNow Trailer & Clip in Italiano': 2,\n 'PVR Pictures': 2,\n 'MissSanctuary1': 2,\n 'The Muppets': 2,\n '20th Century Studios Schweiz': 2,\n 'Indie Rights Movies For Free': 2,\n 'TheUglyTruthMovie': 2,\n 'glows': 2,\n 'Zima Entertainment': 2,\n 'Curiouser Archive': 2,\n 'P!NK': 2,\n 'Reliance Entertainment': 2,\n 'Warner Bros NL': 2,\n 'PinnacleFilmsSales': 2,\n 'retro VHS trailers': 2,\n 'FilmTrailersChannel': 2,\n 'The Trailer Guy': 2,\n 'Battleship': 2,\n 'decine21': 2,\n 'Buenavistacine': 2,\n 'AngellMalak': 2,\n 'ABS-CBN Star Cinema': 2,\n 'PredatorsTheMovie': 2,\n 'MOVIE PREDICTOR': 2,\n 'TrailerGott': 2,\n 'lastmintrailers': 2,\n 'World of Warcraft': 2,\n 'Trailers Clips': 2,\n 'Demasiado Cine!': 2,\n 'Universal Pictures BE': 2,\n 'WebHDChannel': 2,\n 'VantagePointMovie': 2,\n 'RapaduraCast': 2,\n 'SafeHavenMovie': 2,\n '55johnrudd': 2,\n 'AdjustmentBureau': 2,\n 'Crunchyroll en Español': 2,\n 'ResidentEvilMovie': 2,\n 'UnderworldTheMovie': 2,\n 'FilmTrailers': 2,\n 'Popcorn Trailers': 2,\n 'Prem': 2,\n 'oogielovesadventure': 2,\n 'Prime Video AU & NZ': 2,\n 'HBO': 2,\n 'Front Row Filmed Entertainment': 2,\n 'Elevation Pictures': 2,\n 'The Movie Couple': 2,\n 'Mongrel Media': 2,\n 'CinEvents': 2,\n 'Courageous Legacy': 2,\n 'Enzof66': 2,\n 'Film Coverage Trailer': 2,\n 'thecultbox': 2,\n 'The Movie Times': 2,\n 'BroadwayInHD': 2,\n 'OTZ Media': 2,\n 'KinoCheck Trailers': 2,\n 'RLJE Films': 2,\n 'Trailer Party': 2,\n 'virginityhit': 2,\n 'Forrest Films': 2,\n 'CinemaDrunk': 2,\n 'Movie Ranker': 2,\n 'CINEPLEX EVENTS': 2,\n 'Classical Music/ /Reference Recording': 2,\n 'Movie Trailer': 2,\n 'Horror Brains': 2,\n 'Exclusive Clips': 2,\n 'StandingOvationMovie': 2,\n 'The Crystal Method': 2,\n 'DE BOLETO TRAILERS': 2,\n 'Regal Entertainment Inc.': 2,\n 'Pathe': 2,\n 'Friends': 2,\n 'DiamondFilmsLatam': 2,\n 'Crusshy': 2,\n 'Cinedigm': 2,\n 'infidelmovie': 2,\n 'Electric Entertainment': 2,\n 'MadAtoms': 2,\n 'Plumb (official)': 2,\n 'BuckyLarson': 2,\n 'ABC News': 2,\n 'Rogue Valley Fellowship': 2,\n 'Cieon Trailers': 2,\n 'The Upcoming': 2,\n 'OfficialMaxSteel': 2,\n 'Viki Global TV': 2,\n 'Christian Film Trailers': 2,\n 'God Bless the Broken Road Movie': 2,\n 'Rascal Flatts': 2,\n 'The View': 2,\n 'Iva Karamanska': 2,\n 'Cinelou Films': 2,\n 'georgemichael': 2,\n 'Entertainment Weekly': 2,\n 'PatrioticToDaBone': 2,\n 'Coldplay': 2,\n 'SF Cinema': 2,\n 'TIFF Trailers': 2,\n 'greymatter711': 2,\n 'iFedeLima YT': 2,\n 'Apple TV': 2,\n 'Nu Metro': 2,\n 'Aardman Animations': 2,\n 'Sharmill Films': 2,\n 'Flash Trailer': 2,\n 'Unbroken: Path To Redemption': 2,\n 'Sam brown': 2,\n 'Totalfilm.cz': 2,\n 'Vertice360Spain': 2,\n 'Blockbuster': 2,\n 'Maandi House Studios *MHS*': 2,\n 'KinoStar Trailer': 2,\n 'WalkHardMovie': 2,\n '3dnonny1': 2,\n 'thepunisherwarzone': 2,\n 'South Pacific Pictures': 2,\n 'Atlas Shrugged Part 1': 2,\n 'LAIKA Studios': 2,\n 'Indivisible': 2,\n 'KinoCheck Family': 2,\n 'Movies Change People': 2,\n '20th Century Studios IE': 2,\n 'Paramount Pictures New Zealand': 2,\n 'Moviebill': 2,\n 'MollyHartley': 2,\n 'Hot Tub Time Machine Movie': 2,\n 'Teaser PRO': 1,\n 'The WULF ': 1,\n 'Aarón Rosales': 1,\n 'Hyper RPG': 1,\n 'Eduardo Tavera On': 1,\n 'Soundgarden': 1,\n 'Bunnymon': 1,\n 'Nat Geo WILD': 1,\n 'Movieclips Action': 1,\n 'Jake Ceja': 1,\n 'Heroes Reforged': 1,\n 'Disney Schweiz': 1,\n 'Rihanna': 1,\n 'EurogamerGermany': 1,\n 'The Sun': 1,\n 'HDR-X': 1,\n 'Fandisgis': 1,\n 'TheMediaCows': 1,\n 'SpartaSoft - ★ Trailers FULL HD ★': 1,\n 'Masisohanify': 1,\n 'dimeraphoenix86': 1,\n 'Grable424': 1,\n 'Star Wars NL': 1,\n 'Nordisk Film Sverige': 1,\n 'Spiderman3Movie': 1,\n 'Brick FORCE Studios': 1,\n 'Piero Donzelli': 1,\n 'EpicMashups': 1,\n 'TheThings': 1,\n 'Harushi23': 1,\n 'Seventeen': 1,\n 'Screen Junkies': 1,\n 'jjj': 1,\n 'Fanmosas': 1,\n 'Bollygrad Studioz': 1,\n 'Celine Dion': 1,\n 'Rhode Island Entertainment Networks Group': 1,\n 'Marvel Universe': 1,\n 'ThatDudeRightThere': 1,\n 'Margarita Ocaña': 1,\n 'Quetzalcoatl83': 1,\n 'freedogshampoo': 1,\n 'ELSUBTITULADOR': 1,\n 'DeKu': 1,\n 'Tonni C': 1,\n 'PotCFansite': 1,\n '16darkside': 1,\n 'Picktzar': 1,\n 'DCT0000': 1,\n 'Cross': 1,\n 'tubewatcher77': 1,\n 'LolaLoudFanatic 2020': 1,\n 'Animation Society': 1,\n 'Homer Thompson': 1,\n 'iAmRipper': 1,\n 'IndianaJonesMovie': 1,\n 'Michael Bay': 1,\n 'EntertainmentNewsi': 1,\n 'Movieline': 1,\n 'Gtantrax91': 1,\n 'Dylan Hogan': 1,\n 'Smoking Alien Productions': 1,\n 'Zona Trailers': 1,\n 'Dream Warrior Pictures': 1,\n 'Marvel Nederland': 1,\n 'Sowick': 1,\n 'Eros Now Movies Preview': 1,\n 'SerpentDiaboli': 1,\n 'Cut the best of': 1,\n 'DarkSlayerEpic': 1,\n 'PakoMorientes': 1,\n 'jbfilmsofficial': 1,\n 'OnStrangerTides': 1,\n 'carteleramax': 1,\n 'UltimateMovieSite': 1,\n 'Entretenimiento': 1,\n 'Adele': 1,\n 'theBTFabian': 1,\n 'Martin Kubiš': 1,\n 'DefHiTrailers': 1,\n 'Enrique Lopez': 1,\n 'TrailersDelAnillo': 1,\n 'The Weeknd': 1,\n 'Daniela Herrera': 1,\n 'aziz reyog': 1,\n 'xmenorigenewolverine': 1,\n 'MMEVIDEOHQ': 1,\n 'Moviepilot Trailer': 1,\n 'SnoutyPig': 1,\n 'TrailerFull1080p': 1,\n 'SuperDuo': 1,\n 'Castina1980': 1,\n 'HBO Trailer': 1,\n 'AMBI Distribution': 1,\n 'El antepenúltimo mohicano': 1,\n 'Push Square': 1,\n 'akui88': 1,\n 'Harlychan': 1,\n 'constance1509': 1,\n 'STSection31': 1,\n 'Soundtracks4Life': 1,\n 'Mike': 1,\n 'WarnerBrosSwitzerland': 1,\n 'Sean Hussey': 1,\n 'navajadeoccamm': 1,\n 'Preston': 1,\n 'Chaotix Br': 1,\n 'Kreativa Media': 1,\n 'LatestMovieTrailers': 1,\n 'Mark Warner': 1,\n 'ExclusiveTrailer': 1,\n 'MrPlayerism2': 1,\n 'SAM SMITH': 1,\n 'GameTrailers': 1,\n 'TH 1 HOUR CLIPS': 1,\n 'EnelyaMalfoyPiton': 1,\n 'tiph uy': 1,\n 'Vevo': 1,\n 'iactaaleaest': 1,\n 'Antikythero': 1,\n 'Disney Danmark': 1,\n 'AnimatedMoviesC': 1,\n 'Illumination Latam': 1,\n 'Activision': 1,\n '4K Clips And Trailers': 1,\n 'Superhero News': 1,\n 'Disneyland Experience': 1,\n 'Nickelodeon': 1,\n 'Forever Cinematic Trailers': 1,\n 'Matthew Unwin': 1,\n '2012movie': 1,\n 'TrailersCritic': 1,\n 'TheFilemovie': 1,\n '412smb': 1,\n 'cooltubenet': 1,\n 'SCfootshow91': 1,\n 'alexisguay': 1,\n \"Mahmoud 'MHM'\": 1,\n 'DreamworksAnimFan': 1,\n 'Madagascar2Music': 1,\n 'WallEMovie': 1,\n 'BoxOfficeSmashers': 1,\n 'NolanFans': 1,\n 'Black Eyed Peas': 1,\n 'superhooyooman': 1,\n 'The Local Guy': 1,\n 'Kong: Skull Island': 1,\n 'MTV': 1,\n 'DrewsTrailers': 1,\n 'mcuby': 1,\n 'AlamoDrafthouseOC': 1,\n 'kackylacky': 1,\n 'Laugh Over Life': 1,\n 'surreal entertainment': 1,\n 'AnimationRewind': 1,\n 'D TRAILERS': 1,\n 'Okeanos Foundation for the Sea': 1,\n 'ItsSoFluffyAgnes': 1,\n 'Jeremy Solomon': 1,\n 'Skydance': 1,\n 'IncredibleHulk2008': 1,\n 'Gabe Solo': 1,\n 'Annoying Orange': 1,\n 'Billie Eilish': 1,\n 'mgcristi': 1,\n 'RandomClips2008': 1,\n 'Blake Dale': 1,\n 'rof zed': 1,\n 'gamingbits': 1,\n 'On Demand Entertainment': 1,\n 'Moiz009': 1,\n 'Ted': 1,\n 'NewCinema': 1,\n 'MajescoGames': 1,\n 'BestHDTrailers': 1,\n 'TrailersmoviesHD': 1,\n 'jucedmovietrailer': 1,\n 'Ariel Santarelli': 1,\n 'Film Movement': 1,\n 'BluePlayzPE': 1,\n 'TITANIUM': 1,\n 'jaronpitts': 1,\n 'Josh2212': 1,\n 'pompeycharlie': 1,\n 'SilverGrey Pictures': 1,\n 'Fox Familia': 1,\n 'Movie Network': 1,\n 'chicosacer': 1,\n 'BSlick23': 1,\n 'loveasianfilm': 1,\n 'Lotte Entertainment (International)': 1,\n 'RandomChillz': 1,\n 'GRIN': 1,\n 'MrMovienews': 1,\n 'SlickGenius': 1,\n 'BboyLudz': 1,\n 'HighDefintionVideos': 1,\n 'kEc0h': 1,\n 'JustTrailersHD': 1,\n 'Fifth Harmony': 1,\n 'Ed Sheeran': 1,\n 'Carol Rodríguez': 1,\n 'DoomedMovies': 1,\n 'Rafael Lacerda': 1,\n 'rodrigovive35': 1,\n 'Taylor Swift': 1,\n 'Sony Pictures Nederland': 1,\n 'RayParkerJuniorVEVO': 1,\n 'Danny Malino': 1,\n 'MediaMeli': 1,\n 'Justin Adamson': 1,\n 'L7world': 1,\n 'exr': 1,\n 'SnPEntertainment': 1,\n 'bailahmos78': 1,\n 'alicedice': 1,\n 'hangover': 1,\n 'BookOfSecrets': 1,\n 'TheTodohd': 1,\n 'Felix Seito': 1,\n 'Blind Wave': 1,\n 'MC Entertainment': 1,\n 'GavsTrailers': 1,\n 'animwizard': 1,\n 'TrailersChannel': 1,\n 'Glenn Thomas': 1,\n 'TerminatorSalvation': 1,\n 'CrapFromYTG': 1,\n 'Spinal1978': 1,\n 'HeezNeez': 1,\n 'HotelTrans': 1,\n 'EpicTrailerMusicUK': 1,\n 'VanessaAneeHudgens': 1,\n 'Ashley Tisdale': 1,\n 'Disney Norge': 1,\n 'NelunaTV': 1,\n 'mimaginations': 1,\n 'Trailers En Español': 1,\n 'OfficialTrailersLTD': 1,\n 'vtrailershd': 1,\n 'runescaperox2002': 1,\n 'BuzzFeedVideo': 1,\n 'qingxiang87': 1,\n 'Ride Along': 1,\n 'jaby koay': 1,\n 'cinepremiere': 1,\n 'lauren32596': 1,\n 'DetodoExpres': 1,\n 'avoner': 1,\n 'gijoemovie': 1,\n 'DylanP': 1,\n 'Abiathar3040': 1,\n 'D man71': 1,\n 'trailers4': 1,\n 'LastAirbenderFilm': 1,\n 'MrUnlimitedtrailers': 1,\n 'verguitaaple': 1,\n 'Slotorama': 1,\n 'SKARMOVIES': 1,\n 'SafeHousetheMovie': 1,\n 'Sowierz': 1,\n 'CloverfieldHype': 1,\n 'SeptimoVicio': 1,\n 'Wilson Cleveland': 1,\n '#StruggleNation': 1,\n 'Blumhouse': 1,\n \"My Little Reddit [Jay 'The Brain' Mann]\": 1,\n 'WildHogsMovie': 1,\n 'grafou194': 1,\n 'Studio C': 1,\n 'Monde Animation': 1,\n 'Face Off': 1,\n 'Sony Pictures Ris': 1,\n 'GetSmartContest': 1,\n 'onecerebro': 1,\n 'Robert Galluzzo': 1,\n 'Twinkle Sharon': 1,\n 'FiftyShadesVEVO': 1,\n 'FunnyBoogers': 1,\n 'DontMessWithTheZohan': 1,\n 'Hozier': 1,\n 'Romeo Santos': 1,\n 'Tomos Surrey': 1,\n 'Pursuitist': 1,\n 'BontonfilmCZ': 1,\n 'CINEONLINE1': 1,\n 'TrailersMultitude': 1,\n 'Jorge Asencio': 1,\n 'leagueoffiction': 1,\n 'KamaainaLiving': 1,\n 'Ziggy Marley': 1,\n 'SMMC4lyfe': 1,\n 'prissvegeta135': 1,\n 'tehinteractive 1': 1,\n 'CappaZack': 1,\n 'AppleTrailers': 1,\n 'ReportThreats': 1,\n 'blah!': 1,\n 'BattleLAMovie': 1,\n 'everything in anything': 1,\n 'Fanhenri': 1,\n 'CinemaTrailer2010': 1,\n 'John Saloniki': 1,\n 'Xbox On': 1,\n 'yjmm12': 1,\n 'Mozi Star': 1,\n 'The Rock': 1,\n 'ABBA': 1,\n 'TheNewestMovies': 1,\n 'HD Film Tributes': 1,\n '43shen': 1,\n 'IdentityThiefMovie': 1,\n 'UniversalTH': 1,\n 'BatmanMovie': 1,\n 'Chill Time': 1,\n 'HellboyIIGoldenArmy': 1,\n 'kawasakininja13': 1,\n 'M Murphy': 1,\n 'ipronounceyou': 1,\n 'pussinboots': 1,\n 'The Purge': 1,\n 'MovieTrailersPR': 1,\n 'Helena Spring Films': 1,\n 'LaCosaCineCentral': 1,\n 'ParamountPicturesGER': 1,\n 'YouLookThat': 1,\n 'FilmTrailersOfficial': 1,\n 'Jennifer Hudson': 1,\n 'Shania Twain': 1,\n 'JevickFilms': 1,\n 'porqueyolodiga': 1,\n 'jrevans': 1,\n 'gabriargento': 1,\n 'oldandnewtrailers': 1,\n 'Cutting Edge': 1,\n 'kenpostory': 1,\n 'The Living Guru': 1,\n 'jr1356': 1,\n 'saber124': 1,\n 'AreYouSuperBad': 1,\n 'David Gregory': 1,\n 'MrHegosa': 1,\n 'flashspacer': 1,\n 'Jason Feinberg': 1,\n 'TheScribbler': 1,\n 'DiscoverMiley': 1,\n 'TheHannahMontanaFilm': 1,\n 'MileyCyrusHits': 1,\n 'AlexlllMontana': 1,\n 'MileynNoahCyrus': 1,\n 'SweetxJonasxDreams': 1,\n 'deeagirl1': 1,\n 'Lido et Des Chutes': 1,\n 'SuperFilmTrailers': 1,\n 'PaulBlartMallCop': 1,\n 'saw4movie': 1,\n 'djneroakatc': 1,\n 'kunndry': 1,\n 'halloweenvideos': 1,\n 'XboxViewTV': 1,\n 'Disney Games': 1,\n 'KittyCat2377': 1,\n 'Beonidas': 1,\n 'trailersinfojet': 1,\n 'TheHollywoodGo': 1,\n 'Telemundo English': 1,\n 'thewolfmanmovie21210': 1,\n '4 All': 1,\n 'vuk vucko': 1,\n 'themoviedigest': 1,\n 'Our Honest Opinion': 1,\n 'jaa2010': 1,\n 'WTL': 1,\n 'Special_Effect': 1,\n 'Digital Theatre': 1,\n 'Disney FR': 1,\n 'Kinolog': 1,\n 'Tadziu Arriola': 1,\n 'ultraleche': 1,\n 'sandis22': 1,\n 'myxmovie': 1,\n 'StepBrothers': 1,\n 'MovieTrailerDepot': 1,\n 'CineCartelera': 1,\n 'TheChampagneofVideos': 1,\n 'elincidente': 1,\n 'MrMovieTrailer': 1,\n 'Justgowithitmovie': 1,\n 'Naheel Al-Rumi': 1,\n 'idoru345': 1,\n 'GamingApeMOVIES': 1,\n 'MondAgave': 1,\n 'Bollywood And Hollywood': 1,\n 'GameSpot Universe': 1,\n 'Latinolvideos': 1,\n 'GerrysCornerChannel': 1,\n 'AintItCoolTrailers': 1,\n 'Ubisoft': 1,\n 'Never Land': 1,\n 'ShobaryWesterns': 1,\n 'Francisco Maldonado': 1,\n 'iamturdrocket87': 1,\n 'psychocrush08': 1,\n 'YENYOMAN': 1,\n 'M0vieGuru': 1,\n 'Torched Murp': 1,\n 'londonforchristmas': 1,\n 'Movie-JupJup Playlist': 1,\n 'Mr Deyas': 1,\n 'UIP Türkiye': 1,\n 'Animation Trailers': 1,\n 'RAPID HEART TV': 1,\n 'darkshadowsmovie': 1,\n 'INVONT': 1,\n 'VEJA SÃO PAULO': 1,\n 'B&H Film Distribution Company': 1,\n 'MusicThread': 1,\n 'Total Entertainment Movies': 1,\n 'ThinkLikeAManMovie': 1,\n 'DVDExtrasAndMore': 1,\n 'fred cdobbs': 1,\n 'Valve': 1,\n 'BrotherhoodWorkshop': 1,\n 'florencemachine': 1,\n 'Caribbean Cinemas RD': 1,\n 'Agatha Christie': 1,\n 'Thetop10MusicVideos': 1,\n 'TRAILER CITY': 1,\n 'Mama': 1,\n 'Planetwide': 1,\n 'Brian Crecente': 1,\n 'HorrorfilmKeller': 1,\n 'harry7d': 1,\n 'metallo2006': 1,\n 'TrailerGrl': 1,\n 'Universal Pictures Russia': 1,\n 'Libros Galaxy': 1,\n 'davidreina88': 1,\n 'S. Scott Voorhees': 1,\n 'JokerTheNoNameGamer': 1,\n 'technotrancelovers': 1,\n 'movietrailer007': 1,\n 's0ng5': 1,\n 'X X': 1,\n 'a3kproductions': 1,\n 'UWANTTrailers': 1,\n 'realsteeltrailer': 1,\n 'LesMiserablesFilm': 1,\n 'OldSchoolTrailers': 1,\n 'oscopelabs': 1,\n 'Trailer Chan': 1,\n 'Christi Daugherty': 1,\n 'The Kaimob React': 1,\n 'VideocomTrailers': 1,\n 'Samuel Odifa': 1,\n 'One More Trailer': 1,\n 'IwannaMediaClips': 1,\n '2 Guns': 1,\n 'CineFix - IGN Movies and TV': 1,\n 'Dale Jurisic': 1,\n 'GameSpot Trailers': 1,\n 'mrdewd': 1,\n 'Funny Or Die': 1,\n 'CinexisBlog': 1,\n 'A24 Movies': 1,\n 'SleepyMarco': 1,\n 'Bamboo Reaction': 1,\n 'First Run Features': 1,\n 'BridesmaidsMovie': 1,\n 'Cinemark': 1,\n 'Terapsina': 1,\n 'BridgeToTheStars': 1,\n 'Sparkling1986': 1,\n 'Javier Sánchez': 1,\n 'Video Cream': 1,\n 'TheSuperkkz': 1,\n 'EvilDeadMovie': 1,\n 'RetroSpectoVideos': 1,\n 'Elton John': 1,\n 'Bartamaha': 1,\n 'HDTRAILERSLIVE': 1,\n 'ultimateretro': 1,\n 'DUB Magazine': 1,\n 'KucukPrensinGezegeni': 1,\n 'CVCLAVOZ': 1,\n 'TheAlpacino921': 1,\n 'TTGTrailers': 1,\n 'Trailer Hut Media': 1,\n 'MovTraiCinema': 1,\n 'Too Hilarious': 1,\n 'HyperTrailers EU': 1,\n 'XtraRyder': 1,\n 'RealTimeTrailers': 1,\n 'UnderworldMovie': 1,\n 'OfficialMovieTralire': 1,\n 'MeetTheRobinsonsFilm': 1,\n 'JinJin': 1,\n 'AnOldCallofDutyComrade': 1,\n 'The YBF': 1,\n 'Thom Goddard': 1,\n 'holic120': 1,\n 'Demi Lovato': 1,\n 'SonyPicturesGermany': 1,\n 'Beckin1': 1,\n 'PARAVERuy': 1,\n 'Expansive Worlds': 1,\n 'AVFvideofilms': 1,\n 'Viral Movies': 1,\n 'maxidan2': 1,\n 'Stallon66': 1,\n 'The Movie Trailer Company': 1,\n 'KevinGame2': 1,\n 'KnowingMovie09': 1,\n 'EarlimartRecords': 1,\n 'movietrailer101': 1,\n 'FandomReactions': 1,\n 'Blitz Berlin': 1,\n 'Strand Releasing': 1,\n ...}"
     },
     "execution_count": 36,
     "metadata": {},
     "output_type": "execute_result"
    }
   ],
   "source": [
    "channels"
   ],
   "metadata": {
    "collapsed": false,
    "pycharm": {
     "name": "#%%\n"
    }
   }
  },
  {
   "cell_type": "markdown",
   "metadata": {
    "pycharm": {
     "name": "#%% md\n"
    }
   },
   "source": [
    "# Referencias geograficas en el canal"
   ]
  },
  {
   "cell_type": "code",
   "execution_count": 37,
   "metadata": {
    "colab": {
     "base_uri": "https://localhost:8080/"
    },
    "id": "5IpSJQBUPPZE",
    "outputId": "a52e7b14-eafc-4dd4-ac0e-d237b1c0359c",
    "pycharm": {
     "name": "#%%\n"
    }
   },
   "outputs": [
    {
     "name": "stdout",
     "output_type": "stream",
     "text": [
      "Requirement already satisfied: pycountry in /home/agustin/PycharmProjects/IMDb-Youtube-Scraper/venv/lib/python3.10/site-packages (22.3.5)\r\n",
      "Requirement already satisfied: setuptools in /home/agustin/PycharmProjects/IMDb-Youtube-Scraper/venv/lib/python3.10/site-packages (from pycountry) (65.5.1)\r\n"
     ]
    }
   ],
   "source": [
    "!pip install pycountry\n",
    "import pycountry\n",
    "\n"
   ]
  },
  {
   "cell_type": "code",
   "execution_count": 41,
   "metadata": {
    "colab": {
     "base_uri": "https://localhost:8080/"
    },
    "id": "KUajJQK2OZKq",
    "outputId": "723c0cd5-51d7-4285-9657-ea4e8ff968b7",
    "pycharm": {
     "name": "#%%\n"
    }
   },
   "outputs": [
    {
     "data": {
      "text/plain": "[]"
     },
     "execution_count": 41,
     "metadata": {},
     "output_type": "execute_result"
    }
   ],
   "source": [
    "country_channels = []\n",
    "for channel in channels:\n",
    "  channel = channel.lower()\n",
    "  channel_tokens = channel.split(\" \")\n",
    "\n",
    "  for country in pycountry.countries:\n",
    "    if country.name.lower() in channel_tokens:\n",
    "      if channel not in country_channels:\n",
    "        country_channels.append(channel)\n",
    "    elif (\"uk\" in channel_tokens) \\\n",
    "        or (\"latino\" in channel_tokens) \\\n",
    "        or (\"latinoamérica\" in channel_tokens) \\\n",
    "        or (\"españa\" in channel_tokens) \\\n",
    "        or (\"la\" in channel_tokens) \\\n",
    "        or (\"zeland\" in channel_tokens) \\\n",
    "        or (\"méxico\" in channel_tokens):\n",
    "        if channel not in country_channels:\n",
    "            country_channels.append(channel)\n",
    "country_channels"
   ]
  },
  {
   "cell_type": "code",
   "execution_count": 39,
   "outputs": [
    {
     "data": {
      "text/plain": "[]"
     },
     "execution_count": 39,
     "metadata": {},
     "output_type": "execute_result"
    }
   ],
   "source": [
    "for channel in channels:\n",
    "    channel = channel.lower()\n",
    "    channel_tokens = channel.split(\" \")\n",
    "\n",
    "    if (\"music\" in channel_tokens):\n",
    "        if channel not in country_channels:\n",
    "            country_channels.append(channel)\n",
    "country_channels"
   ],
   "metadata": {
    "collapsed": false,
    "pycharm": {
     "name": "#%%\n"
    }
   }
  },
  {
   "cell_type": "code",
   "execution_count": 23,
   "metadata": {
    "pycharm": {
     "name": "#%%\n"
    }
   },
   "outputs": [],
   "source": [
    "with open(\"Programmatically_Excluded_Channels.csv\", \"w\") as f:\n",
    "    for country_channel in country_channels:\n",
    "        f.write(country_channel+\",\\n\")"
   ]
  }
 ],
 "metadata": {
  "colab": {
   "provenance": []
  },
  "kernelspec": {
   "display_name": "Python 3 (ipykernel)",
   "language": "python",
   "name": "python3"
  },
  "language_info": {
   "codemirror_mode": {
    "name": "ipython",
    "version": 3
   },
   "file_extension": ".py",
   "mimetype": "text/x-python",
   "name": "python",
   "nbconvert_exporter": "python",
   "pygments_lexer": "ipython3",
   "version": "3.10.6"
  }
 },
 "nbformat": 4,
 "nbformat_minor": 1
}