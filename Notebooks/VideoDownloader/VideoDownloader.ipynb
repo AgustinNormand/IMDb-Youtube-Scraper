{
 "cells": [
  {
   "cell_type": "markdown",
   "metadata": {
    "id": "Glpq9VU6mZbk",
    "pycharm": {
     "name": "#%% md\n"
    }
   },
   "source": [
    "# Reading Movies"
   ]
  },
  {
   "cell_type": "code",
   "execution_count": 10,
   "outputs": [],
   "source": [
    "import ast\n",
    "import csv\n",
    "final_dataset = []\n",
    "with open('FinalDataset.csv') as f:\n",
    "    reader = csv.DictReader(f)\n",
    "    lst = list(reader)\n",
    "    for item in lst:\n",
    "        final_dataset.append(item)"
   ],
   "metadata": {
    "collapsed": false,
    "pycharm": {
     "name": "#%%\n"
    }
   }
  },
  {
   "cell_type": "code",
   "execution_count": 11,
   "outputs": [
    {
     "data": {
      "text/plain": "2505"
     },
     "execution_count": 11,
     "metadata": {},
     "output_type": "execute_result"
    }
   ],
   "source": [
    "len(final_dataset)"
   ],
   "metadata": {
    "collapsed": false,
    "pycharm": {
     "name": "#%%\n"
    }
   }
  },
  {
   "cell_type": "code",
   "execution_count": 12,
   "outputs": [
    {
     "name": "stdout",
     "output_type": "stream",
     "text": [
      "1334\n",
      "1343\n",
      "1026\n",
      "664\n",
      "652\n"
     ]
    }
   ],
   "source": [
    "import os\n",
    "\n",
    "with_errors = []\n",
    "with open(\"application.log.bk\") as f:\n",
    "    for line in f.readlines():\n",
    "        if \"Processing\" not in line:\n",
    "            with_errors.append(line.split(\"Error in\")[1].split(\",\")[0].strip())\n",
    "\n",
    "    for file in with_errors:\n",
    "        print(file)\n",
    "#        try:\n",
    "#            os.remove('./videos/'+file)\n",
    "#        except Exception as e:\n",
    "#            print(e)\n"
   ],
   "metadata": {
    "collapsed": false,
    "pycharm": {
     "name": "#%%\n"
    }
   }
  },
  {
   "cell_type": "code",
   "execution_count": 13,
   "outputs": [
    {
     "name": "stdout",
     "output_type": "stream",
     "text": [
      "Missing to download []\n",
      "Q Len 0\n"
     ]
    }
   ],
   "source": [
    "import queue\n",
    "\n",
    "tasks_queue = queue.Queue()\n",
    "\n",
    "downloaded = os.listdir('./videos')\n",
    "\n",
    "\n",
    "missing_to_download = []\n",
    "for record in final_dataset:\n",
    "    if record[\"video_url\"] != \"\":\n",
    "        if record[\"result_uniqueID\"] not in downloaded:\n",
    "            missing_to_download.append(record[\"result_uniqueID\"])\n",
    "            tasks_queue.put(record)\n",
    "\n",
    "print(\"Missing to download {}\".format(missing_to_download))\n",
    "print(\"Q Len {}\".format(tasks_queue.qsize()))"
   ],
   "metadata": {
    "collapsed": false,
    "pycharm": {
     "name": "#%%\n"
    }
   }
  },
  {
   "cell_type": "code",
   "execution_count": 5,
   "outputs": [
    {
     "name": "stdout",
     "output_type": "stream",
     "text": [
      "Requirement already satisfied: pytube in /home/agustin/PycharmProjects/IMDb-Youtube-Scraper/venv/lib/python3.10/site-packages (12.1.2)\r\n",
      "Note: you may need to restart the kernel to use updated packages.\n"
     ]
    }
   ],
   "source": [
    "pip install pytube"
   ],
   "metadata": {
    "collapsed": false,
    "pycharm": {
     "name": "#%%\n"
    }
   }
  },
  {
   "cell_type": "code",
   "execution_count": 6,
   "outputs": [],
   "source": [
    "from threading import Thread\n",
    "from pytube import YouTube\n",
    "import logging\n",
    "\n",
    "logging.basicConfig(filename='application.log', level=logging.INFO)"
   ],
   "metadata": {
    "collapsed": false,
    "pycharm": {
     "name": "#%%\n"
    }
   }
  },
  {
   "cell_type": "code",
   "execution_count": 7,
   "outputs": [],
   "source": [
    "class VideoDownloaderWorker(Thread):\n",
    "    def __init__(self, worker_number, tasks_queue):\n",
    "        Thread.__init__(self)\n",
    "        self.worker_number = worker_number\n",
    "        self.tasks_queue = tasks_queue\n",
    "\n",
    "    def run(self):\n",
    "        while True:\n",
    "            record = self.tasks_queue.get()\n",
    "\n",
    "            if record == \"END\":\n",
    "                break\n",
    "\n",
    "            logging.info(\"Worker Number {}, Processing  {}\".format(self.worker_number ,record[\"result_uniqueID\"]))\n",
    "            try:\n",
    "                youtubeObject = YouTube(record[\"video_url\"])\n",
    "                youtubeObject = youtubeObject.streams.get_highest_resolution()\n",
    "                youtubeObject.download(filename=record[\"result_uniqueID\"], output_path=\"./videos/\")\n",
    "            except Exception as e:\n",
    "                logging.error(\"Worker Number {}, Error in {}, {}\".format(self.worker_number, record[\"result_uniqueID\"], str(e)))\n",
    "            self.tasks_queue.task_done()\n"
   ],
   "metadata": {
    "collapsed": false,
    "pycharm": {
     "name": "#%%\n"
    }
   }
  },
  {
   "cell_type": "code",
   "execution_count": 8,
   "outputs": [],
   "source": [
    "workers_size = 30\n",
    "\n",
    "for worker_number in range(workers_size):\n",
    "    tasks_queue.put(\"END\")\n",
    "\n",
    "workers = []\n",
    "\n",
    "for worker_number in range(workers_size):\n",
    "    worker = VideoDownloaderWorker(worker_number, tasks_queue)\n",
    "    worker.start()\n",
    "    workers.append(worker)\n",
    "\n",
    "for worker in workers:\n",
    "    worker.join()"
   ],
   "metadata": {
    "collapsed": false,
    "pycharm": {
     "name": "#%%\n"
    }
   }
  },
  {
   "cell_type": "code",
   "execution_count": 3,
   "outputs": [],
   "source": [
    "import os\n",
    "path=\"./videos/\"\n",
    "import shutil\n",
    "for filename in os.listdir(path):\n",
    "    #print(filename)\n",
    "    shutil.copyfile(\"./videos/{}\".format(filename), \"./renamed_videos/{}.mp4\".format(filename))\n",
    "    #os.rename(\n",
    "    #break"
   ],
   "metadata": {
    "collapsed": false,
    "pycharm": {
     "name": "#%%\n"
    }
   }
  }
 ],
 "metadata": {
  "colab": {
   "provenance": []
  },
  "kernelspec": {
   "display_name": "Python 3 (ipykernel)",
   "language": "python",
   "name": "python3"
  },
  "language_info": {
   "codemirror_mode": {
    "name": "ipython",
    "version": 3
   },
   "file_extension": ".py",
   "mimetype": "text/x-python",
   "name": "python",
   "nbconvert_exporter": "python",
   "pygments_lexer": "ipython3",
   "version": "3.10.6"
  }
 },
 "nbformat": 4,
 "nbformat_minor": 1
}