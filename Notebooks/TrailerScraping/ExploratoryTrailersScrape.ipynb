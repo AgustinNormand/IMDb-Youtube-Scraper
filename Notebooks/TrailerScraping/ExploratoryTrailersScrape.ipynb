{
 "cells": [
  {
   "cell_type": "markdown",
   "metadata": {
    "id": "Glpq9VU6mZbk",
    "pycharm": {
     "name": "#%% md\n"
    }
   },
   "source": [
    "# Reading Movies"
   ]
  },
  {
   "cell_type": "code",
   "execution_count": 1,
   "outputs": [],
   "source": [
    "import ast\n",
    "import csv\n",
    "score_scheme = []\n",
    "with open('ScoreScheme.csv') as f:\n",
    "    reader = csv.DictReader(f)\n",
    "    lst = list(reader)\n",
    "    for item in lst:\n",
    "        if item[\"movie_name\"] == \"\":\n",
    "            continue\n",
    "        score_scheme.append(item)"
   ],
   "metadata": {
    "collapsed": false,
    "pycharm": {
     "name": "#%%\n"
    }
   }
  },
  {
   "cell_type": "code",
   "execution_count": 2,
   "outputs": [
    {
     "data": {
      "text/plain": "3089"
     },
     "execution_count": 2,
     "metadata": {},
     "output_type": "execute_result"
    }
   ],
   "source": [
    "len(score_scheme)"
   ],
   "metadata": {
    "collapsed": false,
    "pycharm": {
     "name": "#%%\n"
    }
   }
  },
  {
   "cell_type": "code",
   "execution_count": 3,
   "metadata": {
    "id": "vnk-yese9cPk",
    "pycharm": {
     "name": "#%%\n"
    }
   },
   "outputs": [],
   "source": [
    "movies = []\n",
    "with open('Output.csv') as f:\n",
    "    reader = csv.DictReader(f)\n",
    "    lst = list(reader)\n",
    "    for item in lst:\n",
    "        item[\"query_results\"] = ast.literal_eval(item[\"query_results\"])\n",
    "        movies.append(item)"
   ]
  },
  {
   "cell_type": "code",
   "execution_count": 4,
   "metadata": {
    "colab": {
     "base_uri": "https://localhost:8080/"
    },
    "id": "0xdWtoRA_pGS",
    "outputId": "1b2797a7-17d5-4216-f531-b175fc236d32",
    "pycharm": {
     "name": "#%%\n"
    }
   },
   "outputs": [
    {
     "data": {
      "text/plain": "1967"
     },
     "execution_count": 4,
     "metadata": {},
     "output_type": "execute_result"
    }
   ],
   "source": [
    "len(movies)"
   ]
  },
  {
   "cell_type": "code",
   "execution_count": 8,
   "outputs": [],
   "source": [
    "for result in score_scheme:\n",
    "    if result[\"official\"] != \"\" and result[\"official\"] != \"1\":\n",
    "        print(result)\n",
    "    if result[\"teaser\"] != \"\" and result[\"teaser\"] != \"1\":\n",
    "        print(result)\n"
   ],
   "metadata": {
    "collapsed": false,
    "pycharm": {
     "name": "#%%\n"
    }
   }
  },
  {
   "cell_type": "markdown",
   "metadata": {
    "pycharm": {
     "name": "#%% md\n"
    }
   },
   "source": [
    "# Reading Score Scheme File"
   ]
  },
  {
   "cell_type": "code",
   "execution_count": 9,
   "metadata": {
    "pycharm": {
     "name": "#%%\n"
    }
   },
   "outputs": [],
   "source": [
    "score_scheme_selected_videos = []\n",
    "with open('Output - ScoreScheme.csv') as f:\n",
    "    reader = csv.DictReader(f)\n",
    "    lst = list(reader)\n",
    "    for item in lst:\n",
    "        score_scheme_selected_videos.append(item)"
   ]
  },
  {
   "cell_type": "markdown",
   "metadata": {
    "pycharm": {
     "name": "#%% md\n"
    }
   },
   "source": [
    "# Merging Score Scheme File and Movies"
   ]
  },
  {
   "cell_type": "code",
   "execution_count": 10,
   "metadata": {
    "pycharm": {
     "name": "#%%\n"
    }
   },
   "outputs": [
    {
     "name": "stdout",
     "output_type": "stream",
     "text": [
      "The Lion King\n",
      "The Lion King\n",
      "Noah\n",
      "Noah\n",
      "The Lion King\n",
      "The Lion King\n",
      "Noah\n",
      "Noah\n",
      "Little Women\n",
      "Little Women\n"
     ]
    }
   ],
   "source": [
    "for score_scheme_selected_video in score_scheme_selected_videos:\n",
    "    count = 0\n",
    "    for movie in movies:\n",
    "        if movie[\"movie_name\"] == score_scheme_selected_video[\"movie_name\"]:\n",
    "            count += 1\n",
    "    if count == 2:\n",
    "        print(score_scheme_selected_video[\"movie_name\"])"
   ]
  },
  {
   "cell_type": "code",
   "execution_count": 11,
   "metadata": {
    "pycharm": {
     "name": "#%%\n"
    }
   },
   "outputs": [],
   "source": [
    "problematic_movies = [\"The Lion King\", \"Noah\", \"Little Women\"]"
   ]
  },
  {
   "cell_type": "code",
   "execution_count": 12,
   "metadata": {
    "pycharm": {
     "name": "#%%\n"
    }
   },
   "outputs": [],
   "source": [
    "matched_movies = []\n",
    "for movie in movies:\n",
    "    if movie[\"movie_name\"] in problematic_movies:\n",
    "        continue\n",
    "    for score_scheme_selected_video in score_scheme_selected_videos:\n",
    "        if movie[\"movie_name\"] == score_scheme_selected_video[\"movie_name\"]:\n",
    "            if score_scheme_selected_video[\"official\"] == \"1\" or score_scheme_selected_video[\"teaser\"] == \"1\":\n",
    "                matched_movie = movie\n",
    "                matched_movie[\"video_url\"] = score_scheme_selected_video[\"video_url\"]\n",
    "                matched_movie[\"official\"] = score_scheme_selected_video[\"official\"]\n",
    "                matched_movie[\"teaser\"] = score_scheme_selected_video[\"teaser\"]\n",
    "                matched_movies.append(matched_movie)\n"
   ]
  },
  {
   "cell_type": "code",
   "execution_count": 13,
   "metadata": {
    "pycharm": {
     "name": "#%%\n"
    }
   },
   "outputs": [
    {
     "data": {
      "text/plain": [
       "1506"
      ]
     },
     "execution_count": 13,
     "metadata": {},
     "output_type": "execute_result"
    }
   ],
   "source": [
    "len(matched_movies)"
   ]
  },
  {
   "cell_type": "code",
   "execution_count": 14,
   "metadata": {
    "pycharm": {
     "name": "#%%\n"
    }
   },
   "outputs": [
    {
     "name": "stdout",
     "output_type": "stream",
     "text": [
      "Jordan Added (Need to query): Tomorrowland\n",
      "Jordan Added (Need to query): Tomorrowland\n",
      "Jordan Added (Need to query): Tomorrowland\n",
      "Jordan Added (Need to query): Tomorrowland\n",
      "Jordan Added (Need to query): Hercules\n"
     ]
    }
   ],
   "source": [
    "trailer_release_movies = []\n",
    "\n",
    "for matched_movie in matched_movies:\n",
    "    video_id = matched_movie[\"video_url\"].replace(\"https://www.youtube.com/watch?v=\", \"\")\n",
    "    release_inserted = False\n",
    "    for video in matched_movie[\"query_results\"]:\n",
    "        if video_id == video[2]:\n",
    "            matched_movie[\"trailer_release\"] = video[3]\n",
    "            trailer_release_movies.append(matched_movie)\n",
    "            release_inserted = True\n",
    "            break\n",
    "    if not release_inserted:\n",
    "        print(\"Jordan Added (Need to query): {}\".format(matched_movie[\"movie_name\"]))\n"
   ]
  },
  {
   "cell_type": "code",
   "execution_count": 15,
   "metadata": {
    "pycharm": {
     "name": "#%%\n"
    }
   },
   "outputs": [],
   "source": [
    "import pandas as pd\n",
    "\n",
    "df = pd.DataFrame.from_records(matched_movies)\n",
    "df.to_csv(\"matched_movies.csv\", index=False)"
   ]
  },
  {
   "cell_type": "markdown",
   "metadata": {
    "pycharm": {
     "name": "#%% md\n"
    }
   },
   "source": [
    "Trailers Scrape"
   ]
  },
  {
   "cell_type": "code",
   "execution_count": 16,
   "outputs": [],
   "source": [
    "TRAILER_URL = \"https://www.youtube.com/watch?v=TcMBFSGVi1c\""
   ],
   "metadata": {
    "collapsed": false,
    "pycharm": {
     "name": "#%%\n"
    }
   }
  },
  {
   "cell_type": "code",
   "execution_count": 17,
   "outputs": [],
   "source": [
    "TRAILER_ID = \"TcMBFSGVi1c\""
   ],
   "metadata": {
    "collapsed": false,
    "pycharm": {
     "name": "#%%\n"
    }
   }
  },
  {
   "cell_type": "code",
   "execution_count": 23,
   "outputs": [
    {
     "name": "stdout",
     "output_type": "stream",
     "text": [
      "Collecting youtube-comment-downloader\r\n",
      "  Downloading youtube_comment_downloader-0.1.67-py3-none-any.whl (7.6 kB)\r\n",
      "Collecting dateparser\r\n",
      "  Downloading dateparser-1.1.6-py2.py3-none-any.whl (293 kB)\r\n",
      "\u001B[2K     \u001B[90m━━━━━━━━━━━━━━━━━━━━━━━━━━━━━━━━━━━━━━━\u001B[0m \u001B[32m293.3/293.3 kB\u001B[0m \u001B[31m3.3 MB/s\u001B[0m eta \u001B[36m0:00:00\u001B[0ma \u001B[36m0:00:01\u001B[0m\r\n",
      "\u001B[?25hRequirement already satisfied: requests in /home/agustin/PycharmProjects/IMDb-Youtube-Scraper/venv/lib/python3.10/site-packages (from youtube-comment-downloader) (2.28.1)\r\n",
      "Requirement already satisfied: pytz in /home/agustin/PycharmProjects/IMDb-Youtube-Scraper/venv/lib/python3.10/site-packages (from dateparser->youtube-comment-downloader) (2022.6)\r\n",
      "Requirement already satisfied: python-dateutil in /home/agustin/PycharmProjects/IMDb-Youtube-Scraper/venv/lib/python3.10/site-packages (from dateparser->youtube-comment-downloader) (2.8.2)\r\n",
      "Collecting tzlocal\r\n",
      "  Downloading tzlocal-4.2-py3-none-any.whl (19 kB)\r\n",
      "Collecting regex!=2019.02.19,!=2021.8.27\r\n",
      "  Downloading regex-2022.10.31-cp310-cp310-manylinux_2_17_x86_64.manylinux2014_x86_64.whl (770 kB)\r\n",
      "\u001B[2K     \u001B[90m━━━━━━━━━━━━━━━━━━━━━━━━━━━━━━━━━━━━━━━\u001B[0m \u001B[32m770.5/770.5 kB\u001B[0m \u001B[31m4.9 MB/s\u001B[0m eta \u001B[36m0:00:00\u001B[0m00:01\u001B[0m00:01\u001B[0m\r\n",
      "\u001B[?25hRequirement already satisfied: idna<4,>=2.5 in /home/agustin/PycharmProjects/IMDb-Youtube-Scraper/venv/lib/python3.10/site-packages (from requests->youtube-comment-downloader) (3.4)\r\n",
      "Requirement already satisfied: certifi>=2017.4.17 in /home/agustin/PycharmProjects/IMDb-Youtube-Scraper/venv/lib/python3.10/site-packages (from requests->youtube-comment-downloader) (2022.9.24)\r\n",
      "Requirement already satisfied: urllib3<1.27,>=1.21.1 in /home/agustin/PycharmProjects/IMDb-Youtube-Scraper/venv/lib/python3.10/site-packages (from requests->youtube-comment-downloader) (1.26.12)\r\n",
      "Requirement already satisfied: charset-normalizer<3,>=2 in /home/agustin/PycharmProjects/IMDb-Youtube-Scraper/venv/lib/python3.10/site-packages (from requests->youtube-comment-downloader) (2.1.1)\r\n",
      "Requirement already satisfied: six>=1.5 in /home/agustin/PycharmProjects/IMDb-Youtube-Scraper/venv/lib/python3.10/site-packages (from python-dateutil->dateparser->youtube-comment-downloader) (1.16.0)\r\n",
      "Collecting pytz-deprecation-shim\r\n",
      "  Downloading pytz_deprecation_shim-0.1.0.post0-py2.py3-none-any.whl (15 kB)\r\n",
      "Collecting tzdata\r\n",
      "  Downloading tzdata-2022.7-py2.py3-none-any.whl (340 kB)\r\n",
      "\u001B[2K     \u001B[90m━━━━━━━━━━━━━━━━━━━━━━━━━━━━━━━━━━━━━━━\u001B[0m \u001B[32m340.1/340.1 kB\u001B[0m \u001B[31m4.4 MB/s\u001B[0m eta \u001B[36m0:00:00\u001B[0m00:01\u001B[0m00:01\u001B[0m\r\n",
      "\u001B[?25hInstalling collected packages: tzdata, regex, pytz-deprecation-shim, tzlocal, dateparser, youtube-comment-downloader\r\n",
      "Successfully installed dateparser-1.1.6 pytz-deprecation-shim-0.1.0.post0 regex-2022.10.31 tzdata-2022.7 tzlocal-4.2 youtube-comment-downloader-0.1.67\r\n",
      "Note: you may need to restart the kernel to use updated packages.\n"
     ]
    }
   ],
   "source": [
    "pip install youtube-comment-downloader"
   ],
   "metadata": {
    "collapsed": false,
    "pycharm": {
     "name": "#%%\n"
    }
   }
  },
  {
   "cell_type": "code",
   "execution_count": 8,
   "metadata": {
    "pycharm": {
     "name": "#%%\n"
    }
   },
   "outputs": [],
   "source": [
    "TRAILER_ID = \"TcMBFSGVi1c\""
   ]
  },
  {
   "cell_type": "code",
   "execution_count": null,
   "metadata": {
    "pycharm": {
     "name": "#%%\n"
    }
   },
   "outputs": [],
   "source": []
  }
 ],
 "metadata": {
  "colab": {
   "provenance": []
  },
  "kernelspec": {
   "display_name": "Python 3 (ipykernel)",
   "language": "python",
   "name": "python3"
  },
  "language_info": {
   "codemirror_mode": {
    "name": "ipython",
    "version": 3
   },
   "file_extension": ".py",
   "mimetype": "text/x-python",
   "name": "python",
   "nbconvert_exporter": "python",
   "pygments_lexer": "ipython3",
   "version": "3.10.6"
  }
 },
 "nbformat": 4,
 "nbformat_minor": 1
}