{
 "cells": [
  {
   "cell_type": "markdown",
   "metadata": {
    "id": "Glpq9VU6mZbk",
    "pycharm": {
     "name": "#%% md\n"
    }
   },
   "source": [
    "# Reading Movies"
   ]
  },
  {
   "cell_type": "code",
   "execution_count": 2,
   "metadata": {
    "id": "vnk-yese9cPk",
    "pycharm": {
     "name": "#%%\n"
    }
   },
   "outputs": [],
   "source": [
    "import ast\n",
    "import csv\n",
    "raw_movies = []\n",
    "with open('Output.csv') as f:\n",
    "    reader = csv.DictReader(f)\n",
    "    lst = list(reader)\n",
    "    for item in lst:\n",
    "        item[\"query_results\"] = ast.literal_eval(item[\"query_results\"])\n",
    "        #item[\"anterior_query_results\"] = ast.literal_eval(item[\"anterior_query_results\"])\n",
    "        if item[\"no_prerelease\"] == \"0\":\n",
    "            raw_movies.append(item)"
   ]
  },
  {
   "cell_type": "code",
   "execution_count": 3,
   "metadata": {
    "colab": {
     "base_uri": "https://localhost:8080/"
    },
    "id": "0xdWtoRA_pGS",
    "outputId": "1b2797a7-17d5-4216-f531-b175fc236d32",
    "pycharm": {
     "name": "#%%\n"
    }
   },
   "outputs": [
    {
     "data": {
      "text/plain": [
       "1094"
      ]
     },
     "execution_count": 3,
     "metadata": {},
     "output_type": "execute_result"
    }
   ],
   "source": [
    "len(raw_movies)"
   ]
  },
  {
   "cell_type": "code",
   "execution_count": 6,
   "metadata": {
    "pycharm": {
     "name": "#%%\n"
    }
   },
   "outputs": [],
   "source": [
    "# Remove Duplicated"
   ]
  },
  {
   "cell_type": "markdown",
   "metadata": {
    "pycharm": {
     "name": "#%% md\n"
    }
   },
   "source": [
    "# Reading Score Scheme File"
   ]
  },
  {
   "cell_type": "code",
   "execution_count": 9,
   "metadata": {
    "pycharm": {
     "name": "#%%\n"
    }
   },
   "outputs": [],
   "source": [
    "score_scheme_selected_videos = []\n",
    "with open('Output - ScoreScheme.csv') as f:\n",
    "    reader = csv.DictReader(f)\n",
    "    lst = list(reader)\n",
    "    for item in lst:\n",
    "        score_scheme_selected_videos.append(item)"
   ]
  },
  {
   "cell_type": "markdown",
   "metadata": {
    "pycharm": {
     "name": "#%% md\n"
    }
   },
   "source": [
    "# Merging Score Scheme File and Movies"
   ]
  },
  {
   "cell_type": "code",
   "execution_count": 10,
   "metadata": {
    "pycharm": {
     "name": "#%%\n"
    }
   },
   "outputs": [
    {
     "name": "stdout",
     "output_type": "stream",
     "text": [
      "The Lion King\n",
      "The Lion King\n",
      "Noah\n",
      "Noah\n",
      "The Lion King\n",
      "The Lion King\n",
      "Noah\n",
      "Noah\n",
      "Little Women\n",
      "Little Women\n"
     ]
    }
   ],
   "source": [
    "for score_scheme_selected_video in score_scheme_selected_videos:\n",
    "    count = 0\n",
    "    for movie in movies:\n",
    "        if movie[\"movie_name\"] == score_scheme_selected_video[\"movie_name\"]:\n",
    "            count += 1\n",
    "    if count == 2:\n",
    "        print(score_scheme_selected_video[\"movie_name\"])"
   ]
  },
  {
   "cell_type": "code",
   "execution_count": 11,
   "metadata": {
    "pycharm": {
     "name": "#%%\n"
    }
   },
   "outputs": [],
   "source": [
    "problematic_movies = [\"The Lion King\", \"Noah\", \"Little Women\"]"
   ]
  },
  {
   "cell_type": "code",
   "execution_count": 12,
   "metadata": {
    "pycharm": {
     "name": "#%%\n"
    }
   },
   "outputs": [],
   "source": [
    "matched_movies = []\n",
    "for movie in movies:\n",
    "    if movie[\"movie_name\"] in problematic_movies:\n",
    "        continue\n",
    "    for score_scheme_selected_video in score_scheme_selected_videos:\n",
    "        if movie[\"movie_name\"] == score_scheme_selected_video[\"movie_name\"]:\n",
    "            if score_scheme_selected_video[\"official\"] == \"1\" or score_scheme_selected_video[\"teaser\"] == \"1\":\n",
    "                matched_movie = movie\n",
    "                matched_movie[\"video_url\"] = score_scheme_selected_video[\"video_url\"]\n",
    "                matched_movie[\"official\"] = score_scheme_selected_video[\"official\"]\n",
    "                matched_movie[\"teaser\"] = score_scheme_selected_video[\"teaser\"]\n",
    "                matched_movies.append(matched_movie)\n"
   ]
  },
  {
   "cell_type": "code",
   "execution_count": 13,
   "metadata": {
    "pycharm": {
     "name": "#%%\n"
    }
   },
   "outputs": [
    {
     "data": {
      "text/plain": [
       "1506"
      ]
     },
     "execution_count": 13,
     "metadata": {},
     "output_type": "execute_result"
    }
   ],
   "source": [
    "len(matched_movies)"
   ]
  },
  {
   "cell_type": "code",
   "execution_count": 14,
   "metadata": {
    "pycharm": {
     "name": "#%%\n"
    }
   },
   "outputs": [
    {
     "name": "stdout",
     "output_type": "stream",
     "text": [
      "Jordan Added (Need to query): Tomorrowland\n",
      "Jordan Added (Need to query): Tomorrowland\n",
      "Jordan Added (Need to query): Tomorrowland\n",
      "Jordan Added (Need to query): Tomorrowland\n",
      "Jordan Added (Need to query): Hercules\n"
     ]
    }
   ],
   "source": [
    "trailer_release_movies = []\n",
    "\n",
    "for matched_movie in matched_movies:\n",
    "    video_id = matched_movie[\"video_url\"].replace(\"https://www.youtube.com/watch?v=\", \"\")\n",
    "    release_inserted = False\n",
    "    for video in matched_movie[\"query_results\"]:\n",
    "        if video_id == video[2]:\n",
    "            matched_movie[\"trailer_release\"] = video[3]\n",
    "            trailer_release_movies.append(matched_movie)\n",
    "            release_inserted = True\n",
    "            break\n",
    "    if not release_inserted:\n",
    "        print(\"Jordan Added (Need to query): {}\".format(matched_movie[\"movie_name\"]))\n"
   ]
  },
  {
   "cell_type": "code",
   "execution_count": 15,
   "metadata": {
    "pycharm": {
     "name": "#%%\n"
    }
   },
   "outputs": [],
   "source": [
    "import pandas as pd\n",
    "\n",
    "df = pd.DataFrame.from_records(matched_movies)\n",
    "df.to_csv(\"matched_movies.csv\", index=False)"
   ]
  },
  {
   "cell_type": "markdown",
   "metadata": {},
   "source": [
    "Trailers Scrape"
   ]
  },
  {
   "cell_type": "code",
   "execution_count": 7,
   "metadata": {},
   "outputs": [],
   "source": [
    "TRAILER_URL = \"https://www.youtube.com/watch?v=TcMBFSGVi1c\""
   ]
  },
  {
   "cell_type": "code",
   "execution_count": 8,
   "metadata": {},
   "outputs": [],
   "source": [
    "TRAILER_ID = \"TcMBFSGVi1c\""
   ]
  },
  {
   "cell_type": "code",
   "execution_count": null,
   "metadata": {},
   "outputs": [],
   "source": []
  }
 ],
 "metadata": {
  "colab": {
   "provenance": []
  },
  "kernelspec": {
   "display_name": "Python 3 (ipykernel)",
   "language": "python",
   "name": "python3"
  },
  "language_info": {
   "codemirror_mode": {
    "name": "ipython",
    "version": 3
   },
   "file_extension": ".py",
   "mimetype": "text/x-python",
   "name": "python",
   "nbconvert_exporter": "python",
   "pygments_lexer": "ipython3",
   "version": "3.10.6"
  }
 },
 "nbformat": 4,
 "nbformat_minor": 1
}
