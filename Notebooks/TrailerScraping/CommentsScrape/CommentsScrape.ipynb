{
 "cells": [
  {
   "cell_type": "markdown",
   "metadata": {
    "id": "Glpq9VU6mZbk",
    "pycharm": {
     "name": "#%% md\n"
    }
   },
   "source": [
    "# Reading Movies"
   ]
  },
  {
   "cell_type": "code",
   "execution_count": 283,
   "outputs": [],
   "source": [
    "import ast\n",
    "import csv\n",
    "selected_trailers = []\n",
    "with open('selected_trailers.csv') as f:\n",
    "    reader = csv.DictReader(f)\n",
    "    lst = list(reader)\n",
    "    for item in lst:\n",
    "        selected_trailers.append(item)"
   ],
   "metadata": {
    "collapsed": false,
    "pycharm": {
     "name": "#%%\n"
    }
   }
  },
  {
   "cell_type": "code",
   "execution_count": 284,
   "outputs": [
    {
     "data": {
      "text/plain": "1549"
     },
     "execution_count": 284,
     "metadata": {},
     "output_type": "execute_result"
    }
   ],
   "source": [
    "len(selected_trailers)"
   ],
   "metadata": {
    "collapsed": false,
    "pycharm": {
     "name": "#%%\n"
    }
   }
  },
  {
   "cell_type": "code",
   "execution_count": 285,
   "outputs": [
    {
     "data": {
      "text/plain": "{'uniqueID': '0',\n 'movie_name': 'Avengers: Endgame',\n 'num_trailers': '2',\n 'trailer_id': '0',\n 'video_url': 'https://www.youtube.com/watch?v=TcMBFSGVi1c',\n 'video_title': \"Marvel Studios' Avengers: Endgame - Official Trailer\",\n 'channel': 'Marvel Entertainment',\n 'official': '1',\n 'teaser': '',\n 'days_diff': '-43',\n 'trailer_release': '3/14/2019',\n 'trailer_view': '153817402',\n 'trailer_like': '3388847',\n 'trailer_comment': '262164',\n 'most_recent': '1',\n 'oldest': '0',\n 'most_liked': '1',\n 'most_viewed': '1',\n 'most_comment': '0'}"
     },
     "execution_count": 285,
     "metadata": {},
     "output_type": "execute_result"
    }
   ],
   "source": [
    "selected_trailers[0]"
   ],
   "metadata": {
    "collapsed": false,
    "pycharm": {
     "name": "#%%\n"
    }
   }
  },
  {
   "cell_type": "code",
   "execution_count": 286,
   "outputs": [],
   "source": [
    "movies = []\n",
    "with open('Output.csv') as f:\n",
    "    reader = csv.DictReader(f)\n",
    "    lst = list(reader)\n",
    "    for item in lst:\n",
    "        item[\"query_results\"] = ast.literal_eval(item[\"query_results\"])\n",
    "        movies.append(item)"
   ],
   "metadata": {
    "collapsed": false,
    "pycharm": {
     "name": "#%%\n"
    }
   }
  },
  {
   "cell_type": "code",
   "execution_count": 287,
   "outputs": [
    {
     "data": {
      "text/plain": "1967"
     },
     "execution_count": 287,
     "metadata": {},
     "output_type": "execute_result"
    }
   ],
   "source": [
    "len(movies)"
   ],
   "metadata": {
    "collapsed": false,
    "pycharm": {
     "name": "#%%\n"
    }
   }
  },
  {
   "cell_type": "code",
   "execution_count": 288,
   "outputs": [
    {
     "name": "stdout",
     "output_type": "stream",
     "text": [
      "Amount of movies processsed 1011\n",
      "Amount of results processsed 0\n"
     ]
    }
   ],
   "source": [
    "workers_logs = {}\n",
    "\n",
    "founded = False\n",
    "with open(\"application.log.bk\", \"r\") as f:\n",
    "  for line in f.readlines():\n",
    "\n",
    "\n",
    "    if \"Api_key\" in line:\n",
    "      worker_number = line.split(\"Worker Number\")[1].split(\"Started,\")[0].strip()\n",
    "    elif \"Worker Number\" in line:\n",
    "      worker_number = line.split(\"Worker Number\")[1].split(\",\")[0].strip()\n",
    "    else:\n",
    "      continue\n",
    "\n",
    "    if worker_number not in workers_logs.keys():\n",
    "      workers_logs[worker_number] = []\n",
    "    workers_logs[worker_number].append(line)\n",
    "\n",
    "\n",
    "processed_movies = {}\n",
    "for worker_number in workers_logs:\n",
    "  for log in workers_logs[worker_number]:\n",
    "    if \"Processing\" in log:\n",
    "      uniqueID = log.split(\"Processing: Movie UniqueID\")[1].split(\",\")[0].strip()\n",
    "      traier_id = log.split(\"Trailer ID\")[1].split(\"\\n\")[0].strip()\n",
    "      if uniqueID not in processed_movies.keys():\n",
    "        processed_movies[uniqueID] = {}\n",
    "    if \"From total comment count\" in log:\n",
    "      processed_movies[uniqueID][traier_id] = log\n",
    "\n",
    "counter = 0\n",
    "for processed_movie in processed_movies:\n",
    "  for result in processed_movies[processed_movie]:\n",
    "    sub_total1, sub_total2 = processed_movies[processed_movie][result].split(\"From total comment count, must delete total_posterior_comments_count: \")[1].split(\" + total_posterior_reply_count: \")\n",
    "    sub_total1 = int(sub_total1)\n",
    "    sub_total2 = int(sub_total2.split(\" \\n\")[0])\n",
    "    processed_movies[processed_movie][result] = sub_total1 + sub_total2\n",
    "\n",
    "print(\"Amount of movies processsed {}\".format(len(processed_movies)))\n",
    "print(\"Amount of results processsed {}\".format(counter))\n"
   ],
   "metadata": {
    "collapsed": false,
    "pycharm": {
     "name": "#%%\n"
    }
   }
  },
  {
   "cell_type": "code",
   "execution_count": 289,
   "outputs": [],
   "source": [
    "for processed_movie in processed_movies:\n",
    "    for trailer_id in processed_movies[processed_movie]:\n",
    "        for selected_trailer in selected_trailers:\n",
    "            if selected_trailer[\"trailer_id\"] == trailer_id and selected_trailer[\"uniqueID\"] == processed_movie:\n",
    "                selected_trailer[\"trailer_comment\"] = int(selected_trailer[\"trailer_comment\"]) - processed_movies[processed_movie][trailer_id]\n",
    "                if selected_trailer[\"trailer_comment\"] < 0:\n",
    "                    selected_trailer[\"trailer_comment\"] = 0\n"
   ],
   "metadata": {
    "collapsed": false,
    "pycharm": {
     "name": "#%%\n"
    }
   }
  },
  {
   "cell_type": "code",
   "execution_count": 290,
   "outputs": [
    {
     "data": {
      "text/plain": "{'uniqueID': '0',\n 'movie_name': 'Avengers: Endgame',\n 'num_trailers': '2',\n 'trailer_id': '0',\n 'video_url': 'https://www.youtube.com/watch?v=TcMBFSGVi1c',\n 'video_title': \"Marvel Studios' Avengers: Endgame - Official Trailer\",\n 'channel': 'Marvel Entertainment',\n 'official': '1',\n 'teaser': '',\n 'days_diff': '-43',\n 'trailer_release': '3/14/2019',\n 'trailer_view': '153817402',\n 'trailer_like': '3388847',\n 'trailer_comment': 206098,\n 'most_recent': '1',\n 'oldest': '0',\n 'most_liked': '1',\n 'most_viewed': '1',\n 'most_comment': '0'}"
     },
     "execution_count": 290,
     "metadata": {},
     "output_type": "execute_result"
    }
   ],
   "source": [
    "selected_trailers[0]"
   ],
   "metadata": {
    "collapsed": false,
    "pycharm": {
     "name": "#%%\n"
    }
   }
  },
  {
   "cell_type": "code",
   "execution_count": 291,
   "outputs": [],
   "source": [
    "with open(\"./selected_trailers_comments_processed.csv\", \"w\") as f:\n",
    "    f.write(\n",
    "        \"uniqueID,movie_name,num_trailers,trailer_id,video_url,video_title,channel,official,teaser,days_diff,trailer_release,trailer_view,trailer_like,trailer_comment,most_recent,oldest,most_liked,most_viewed,most_comment\")\n",
    "    f.write(\"\\r\\n\")\n",
    "    for selected_trailer in selected_trailers:\n",
    "        for key in selected_trailer:\n",
    "            f.write(str(selected_trailer[key])+\",\")\n",
    "        f.write(\"\\r\\n\")"
   ],
   "metadata": {
    "collapsed": false,
    "pycharm": {
     "name": "#%%\n"
    }
   }
  },
  {
   "cell_type": "code",
   "execution_count": 292,
   "outputs": [],
   "source": [
    "movie_id_results = {}\n",
    "for trailer in selected_trailers:\n",
    "    if trailer[\"uniqueID\"] not in movie_id_results.keys():\n",
    "        movie_id_results[trailer[\"uniqueID\"]] = []\n",
    "    movie_id_results[trailer[\"uniqueID\"]].append(trailer)"
   ],
   "metadata": {
    "collapsed": false,
    "pycharm": {
     "name": "#%%\n"
    }
   }
  },
  {
   "cell_type": "code",
   "execution_count": 293,
   "outputs": [
    {
     "data": {
      "text/plain": "[{'uniqueID': '0',\n  'movie_name': 'Avengers: Endgame',\n  'num_trailers': '2',\n  'trailer_id': '0',\n  'video_url': 'https://www.youtube.com/watch?v=TcMBFSGVi1c',\n  'video_title': \"Marvel Studios' Avengers: Endgame - Official Trailer\",\n  'channel': 'Marvel Entertainment',\n  'official': '1',\n  'teaser': '',\n  'days_diff': '-43',\n  'trailer_release': '3/14/2019',\n  'trailer_view': '153817402',\n  'trailer_like': '3388847',\n  'trailer_comment': 206098,\n  'most_recent': '1',\n  'oldest': '0',\n  'most_liked': '1',\n  'most_viewed': '1',\n  'most_comment': '0'},\n {'uniqueID': '0',\n  'movie_name': 'Avengers: Endgame',\n  'num_trailers': '2',\n  'trailer_id': '1',\n  'video_url': 'https://www.youtube.com/watch?v=hA6hldpSTF8',\n  'video_title': \"Marvel Studios' Avengers - Official Trailer\",\n  'channel': 'Marvel Entertainment',\n  'official': '1',\n  'teaser': '',\n  'days_diff': '-140',\n  'trailer_release': '12/7/2018',\n  'trailer_view': '107481220',\n  'trailer_like': '3366631',\n  'trailer_comment': 264627,\n  'most_recent': '0',\n  'oldest': '1',\n  'most_liked': '0',\n  'most_viewed': '0',\n  'most_comment': '1'}]"
     },
     "execution_count": 293,
     "metadata": {},
     "output_type": "execute_result"
    }
   ],
   "source": [
    "movie_id_results[\"0\"]"
   ],
   "metadata": {
    "collapsed": false,
    "pycharm": {
     "name": "#%%\n"
    }
   }
  },
  {
   "cell_type": "code",
   "execution_count": 294,
   "outputs": [
    {
     "data": {
      "text/plain": "1011"
     },
     "execution_count": 294,
     "metadata": {},
     "output_type": "execute_result"
    }
   ],
   "source": [
    "new_movies = []\n",
    "for movie in movies:\n",
    "    if movie[\"uniqueID\"] in movie_id_results.keys():\n",
    "        results = movie_id_results[movie[\"uniqueID\"]]\n",
    "        movie[\"results\"] = results\n",
    "        new_movies.append(movie)\n",
    "movies = new_movies\n",
    "len(movies)"
   ],
   "metadata": {
    "collapsed": false,
    "pycharm": {
     "name": "#%%\n"
    }
   }
  },
  {
   "cell_type": "code",
   "execution_count": 295,
   "outputs": [
    {
     "data": {
      "text/plain": "{'uniqueID': '0',\n 'movie_name': 'Avengers: Endgame',\n 'url_bom': 'https://www.boxofficemojo.com/release/rl3059975681/',\n 'success': '1',\n 'gross_dom': '858373000.0',\n 'gross_int': '1939128328.0',\n 'gross_worldwide': '2797501328.0',\n 'distributor': 'Walt Disney Studios Motion Pictures',\n 'opening_box': '357115007.0',\n 'opening_theater': '4662.0',\n 'budget': '356000000.0',\n 'release_start': '4/26/2019',\n 'release_end': '9/12/2019',\n 'mpaa': 'PG-13',\n 'run_time': '181.0',\n 'Action': '1',\n 'Adventure': '1',\n 'Drama': '1',\n 'Sci-Fi': '1',\n 'Fantasy': '0',\n 'Animation': '0',\n 'Family': '0',\n 'Musical': '0',\n 'Horror': '0',\n 'Comedy': '0',\n 'Thriller': '0',\n 'Romance': '0',\n 'Mystery': '0',\n 'Crime': '0',\n 'War': '0',\n 'Music': '0',\n 'Sport': '0',\n 'Biography': '0',\n 'History': '0',\n 'Documentary': '0',\n 'Western': '0',\n 'Film-Noir': '0',\n 'release_length': '250.0',\n 'url_imdb': 'https://imdb.com/title/tt4154796',\n 'summary': \"After the devastating events of Avengers: Infinity War, the universe is in ruins. With the help of remaining allies, the Avengers assemble once more in order to reverse Thanos' actions and restore balance to the universe.\",\n 'user_raiting': '8.4',\n 'user_reviews': '9535.0',\n 'critic_rating': '78.0',\n 'critic_reviews': '596.0',\n 'writers': '3',\n 'directors': '2',\n 'movie_star': '18',\n 'query_url': 'https://www.youtube.com/results?search_query=avengers%3A+endgame+official+trailer',\n 'no_prerelease': '0',\n 'query_results': [[\"Marvel Studios' Avengers: Endgame - Official Trailer\",\n   'Marvel Entertainment',\n   'TcMBFSGVi1c',\n   '3/14/2019',\n   False,\n   False,\n   '19.9M',\n   '153,515,424',\n   '3,385,792'],\n  [\"Marvel Studios' Avengers - Official Trailer\",\n   'Marvel Entertainment',\n   'hA6hldpSTF8',\n   '12/7/2018',\n   False,\n   False,\n   '19.9M',\n   '107,347,927',\n   '3,365,646'],\n  ['Marvel Studios’ Avengers: Endgame | “To the End”',\n   'Marvel Entertainment',\n   '0jNvJU52LvU',\n   '4/16/2019',\n   False,\n   False,\n   '19.9M',\n   '37,317,134',\n   '1,240,108'],\n  ['Marvel Studios’ Avengers: Endgame | Special Look',\n   'Marvel Entertainment',\n   'KCSNFZKbhZE',\n   '4/2/2019',\n   False,\n   False,\n   '19.9M',\n   '30,414,837',\n   '795,380'],\n  ['Avengers: Endgame (Tráiler Final | Dob Español Latino) | DubZoneLA',\n   'DubZone: Latinoamérica',\n   'KdL8ucqi1F8',\n   '3/15/2019',\n   True,\n   False,\n   '20.8K',\n   '2,643,813',\n   '65,973'],\n  [\"Marvel Studios' Avengers: Endgame - Big Game TV Spot\",\n   'Marvel Entertainment',\n   '-iFq6IcAxBc',\n   '2/3/2019',\n   False,\n   False,\n   '19.9M',\n   '22,447,921',\n   '579,226'],\n  ['AVENGERS: ENDGAME All Movie Clips - Final Battle (2019)',\n   'Entertainment Access',\n   'BKviRM0KF2A',\n   '4/1/2022',\n   False,\n   False,\n   '6.74M',\n   '7,971,581',\n   '68,989'],\n  ['Avengers: Endgame – Tráiler oficial #2 (Subtitulado)',\n   'Marvel Latinoamérica Oficial',\n   'PyakRSni-c0',\n   '3/14/2019',\n   False,\n   False,\n   '1.5M',\n   '9,567,848',\n   '233,926'],\n  ['AVENGERS - END GAME - trailer music (Epic version)',\n   'Epic Music Paradise',\n   'Nm9dKIEamqc',\n   '12/8/2018',\n   False,\n   False,\n   '15.6K',\n   '8,893,840',\n   '97,432'],\n  ['Avengers: Endgame – Tráiler oficial #1 (Subtitulado)',\n   'Marvel Latinoamérica Oficial',\n   'znk2OICHbjY',\n   '12/7/2018',\n   False,\n   False,\n   '1.5M',\n   '7,469,146',\n   '226,871'],\n  ['Peppa Pig: Endgame - Official Trailer',\n   'Peppa Pig Parodies',\n   'Oozdpz12Ejo',\n   '8/15/2019',\n   False,\n   False,\n   '1.45M',\n   '15,304,961',\n   '391,547'],\n  ['Avengers: Endgame - \"To The End\" Subtitulado',\n   'Marvel Latinoamérica Oficial',\n   'QbCBVsYVogI',\n   '4/20/2019',\n   False,\n   False,\n   '1.5M',\n   '916,646',\n   '47,682'],\n  [\"Marvel Studios' Avengers: Infinity War Official Trailer\",\n   'Marvel Entertainment',\n   '6ZfuNTqbHE8',\n   '11/29/2017',\n   False,\n   False,\n   '19.9M',\n   '257,335,708',\n   '4,083,701'],\n  ['AVENGERS 4: ENDGAME Official Trailer #2 (2019) Marvel, Superhero Movie HD',\n   'Rapid Trailer',\n   'aNkJ6QwacGE',\n   '3/14/2019',\n   False,\n   False,\n   '1.05M',\n   '4,064,962',\n   '53,842'],\n  ['AVENGERS 4: ENDGAME Trailer (4K ULTRA HD) NEW 2019',\n   'FilmSpot Trailer',\n   'NVf7qLnEuvQ',\n   '12/7/2018',\n   False,\n   False,\n   '5.17M',\n   '1,220,789',\n   '5,942'],\n  ['Vengadores: Endgame de Marvel Studios | Nuevo Tráiler Oficial en español | HD',\n   'Marvel España',\n   'UQ3bqYKnyhM',\n   '3/14/2019',\n   False,\n   False,\n   '376K',\n   '3,094,447',\n   '48,001'],\n  ['Vengadores: Endgame | Tráiler oficial en español | HD',\n   'Marvel España',\n   'svLSGZkTzC0',\n   '12/7/2018',\n   False,\n   False,\n   '376K',\n   '4,296,558',\n   '56,285'],\n  ['Avengers: Endgame (2019) - To The End Official Trailer',\n   'GameSpot Universe Trailers',\n   'CIfm9NQzgU0',\n   '4/16/2019',\n   False,\n   False,\n   '227K',\n   '803,183',\n   None],\n  ['Avengers: Infinity War Trailer #1 (2018) | Movieclips Trailers',\n   'Rotten Tomatoes Trailers',\n   'B65hW9YYY5A',\n   '11/29/2017',\n   False,\n   False,\n   '15.7M',\n   '8,394,565',\n   '110,149'],\n  ['AVENGERS: ENDGAME Trailer 2 Music Version | Best Proper Movie Trailer Soundtrack Final Theme Song',\n   'Feature Presentations',\n   'f4WxRpF_ZAs',\n   '3/17/2019',\n   False,\n   False,\n   '31.3K',\n   '3,558,338',\n   '46,270']],\n 'results': [{'uniqueID': '0',\n   'movie_name': 'Avengers: Endgame',\n   'num_trailers': '2',\n   'trailer_id': '0',\n   'video_url': 'https://www.youtube.com/watch?v=TcMBFSGVi1c',\n   'video_title': \"Marvel Studios' Avengers: Endgame - Official Trailer\",\n   'channel': 'Marvel Entertainment',\n   'official': '1',\n   'teaser': '',\n   'days_diff': '-43',\n   'trailer_release': '3/14/2019',\n   'trailer_view': '153817402',\n   'trailer_like': '3388847',\n   'trailer_comment': 206098,\n   'most_recent': '1',\n   'oldest': '0',\n   'most_liked': '1',\n   'most_viewed': '1',\n   'most_comment': '0'},\n  {'uniqueID': '0',\n   'movie_name': 'Avengers: Endgame',\n   'num_trailers': '2',\n   'trailer_id': '1',\n   'video_url': 'https://www.youtube.com/watch?v=hA6hldpSTF8',\n   'video_title': \"Marvel Studios' Avengers - Official Trailer\",\n   'channel': 'Marvel Entertainment',\n   'official': '1',\n   'teaser': '',\n   'days_diff': '-140',\n   'trailer_release': '12/7/2018',\n   'trailer_view': '107481220',\n   'trailer_like': '3366631',\n   'trailer_comment': 264627,\n   'most_recent': '0',\n   'oldest': '1',\n   'most_liked': '0',\n   'most_viewed': '0',\n   'most_comment': '1'}]}"
     },
     "execution_count": 295,
     "metadata": {},
     "output_type": "execute_result"
    }
   ],
   "source": [
    "movies[0]"
   ],
   "metadata": {
    "collapsed": false,
    "pycharm": {
     "name": "#%%\n"
    }
   }
  },
  {
   "cell_type": "code",
   "execution_count": 295,
   "outputs": [],
   "source": [],
   "metadata": {
    "collapsed": false,
    "pycharm": {
     "name": "#%%\n"
    }
   }
  },
  {
   "cell_type": "code",
   "execution_count": 296,
   "outputs": [],
   "source": [
    "new_movies = []\n",
    "for movie in movies:\n",
    "    max_comments = -1\n",
    "    max_comments_id = None\n",
    "    for result in movie[\"results\"]:\n",
    "        if int(result[\"trailer_comment\"]) > max_comments:\n",
    "            max_comments = int(result[\"trailer_comment\"])\n",
    "            max_comments_id = result[\"video_url\"]\n",
    "\n",
    "    if max_comments_id == None:\n",
    "        print(\"Error. {}\".format(movie[\"uniqueID\"]))\n",
    "\n",
    "    results = []\n",
    "    for result in movie[\"results\"]:\n",
    "        result[\"most_comment\"] = '0'\n",
    "        if result[\"video_url\"] == max_comments_id:\n",
    "            result[\"most_comment\"] = '1'\n",
    "        results.append(result)\n",
    "    movie[\"results\"] = results\n",
    "    new_movies.append(movie)\n",
    "movies = new_movies"
   ],
   "metadata": {
    "collapsed": false,
    "pycharm": {
     "name": "#%%\n"
    }
   }
  },
  {
   "cell_type": "code",
   "execution_count": 297,
   "outputs": [
    {
     "data": {
      "text/plain": "{'uniqueID': '0',\n 'movie_name': 'Avengers: Endgame',\n 'url_bom': 'https://www.boxofficemojo.com/release/rl3059975681/',\n 'success': '1',\n 'gross_dom': '858373000.0',\n 'gross_int': '1939128328.0',\n 'gross_worldwide': '2797501328.0',\n 'distributor': 'Walt Disney Studios Motion Pictures',\n 'opening_box': '357115007.0',\n 'opening_theater': '4662.0',\n 'budget': '356000000.0',\n 'release_start': '4/26/2019',\n 'release_end': '9/12/2019',\n 'mpaa': 'PG-13',\n 'run_time': '181.0',\n 'Action': '1',\n 'Adventure': '1',\n 'Drama': '1',\n 'Sci-Fi': '1',\n 'Fantasy': '0',\n 'Animation': '0',\n 'Family': '0',\n 'Musical': '0',\n 'Horror': '0',\n 'Comedy': '0',\n 'Thriller': '0',\n 'Romance': '0',\n 'Mystery': '0',\n 'Crime': '0',\n 'War': '0',\n 'Music': '0',\n 'Sport': '0',\n 'Biography': '0',\n 'History': '0',\n 'Documentary': '0',\n 'Western': '0',\n 'Film-Noir': '0',\n 'release_length': '250.0',\n 'url_imdb': 'https://imdb.com/title/tt4154796',\n 'summary': \"After the devastating events of Avengers: Infinity War, the universe is in ruins. With the help of remaining allies, the Avengers assemble once more in order to reverse Thanos' actions and restore balance to the universe.\",\n 'user_raiting': '8.4',\n 'user_reviews': '9535.0',\n 'critic_rating': '78.0',\n 'critic_reviews': '596.0',\n 'writers': '3',\n 'directors': '2',\n 'movie_star': '18',\n 'query_url': 'https://www.youtube.com/results?search_query=avengers%3A+endgame+official+trailer',\n 'no_prerelease': '0',\n 'query_results': [[\"Marvel Studios' Avengers: Endgame - Official Trailer\",\n   'Marvel Entertainment',\n   'TcMBFSGVi1c',\n   '3/14/2019',\n   False,\n   False,\n   '19.9M',\n   '153,515,424',\n   '3,385,792'],\n  [\"Marvel Studios' Avengers - Official Trailer\",\n   'Marvel Entertainment',\n   'hA6hldpSTF8',\n   '12/7/2018',\n   False,\n   False,\n   '19.9M',\n   '107,347,927',\n   '3,365,646'],\n  ['Marvel Studios’ Avengers: Endgame | “To the End”',\n   'Marvel Entertainment',\n   '0jNvJU52LvU',\n   '4/16/2019',\n   False,\n   False,\n   '19.9M',\n   '37,317,134',\n   '1,240,108'],\n  ['Marvel Studios’ Avengers: Endgame | Special Look',\n   'Marvel Entertainment',\n   'KCSNFZKbhZE',\n   '4/2/2019',\n   False,\n   False,\n   '19.9M',\n   '30,414,837',\n   '795,380'],\n  ['Avengers: Endgame (Tráiler Final | Dob Español Latino) | DubZoneLA',\n   'DubZone: Latinoamérica',\n   'KdL8ucqi1F8',\n   '3/15/2019',\n   True,\n   False,\n   '20.8K',\n   '2,643,813',\n   '65,973'],\n  [\"Marvel Studios' Avengers: Endgame - Big Game TV Spot\",\n   'Marvel Entertainment',\n   '-iFq6IcAxBc',\n   '2/3/2019',\n   False,\n   False,\n   '19.9M',\n   '22,447,921',\n   '579,226'],\n  ['AVENGERS: ENDGAME All Movie Clips - Final Battle (2019)',\n   'Entertainment Access',\n   'BKviRM0KF2A',\n   '4/1/2022',\n   False,\n   False,\n   '6.74M',\n   '7,971,581',\n   '68,989'],\n  ['Avengers: Endgame – Tráiler oficial #2 (Subtitulado)',\n   'Marvel Latinoamérica Oficial',\n   'PyakRSni-c0',\n   '3/14/2019',\n   False,\n   False,\n   '1.5M',\n   '9,567,848',\n   '233,926'],\n  ['AVENGERS - END GAME - trailer music (Epic version)',\n   'Epic Music Paradise',\n   'Nm9dKIEamqc',\n   '12/8/2018',\n   False,\n   False,\n   '15.6K',\n   '8,893,840',\n   '97,432'],\n  ['Avengers: Endgame – Tráiler oficial #1 (Subtitulado)',\n   'Marvel Latinoamérica Oficial',\n   'znk2OICHbjY',\n   '12/7/2018',\n   False,\n   False,\n   '1.5M',\n   '7,469,146',\n   '226,871'],\n  ['Peppa Pig: Endgame - Official Trailer',\n   'Peppa Pig Parodies',\n   'Oozdpz12Ejo',\n   '8/15/2019',\n   False,\n   False,\n   '1.45M',\n   '15,304,961',\n   '391,547'],\n  ['Avengers: Endgame - \"To The End\" Subtitulado',\n   'Marvel Latinoamérica Oficial',\n   'QbCBVsYVogI',\n   '4/20/2019',\n   False,\n   False,\n   '1.5M',\n   '916,646',\n   '47,682'],\n  [\"Marvel Studios' Avengers: Infinity War Official Trailer\",\n   'Marvel Entertainment',\n   '6ZfuNTqbHE8',\n   '11/29/2017',\n   False,\n   False,\n   '19.9M',\n   '257,335,708',\n   '4,083,701'],\n  ['AVENGERS 4: ENDGAME Official Trailer #2 (2019) Marvel, Superhero Movie HD',\n   'Rapid Trailer',\n   'aNkJ6QwacGE',\n   '3/14/2019',\n   False,\n   False,\n   '1.05M',\n   '4,064,962',\n   '53,842'],\n  ['AVENGERS 4: ENDGAME Trailer (4K ULTRA HD) NEW 2019',\n   'FilmSpot Trailer',\n   'NVf7qLnEuvQ',\n   '12/7/2018',\n   False,\n   False,\n   '5.17M',\n   '1,220,789',\n   '5,942'],\n  ['Vengadores: Endgame de Marvel Studios | Nuevo Tráiler Oficial en español | HD',\n   'Marvel España',\n   'UQ3bqYKnyhM',\n   '3/14/2019',\n   False,\n   False,\n   '376K',\n   '3,094,447',\n   '48,001'],\n  ['Vengadores: Endgame | Tráiler oficial en español | HD',\n   'Marvel España',\n   'svLSGZkTzC0',\n   '12/7/2018',\n   False,\n   False,\n   '376K',\n   '4,296,558',\n   '56,285'],\n  ['Avengers: Endgame (2019) - To The End Official Trailer',\n   'GameSpot Universe Trailers',\n   'CIfm9NQzgU0',\n   '4/16/2019',\n   False,\n   False,\n   '227K',\n   '803,183',\n   None],\n  ['Avengers: Infinity War Trailer #1 (2018) | Movieclips Trailers',\n   'Rotten Tomatoes Trailers',\n   'B65hW9YYY5A',\n   '11/29/2017',\n   False,\n   False,\n   '15.7M',\n   '8,394,565',\n   '110,149'],\n  ['AVENGERS: ENDGAME Trailer 2 Music Version | Best Proper Movie Trailer Soundtrack Final Theme Song',\n   'Feature Presentations',\n   'f4WxRpF_ZAs',\n   '3/17/2019',\n   False,\n   False,\n   '31.3K',\n   '3,558,338',\n   '46,270']],\n 'results': [{'uniqueID': '0',\n   'movie_name': 'Avengers: Endgame',\n   'num_trailers': '2',\n   'trailer_id': '0',\n   'video_url': 'https://www.youtube.com/watch?v=TcMBFSGVi1c',\n   'video_title': \"Marvel Studios' Avengers: Endgame - Official Trailer\",\n   'channel': 'Marvel Entertainment',\n   'official': '1',\n   'teaser': '',\n   'days_diff': '-43',\n   'trailer_release': '3/14/2019',\n   'trailer_view': '153817402',\n   'trailer_like': '3388847',\n   'trailer_comment': 206098,\n   'most_recent': '1',\n   'oldest': '0',\n   'most_liked': '1',\n   'most_viewed': '1',\n   'most_comment': '0'},\n  {'uniqueID': '0',\n   'movie_name': 'Avengers: Endgame',\n   'num_trailers': '2',\n   'trailer_id': '1',\n   'video_url': 'https://www.youtube.com/watch?v=hA6hldpSTF8',\n   'video_title': \"Marvel Studios' Avengers - Official Trailer\",\n   'channel': 'Marvel Entertainment',\n   'official': '1',\n   'teaser': '',\n   'days_diff': '-140',\n   'trailer_release': '12/7/2018',\n   'trailer_view': '107481220',\n   'trailer_like': '3366631',\n   'trailer_comment': 264627,\n   'most_recent': '0',\n   'oldest': '1',\n   'most_liked': '0',\n   'most_viewed': '0',\n   'most_comment': '1'}]}"
     },
     "execution_count": 297,
     "metadata": {},
     "output_type": "execute_result"
    }
   ],
   "source": [
    "movies[0]"
   ],
   "metadata": {
    "collapsed": false,
    "pycharm": {
     "name": "#%%\n"
    }
   }
  },
  {
   "cell_type": "code",
   "execution_count": 298,
   "outputs": [
    {
     "name": "stdout",
     "output_type": "stream",
     "text": [
      "uniqueID,movie_name,url_bom,success,gross_dom,gross_int,gross_worldwide,distributor,opening_box,opening_theater,budget,release_start,release_end,mpaa,run_time,Action,Adventure,Drama,Sci-Fi,Fantasy,Animation,Family,Musical,Horror,Comedy,Thriller,Romance,Mystery,Crime,War,Music,Sport,Biography,History,Documentary,Western,Film-Noir,release_length,url_imdb,summary,user_raiting,user_reviews,critic_rating,critic_reviews,writers,directors,movie_star,query_url,no_prerelease,num_trailers,trailer_id,video_url,official,teaser,trailer_release,trailer_view,trailer_like,trailer_comment,most_recent,oldest,most_liked,most_viewed,most_comment,\n"
     ]
    }
   ],
   "source": [
    "keys = \"\"\n",
    "for movie in movies:\n",
    "    for key in movie:\n",
    "        #print(key)\n",
    "        if key == \"query_results\":\n",
    "            continue\n",
    "        if key == \"results\":\n",
    "            for result in movie[\"results\"]:\n",
    "                for result_key in result:\n",
    "                    if result_key == \"uniqueID\" or \\\n",
    "                        result_key == \"movie_name\" or \\\n",
    "                        result_key == \"video_title\" or \\\n",
    "                        result_key == \"channel\" or \\\n",
    "                        result_key == \"days_diff\":\n",
    "                        continue\n",
    "                    else:\n",
    "                        keys = keys + \"{},\".format(result_key)\n",
    "\n",
    "                break\n",
    "        else:\n",
    "            keys = keys + \"{},\".format(key)\n",
    "    break\n",
    "print(keys)"
   ],
   "metadata": {
    "collapsed": false,
    "pycharm": {
     "name": "#%%\n"
    }
   }
  },
  {
   "cell_type": "code",
   "execution_count": 299,
   "outputs": [
    {
     "name": "stdout",
     "output_type": "stream",
     "text": [
      "{'uniqueID': '0', 'movie_name': 'Avengers: Endgame', 'url_bom': 'https://www.boxofficemojo.com/release/rl3059975681/', 'success': '1', 'gross_dom': '858373000.0', 'gross_int': '1939128328.0', 'gross_worldwide': '2797501328.0', 'distributor': 'Walt Disney Studios Motion Pictures', 'opening_box': '357115007.0', 'opening_theater': '4662.0', 'budget': '356000000.0', 'release_start': '4/26/2019', 'release_end': '9/12/2019', 'mpaa': 'PG-13', 'run_time': '181.0', 'Action': '1', 'Adventure': '1', 'Drama': '1', 'Sci-Fi': '1', 'Fantasy': '0', 'Animation': '0', 'Family': '0', 'Musical': '0', 'Horror': '0', 'Comedy': '0', 'Thriller': '0', 'Romance': '0', 'Mystery': '0', 'Crime': '0', 'War': '0', 'Music': '0', 'Sport': '0', 'Biography': '0', 'History': '0', 'Documentary': '0', 'Western': '0', 'Film-Noir': '0', 'release_length': '250.0', 'url_imdb': 'https://imdb.com/title/tt4154796', 'summary': \"After the devastating events of Avengers: Infinity War\\\\, the universe is in ruins. With the help of remaining allies\\\\, the Avengers assemble once more in order to reverse Thanos' actions and restore balance to the universe.\", 'user_raiting': '8.4', 'user_reviews': '9535.0', 'critic_rating': '78.0', 'critic_reviews': '596.0', 'writers': '3', 'directors': '2', 'movie_star': '18', 'query_url': 'https://www.youtube.com/results?search_query=avengers%3A+endgame+official+trailer', 'no_prerelease': '0', 'query_results': [[\"Marvel Studios' Avengers: Endgame - Official Trailer\", 'Marvel Entertainment', 'TcMBFSGVi1c', '3/14/2019', False, False, '19.9M', '153,515,424', '3,385,792'], [\"Marvel Studios' Avengers - Official Trailer\", 'Marvel Entertainment', 'hA6hldpSTF8', '12/7/2018', False, False, '19.9M', '107,347,927', '3,365,646'], ['Marvel Studios’ Avengers: Endgame | “To the End”', 'Marvel Entertainment', '0jNvJU52LvU', '4/16/2019', False, False, '19.9M', '37,317,134', '1,240,108'], ['Marvel Studios’ Avengers: Endgame | Special Look', 'Marvel Entertainment', 'KCSNFZKbhZE', '4/2/2019', False, False, '19.9M', '30,414,837', '795,380'], ['Avengers: Endgame (Tráiler Final | Dob Español Latino) | DubZoneLA', 'DubZone: Latinoamérica', 'KdL8ucqi1F8', '3/15/2019', True, False, '20.8K', '2,643,813', '65,973'], [\"Marvel Studios' Avengers: Endgame - Big Game TV Spot\", 'Marvel Entertainment', '-iFq6IcAxBc', '2/3/2019', False, False, '19.9M', '22,447,921', '579,226'], ['AVENGERS: ENDGAME All Movie Clips - Final Battle (2019)', 'Entertainment Access', 'BKviRM0KF2A', '4/1/2022', False, False, '6.74M', '7,971,581', '68,989'], ['Avengers: Endgame – Tráiler oficial #2 (Subtitulado)', 'Marvel Latinoamérica Oficial', 'PyakRSni-c0', '3/14/2019', False, False, '1.5M', '9,567,848', '233,926'], ['AVENGERS - END GAME - trailer music (Epic version)', 'Epic Music Paradise', 'Nm9dKIEamqc', '12/8/2018', False, False, '15.6K', '8,893,840', '97,432'], ['Avengers: Endgame – Tráiler oficial #1 (Subtitulado)', 'Marvel Latinoamérica Oficial', 'znk2OICHbjY', '12/7/2018', False, False, '1.5M', '7,469,146', '226,871'], ['Peppa Pig: Endgame - Official Trailer', 'Peppa Pig Parodies', 'Oozdpz12Ejo', '8/15/2019', False, False, '1.45M', '15,304,961', '391,547'], ['Avengers: Endgame - \"To The End\" Subtitulado', 'Marvel Latinoamérica Oficial', 'QbCBVsYVogI', '4/20/2019', False, False, '1.5M', '916,646', '47,682'], [\"Marvel Studios' Avengers: Infinity War Official Trailer\", 'Marvel Entertainment', '6ZfuNTqbHE8', '11/29/2017', False, False, '19.9M', '257,335,708', '4,083,701'], ['AVENGERS 4: ENDGAME Official Trailer #2 (2019) Marvel, Superhero Movie HD', 'Rapid Trailer', 'aNkJ6QwacGE', '3/14/2019', False, False, '1.05M', '4,064,962', '53,842'], ['AVENGERS 4: ENDGAME Trailer (4K ULTRA HD) NEW 2019', 'FilmSpot Trailer', 'NVf7qLnEuvQ', '12/7/2018', False, False, '5.17M', '1,220,789', '5,942'], ['Vengadores: Endgame de Marvel Studios | Nuevo Tráiler Oficial en español | HD', 'Marvel España', 'UQ3bqYKnyhM', '3/14/2019', False, False, '376K', '3,094,447', '48,001'], ['Vengadores: Endgame | Tráiler oficial en español | HD', 'Marvel España', 'svLSGZkTzC0', '12/7/2018', False, False, '376K', '4,296,558', '56,285'], ['Avengers: Endgame (2019) - To The End Official Trailer', 'GameSpot Universe Trailers', 'CIfm9NQzgU0', '4/16/2019', False, False, '227K', '803,183', None], ['Avengers: Infinity War Trailer #1 (2018) | Movieclips Trailers', 'Rotten Tomatoes Trailers', 'B65hW9YYY5A', '11/29/2017', False, False, '15.7M', '8,394,565', '110,149'], ['AVENGERS: ENDGAME Trailer 2 Music Version | Best Proper Movie Trailer Soundtrack Final Theme Song', 'Feature Presentations', 'f4WxRpF_ZAs', '3/17/2019', False, False, '31.3K', '3,558,338', '46,270']], 'results': [{'uniqueID': '0', 'movie_name': 'Avengers: Endgame', 'num_trailers': '2', 'trailer_id': '0', 'video_url': 'https://www.youtube.com/watch?v=TcMBFSGVi1c', 'video_title': \"Marvel Studios' Avengers: Endgame - Official Trailer\", 'channel': 'Marvel Entertainment', 'official': '1', 'teaser': '', 'days_diff': '-43', 'trailer_release': '3/14/2019', 'trailer_view': '153817402', 'trailer_like': '3388847', 'trailer_comment': 206098, 'most_recent': '1', 'oldest': '0', 'most_liked': '1', 'most_viewed': '1', 'most_comment': '0'}, {'uniqueID': '0', 'movie_name': 'Avengers: Endgame', 'num_trailers': '2', 'trailer_id': '1', 'video_url': 'https://www.youtube.com/watch?v=hA6hldpSTF8', 'video_title': \"Marvel Studios' Avengers - Official Trailer\", 'channel': 'Marvel Entertainment', 'official': '1', 'teaser': '', 'days_diff': '-140', 'trailer_release': '12/7/2018', 'trailer_view': '107481220', 'trailer_like': '3366631', 'trailer_comment': 264627, 'most_recent': '0', 'oldest': '1', 'most_liked': '0', 'most_viewed': '0', 'most_comment': '1'}]}\n"
     ]
    }
   ],
   "source": [
    "for movie in movies:\n",
    "    movie[\"summary\"] = movie[\"summary\"].replace(\",\", \"\\,\")\n",
    "    break\n",
    "print(movies[0])"
   ],
   "metadata": {
    "collapsed": false,
    "pycharm": {
     "name": "#%%\n"
    }
   }
  },
  {
   "cell_type": "code",
   "execution_count": 300,
   "outputs": [],
   "source": [
    "final_records = []\n",
    "for movie in movies:\n",
    "    for result in movie[\"results\"]:\n",
    "        final_record = {}\n",
    "        for movie_key in movie:\n",
    "            if movie_key == \"query_results\" or movie_key == \"results\":\n",
    "                continue\n",
    "            else:\n",
    "                final_record[movie_key] = movie[movie_key]\n",
    "\n",
    "        for result_key in result:\n",
    "            if result_key == \"uniqueID\" or \\\n",
    "                result_key == \"movie_name\" or \\\n",
    "                result_key == \"video_title\" or \\\n",
    "                result_key == \"channel\" or \\\n",
    "                result_key == \"days_diff\":\n",
    "                continue\n",
    "            else:\n",
    "                final_record[result_key] = result[result_key]\n",
    "        final_records.append(final_record)\n",
    "\n"
   ],
   "metadata": {
    "collapsed": false,
    "pycharm": {
     "name": "#%%\n"
    }
   }
  },
  {
   "cell_type": "code",
   "execution_count": 301,
   "outputs": [],
   "source": [
    "keys = final_records[0].keys()"
   ],
   "metadata": {
    "collapsed": false,
    "pycharm": {
     "name": "#%%\n"
    }
   }
  },
  {
   "cell_type": "code",
   "execution_count": 302,
   "outputs": [],
   "source": [
    "movies = []\n",
    "with open('Output.csv') as f:\n",
    "    reader = csv.DictReader(f)\n",
    "    lst = list(reader)\n",
    "    for item in lst:\n",
    "        item[\"query_results\"] = ast.literal_eval(item[\"query_results\"])\n",
    "        movies.append(item)\n",
    "\n",
    "for movie in movies:\n",
    "    found = False\n",
    "    for final_record in final_records:\n",
    "        if movie[\"uniqueID\"] == final_record[\"uniqueID\"]:\n",
    "            found = True\n",
    "            break\n",
    "    if not found:\n",
    "        final_record = {}\n",
    "        if movie[\"no_prerelease\"] == \"1\":\n",
    "            for movie_key in movie:\n",
    "                if movie_key == \"query_results\" or movie_key == \"results\":\n",
    "                    continue\n",
    "                else:\n",
    "                    final_record[movie_key] = movie[movie_key]\n",
    "            final_record[\"num_trailers\"] = 0\n",
    "            final_records.append(final_record)\n"
   ],
   "metadata": {
    "collapsed": false,
    "pycharm": {
     "name": "#%%\n"
    }
   }
  },
  {
   "cell_type": "code",
   "execution_count": 303,
   "outputs": [],
   "source": [
    "for movie in movies:\n",
    "    found = False\n",
    "    for final_record in final_records:\n",
    "        if movie[\"uniqueID\"] == final_record[\"uniqueID\"]:\n",
    "            found = True\n",
    "            break\n",
    "    if not found:\n",
    "        final_record = {}\n",
    "        if movie[\"no_prerelease\"] == \"0\":\n",
    "            for movie_key in movie:\n",
    "                if movie_key == \"query_results\" or movie_key == \"results\":\n",
    "                    continue\n",
    "                else:\n",
    "                    final_record[movie_key] = movie[movie_key]\n",
    "            final_record[\"num_trailers\"] = 0\n",
    "            final_records.append(final_record)"
   ],
   "metadata": {
    "collapsed": false,
    "pycharm": {
     "name": "#%%\n"
    }
   }
  },
  {
   "cell_type": "code",
   "execution_count": 304,
   "outputs": [],
   "source": [
    "with open('final_dataset.csv', 'w', newline='') as output_file:\n",
    "    dict_writer = csv.DictWriter(output_file, keys)\n",
    "    dict_writer.writeheader()\n",
    "    dict_writer.writerows(final_records)"
   ],
   "metadata": {
    "collapsed": false,
    "pycharm": {
     "name": "#%%\n"
    }
   }
  }
 ],
 "metadata": {
  "colab": {
   "provenance": []
  },
  "kernelspec": {
   "display_name": "Python 3 (ipykernel)",
   "language": "python",
   "name": "python3"
  },
  "language_info": {
   "codemirror_mode": {
    "name": "ipython",
    "version": 3
   },
   "file_extension": ".py",
   "mimetype": "text/x-python",
   "name": "python",
   "nbconvert_exporter": "python",
   "pygments_lexer": "ipython3",
   "version": "3.10.6"
  }
 },
 "nbformat": 4,
 "nbformat_minor": 1
}