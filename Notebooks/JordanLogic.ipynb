{
 "cells": [
  {
   "cell_type": "markdown",
   "metadata": {
    "id": "Glpq9VU6mZbk"
   },
   "source": [
    "# Reading Movies"
   ]
  },
  {
   "cell_type": "code",
   "execution_count": 36,
   "metadata": {
    "id": "vnk-yese9cPk"
   },
   "outputs": [],
   "source": [
    "import ast\n",
    "import csv\n",
    "movies = []\n",
    "with open('results.csv') as f:\n",
    "  reader = csv.DictReader(f)\n",
    "  lst = list(reader)\n",
    "  for item in lst:\n",
    "    item[\"query_results\"] = ast.literal_eval(item[\"query_results\"])\n",
    "    item[\"top_10_results\"] = item[\"query_results\"][:10]\n",
    "    movies.append(item)\n",
    "\n",
    "exclude_channels = []\n",
    "with open(\"Hand_Excluded_Channels.csv\") as f:\n",
    "  reader = csv.reader(f)\n",
    "  lst = reader\n",
    "  for item in lst:\n",
    "    exclude_channels.append(item[0])\n",
    "\n",
    "with open(\"Programmatically_Excluded_Channels.csv\") as f:\n",
    "  reader = csv.reader(f)\n",
    "  lst = reader\n",
    "  for item in lst:\n",
    "    exclude_channels.append(item[0])\n",
    "\n",
    "known_channels = []\n",
    "with open(\"Hand_Known_Channels.csv\") as f:\n",
    "  reader = csv.reader(f)\n",
    "  lst = reader\n",
    "  for item in lst:\n",
    "    known_channels.append(item[0])"
   ]
  },
  {
   "cell_type": "code",
   "execution_count": 37,
   "metadata": {
    "colab": {
     "base_uri": "https://localhost:8080/"
    },
    "id": "0xdWtoRA_pGS",
    "outputId": "1b2797a7-17d5-4216-f531-b175fc236d32"
   },
   "outputs": [
    {
     "data": {
      "text/plain": [
       "1976"
      ]
     },
     "execution_count": 37,
     "metadata": {},
     "output_type": "execute_result"
    }
   ],
   "source": [
    "len(movies)"
   ]
  },
  {
   "cell_type": "code",
   "execution_count": 38,
   "metadata": {
    "id": "ZmTpbur3AkJX"
   },
   "outputs": [],
   "source": [
    "import re\n",
    "def translate(to_translate):\n",
    "\t\ttabin = u'áéíóú'\n",
    "\t\ttabout = u'aeiou'\n",
    "\t\ttabin = [ord(char) for char in tabin]\n",
    "\t\ttranslate_table = dict(zip(tabin, tabout))\n",
    "\t\treturn to_translate.translate(translate_table)\n",
    "\n",
    "def remove_non_alphanumeric(result):\n",
    "    return re.sub(r'[^a-zA-Z0-9]', '', result)\n",
    "\n",
    "def normalize(token):\n",
    "\t\tresult = token.lower()\n",
    "\t\tresult = translate(result)\n",
    "\t\tresult = remove_non_alphanumeric(result)\n",
    "\t\treturn result"
   ]
  },
  {
   "cell_type": "code",
   "execution_count": 39,
   "metadata": {
    "id": "NSdfz_yNEGpP"
   },
   "outputs": [],
   "source": [
    "from datetime import date\n",
    "\n",
    "def diff_dates(date1, date2):\n",
    "    return abs(date2 - date1).days\n",
    "\n",
    "\n",
    "def anterior(date1, date2):\n",
    "  return (date2 - date1).days >= 0\n",
    "\n",
    "def remove_results_by_date(release_start, records):\n",
    "        anterior_query_results = []\n",
    "        for query_result in records:\n",
    "            title, channel, video_id, result_date_str, premiered, stream, subscribers, views, likes, verified = query_result\n",
    "\n",
    "            if release_start == None or result_date_str == None or release_start == \"\" or result_date_str == \"\":\n",
    "                is_anterior = True\n",
    "            else:\n",
    "                #print(\"{} {}\".format(repr(release_start), result_date_str))\n",
    "                movie_moth, movie_day, movie_year = release_start.split(\"/\")\n",
    "                result_moth, result_day, result_year = result_date_str.split(\"/\")\n",
    "                movie_date = date(int(movie_year), int(movie_moth), int(movie_day))\n",
    "                result_date = date(int(result_year), int(result_moth), int(result_day))\n",
    "                is_anterior = anterior(result_date, movie_date)\n",
    "\n",
    "            #self.logger.debug(\"Movie Date {},  Result Date {}, Diff {} Result Date Is Anterior? {}\".format(release_start, result_date_str, diff_dates(movie_date, result_date), is_anterior))\n",
    "\n",
    "            if is_anterior:\n",
    "                anterior_query_results.append(query_result)\n",
    "        return anterior_query_results"
   ]
  },
  {
   "cell_type": "code",
   "execution_count": 40,
   "metadata": {},
   "outputs": [],
   "source": [
    "def remove_results_by_channel_known_or_verified(records):\n",
    "    results = []\n",
    "    for result in records:\n",
    "        title, channel, video_id, result_date_str, premiered, stream, subscribers, views, likes, verified = result\n",
    "        if channel.lower() in known_channels:\n",
    "            results.append(result)\n",
    "        elif verified == \"verified\":\n",
    "            results.append(result)\n",
    "    return results"
   ]
  },
  {
   "cell_type": "code",
   "execution_count": 41,
   "metadata": {
    "id": "dt2AvSlBZb39"
   },
   "outputs": [],
   "source": [
    "def exclude_by_channel(records):\n",
    "    results = []\n",
    "    for result in records:\n",
    "        title, channel, video_id, result_date_str, premiered, stream, subscribers, views, likes, verified = result\n",
    "        if channel.lower() not in exclude_channels:\n",
    "            results.append(result)\n",
    "    return results\n",
    "  "
   ]
  },
  {
   "cell_type": "code",
   "execution_count": 42,
   "metadata": {},
   "outputs": [],
   "source": [
    "url = \"https://gist.githubusercontent.com/sebleier/554280/raw/7e0e4a1ce04c2bb7bd41089c9821dbcf6d0c786c/NLTK's%2520list%2520of%2520english%2520stopwords\"\n",
    "import requests\n",
    "empty_words = requests.get(url).text.split(\"\\n\")\n",
    "\n",
    "import re\n",
    "def translate(to_translate):\n",
    "\t\ttabin = u'áéíóú'\n",
    "\t\ttabout = u'aeiou'\n",
    "\t\ttabin = [ord(char) for char in tabin]\n",
    "\t\ttranslate_table = dict(zip(tabin, tabout))\n",
    "\t\treturn to_translate.translate(translate_table)\n",
    "\n",
    "def remove_non_alphanumeric(result):\n",
    "    return re.sub(r'[^a-zA-Z0-9]', '', result)\n",
    "\n",
    "def normalize_token(token):\n",
    "\t\tresult = token.lower()\n",
    "\t\tresult = translate(result)\n",
    "\t\tresult = remove_non_alphanumeric(result)\n",
    "\t\treturn result\n",
    "\n",
    "def normalize(sentence):\n",
    "    normalized_title_tokens = []\n",
    "    sentence_words = sentence.split()\n",
    "    for word in sentence_words:\n",
    "        normalized_title_token = normalize_token(word)\n",
    "        if len(normalized_title_token) > 1:\n",
    "            normalized_title_tokens.append(normalized_title_token)\n",
    "    return normalized_title_tokens\n",
    "\n",
    "def all_empty_tokens(tokens):\n",
    "    for token in tokens:\n",
    "        if token not in empty_words:\n",
    "            return False\n",
    "    return True\n",
    "\n",
    "def remove_empty_words(tokens):\n",
    "    result_tokens = []\n",
    "    for token in tokens:\n",
    "        if token not in empty_words:\n",
    "            result_tokens.append(token)\n",
    "    return result_tokens\n",
    "    \n",
    "\n",
    "def contains_at_least_one_word(movie_tokens, result_title_tokens):\n",
    "    for movie_token in movie_tokens:\n",
    "        if movie_token in result_title_tokens:\n",
    "            return True\n",
    "    return False\n",
    "\n",
    "def remove_results_by_title(movie_name, records):\n",
    "    results = []\n",
    "    movie_tokens = normalize(movie_name)\n",
    "    \n",
    "    if all_empty_tokens(movie_tokens):\n",
    "        remove_empty_words_flag = False\n",
    "    else:\n",
    "        remove_empty_words_flag = True\n",
    "        movie_tokens = remove_empty_words(movie_tokens)\n",
    "        \n",
    "        \n",
    "    for result in records:\n",
    "        title, channel, video_id, result_date_str, premiered, stream, subscribers, views, likes, verified = result\n",
    "        result_title_tokens = normalize(title)\n",
    "        if remove_empty_words_flag:\n",
    "            result_title_tokens = remove_empty_words(result_title_tokens)\n",
    "            \n",
    "        if contains_at_least_one_word(movie_tokens, result_title_tokens):\n",
    "            results.append(result)\n",
    "    return results"
   ]
  },
  {
   "cell_type": "code",
   "execution_count": 43,
   "metadata": {},
   "outputs": [],
   "source": [
    "def add_3_relevant(records, actual_candidates):\n",
    "    new_candidates = []\n",
    "    added_count = 0\n",
    "    for record in records:\n",
    "        if record not in actual_candidates:\n",
    "            new_candidates.append(record)\n",
    "            added_count += 1\n",
    "            if added_count == 3:\n",
    "                break\n",
    "        else:\n",
    "            new_candidates.append(record)\n",
    "    return new_candidates"
   ]
  },
  {
   "cell_type": "code",
   "execution_count": 44,
   "metadata": {
    "id": "uai_rWFxexCY"
   },
   "outputs": [
    {
     "name": "stdout",
     "output_type": "stream",
     "text": [
      "Empty Count: 216, Non Empty Count: 874\n"
     ]
    }
   ],
   "source": [
    "empty_count = 0\n",
    "non_empty_count = 0  \n",
    "for movie in movies:\n",
    "    date_filtered = remove_results_by_date(movie[\"release_start\"], movie[\"top_10_results\"])\n",
    "    # Empty Count: 922, Non Empty Count: 1054\n",
    "    if date_filtered == []:\n",
    "        date_filtered = remove_results_by_date(movie[\"release_start\"], movie[\"query_results\"])\n",
    "        # Empty Count: 886, Non Empty Count: 1090\n",
    "        if date_filtered == []:\n",
    "            continue\n",
    "        \n",
    "    previous_and_channel_excluded_filtered = exclude_by_channel(date_filtered)\n",
    "    # Empty Count: 9, Non Empty Count: 1081\n",
    "    \n",
    "    previous_and_channel_known_or_verified_filtered = remove_results_by_channel_known_or_verified(previous_and_channel_excluded_filtered)\n",
    "    # Empty Count: 209, Non Empty Count: 881\n",
    "\n",
    "    previous_and_at_least_one_word_filtered = remove_results_by_title(movie[\"movie_name\"], previous_and_channel_known_or_verified_filtered)\n",
    "    # Empty Count: 216, Non Empty Count: 874\n",
    "\n",
    "    \n",
    "    if previous_and_at_least_one_word_filtered == []:\n",
    "        empty_count += 1\n",
    "    else:\n",
    "        non_empty_count += 1\n",
    "    \n",
    "    if len(previous_and_at_least_one_word_filtered) < 3:\n",
    "        candidates = add_3_relevant(movie[\"top_10_results\"], previous_and_at_least_one_word_filtered)\n",
    "    else:\n",
    "        candidates = previous_and_at_least_one_word_filtered\n",
    "    #candidates = previous_and_at_least_one_word_filtered\n",
    "    \n",
    "    movie[\"candidates\"] = candidates\n",
    "    \n",
    "print(\"Empty Count: {}, Non Empty Count: {}\".format(empty_count, non_empty_count))"
   ]
  },
  {
   "cell_type": "code",
   "execution_count": 45,
   "metadata": {},
   "outputs": [
    {
     "name": "stdout",
     "output_type": "stream",
     "text": [
      "Stream in candidates. Movie: Avengers: Infinity War\n",
      "Premiered in candidates. Movie: It Chapter Two\n",
      "Premiered in candidates. Movie: The Amazing Spider-Man 2\n",
      "Premiered in candidates. Movie: Sonic the Hedgehog\n",
      "Stream in candidates. Movie: Fantastic Beasts: The Secrets of Dumbledore\n",
      "Premiered in candidates. Movie: The Lego Movie 2: The Second Part\n",
      "Premiered in candidates. Movie: Hustlers\n",
      "Premiered in candidates. Movie: Space Jam: A New Legacy\n",
      "Premiered in candidates. Movie: Space Jam: A New Legacy\n",
      "Premiered in candidates. Movie: A Christmas Carol\n",
      "Premiered in candidates. Movie: Terminator: Dark Fate\n",
      "Premiered in candidates. Movie: About Last Night\n",
      "Premiered in candidates. Movie: Pet Sematary\n",
      "Stream in candidates. Movie: Fahrenheit 9/11\n",
      "Premiered in candidates. Movie: Goosebumps\n",
      "Premiered in candidates. Movie: Jackass Forever\n",
      "Premiered in candidates. Movie: It's Complicated\n",
      "Premiered in candidates. Movie: Cruella\n",
      "Premiered in candidates. Movie: Law Abiding Citizen\n",
      "Premiered in candidates. Movie: Valkyrie\n",
      "Premiered in candidates. Movie: Deja Vu\n",
      "Premiered in candidates. Movie: Shortcut\n",
      "Premiered in candidates. Movie: Shortcut\n",
      "Stream in candidates. Movie: Show Me the Father\n",
      "Premiered in candidates. Movie: Finding You\n",
      "Premiered in candidates. Movie: The Girl Who Believes in Miracles\n",
      "Premiered in candidates. Movie: Morgan\n",
      "Premiered in candidates. Movie: Breaking\n",
      "Premiered in candidates. Movie: Belle\n",
      "Premiered in candidates. Movie: Belle\n",
      "Premiered in candidates. Movie: The Cold Light of Day\n",
      "Premiered in candidates. Movie: Family Camp\n",
      "Premiered in candidates. Movie: A-X-L\n",
      "Premiered in candidates. Movie: Anna\n",
      "Premiered in candidates. Movie: The Unholy\n",
      "Stream in candidates. Movie: Fahrenheit 11/9\n",
      "Premiered in candidates. Movie: Shut In\n",
      "Premiered in candidates. Movie: The Hunt\n",
      "Premiered in candidates. Movie: The Comebacks\n",
      "Premiered in candidates. Movie: Straw Dogs\n",
      "Stream in candidates. Movie: Roadrunner: A Film About Anthony Bourdain\n"
     ]
    }
   ],
   "source": [
    "for movie in movies:\n",
    "    if movie[\"no_prerelease\"] == '0':\n",
    "        if movie[\"candidates\"] == []:\n",
    "            print(\"Error\")\n",
    "            \n",
    "for movie in movies:\n",
    "    if movie[\"no_prerelease\"] == '1':\n",
    "        if \"candidates\" in movie.keys():\n",
    "            print(\"Error\")\n",
    "            \n",
    "for movie in movies:\n",
    "    if movie[\"no_prerelease\"] == '0':\n",
    "        for trailer in movie[\"candidates\"]:\n",
    "            title, channel, video_id, date, premiered, stream, subscribers, views, likes, verified = trailer\n",
    "            if stream:\n",
    "                print(\"Stream in candidates. Movie: {}\".format(movie[\"movie_name\"]))\n",
    "            if premiered:\n",
    "                print(\"Premiered in candidates. Movie: {}\".format(movie[\"movie_name\"]))"
   ]
  },
  {
   "cell_type": "code",
   "execution_count": 46,
   "metadata": {},
   "outputs": [],
   "source": [
    "# Creating manual file"
   ]
  },
  {
   "cell_type": "code",
   "execution_count": 47,
   "metadata": {},
   "outputs": [
    {
     "name": "stdout",
     "output_type": "stream",
     "text": [
      "['Criminal (2016 Movie) Official Trailer – “Remember”', 'Lionsgate Movies', '3bvnoqsvY-M', '2/11/2016', False, False, '1.86M', '4,513,150', '8,228', 'verified']\n",
      "['CRIMINAL Official Trailer (2016)', 'KinoCheck.com', 'aHghr4qTpJI', '2/15/2016', False, False, '4.22M', '213,509', '1,359', 'verified']\n",
      "['Criminal ( Official Trailer ) Neeru Bajwa | Dheeraj Kumar | Prince Kanwaljit | Raghveer Boli', 'Humble Motion Pictures', 'McqMEmRdy7E', '9/7/2022', False, False, '127K', '8,881,240', '226,321', 'verified']\n",
      "['Michael Jackson - Smooth Criminal (Official Video)', 'Michael Jackson', 'h_D3VFfhvs4', '11/19/2010', False, False, '26.9M', '787,139,786', '8,228,361', 'not verified']\n"
     ]
    }
   ],
   "source": [
    "for movie in movies:\n",
    "    if movie[\"movie_name\"] == \"Criminal\":\n",
    "        for candidate in movie[\"candidates\"]:\n",
    "            print(candidate)"
   ]
  },
  {
   "cell_type": "code",
   "execution_count": 48,
   "metadata": {},
   "outputs": [],
   "source": [
    "with open(\"file.csv\", \"w\") as f:\n",
    "    f.write(\"movie_name,video_url,video_title,channel,official_trailer,colour\")\n",
    "    f.write(\"\\r\\n\")\n",
    "    colour = 0\n",
    "    for movie in movies:\n",
    "        if movie[\"no_prerelease\"] == '0':\n",
    "            for trailer in movie[\"candidates\"]:\n",
    "                title, channel, video_id, date, premiered, stream, subscribers, views, likes, verified = trailer\n",
    "                youtube_url = \"https://www.youtube.com/watch?v={}\".format(video_id)\n",
    "                movie_name = movie[\"movie_name\"].replace(\",\",\"\")\n",
    "                title = title.replace(\",\",\"\")\n",
    "                channel = channel.replace(\",\",\"\")\n",
    "                f.write(\"{},{},{},{},{},{}\".format(movie_name, youtube_url, title, channel, 0, colour))\n",
    "                f.write(\"\\r\\n\")\n",
    "            f.write(\",,,,,\")\n",
    "            f.write(\"\\r\\n\")\n",
    "            if colour == 0:\n",
    "                colour = 1\n",
    "            else:\n",
    "                colour = 0"
   ]
  },
  {
   "cell_type": "code",
   "execution_count": 49,
   "metadata": {},
   "outputs": [],
   "source": [
    "with open(\"./Debug_Files/query_results.csv\", \"w\") as f:\n",
    "    f.write(\"movie_name,video_url,video_title,channel\")\n",
    "    f.write(\"\\r\\n\")\n",
    "    for movie in movies:\n",
    "        for result in movie[\"query_results\"]:\n",
    "            title, channel, video_id, date, premiered, stream, subscribers, views, likes, verified = result\n",
    "            youtube_url = \"https://www.youtube.com/watch?v={}\".format(video_id)\n",
    "            movie_name = movie[\"movie_name\"].replace(\",\",\"\")\n",
    "            title = title.replace(\",\",\"\")\n",
    "            channel = channel.replace(\",\",\"\")\n",
    "            f.write(\"{},{},{},{}\".format(movie_name, youtube_url, title, channel))\n",
    "            f.write(\"\\r\\n\")\n",
    "        f.write(\",,,,\")\n",
    "        f.write(\"\\r\\n\")"
   ]
  },
  {
   "cell_type": "code",
   "execution_count": 50,
   "metadata": {},
   "outputs": [],
   "source": [
    "with open(\"./Debug_Files/top_10_results.csv\", \"w\") as f:\n",
    "    f.write(\"movie_name,video_url,video_title,channel\")\n",
    "    f.write(\"\\r\\n\")\n",
    "    for movie in movies:\n",
    "        for result in movie[\"top_10_results\"]:\n",
    "            title, channel, video_id, date, premiered, stream, subscribers, views, likes, verified = result\n",
    "            youtube_url = \"https://www.youtube.com/watch?v={}\".format(video_id)\n",
    "            movie_name = movie[\"movie_name\"].replace(\",\",\"\")\n",
    "            title = title.replace(\",\",\"\")\n",
    "            channel = channel.replace(\",\",\"\")\n",
    "            f.write(\"{},{},{},{}\".format(movie_name, youtube_url, title, channel))\n",
    "            f.write(\"\\r\\n\")\n",
    "        f.write(\",,,,\")\n",
    "        f.write(\"\\r\\n\")"
   ]
  },
  {
   "cell_type": "code",
   "execution_count": 51,
   "metadata": {},
   "outputs": [
    {
     "data": {
      "text/plain": [
       "'\\nwith open(\"file.csv\", \"w\") as f:\\n    f.write(\"movie_name,video_url,video_title,channel,official_trailer,colour\")\\n    f.write(\"\\r\\n\")\\n    colour = 0\\n    for movie in movies:\\n        if movie[\"no_prerelease\"] == \\'0\\':\\n            if movie[\"candidates\"] == []:\\n                movie_name = movie[\"movie_name\"].replace(\",\",\"\")\\n                f.write(\"{},{},{},{},{},{}\".format(movie_name, None, None, None, 0, 2))\\n                f.write(\"\\r\\n\")\\n            for trailer in movie[\"candidates\"]:\\n                title, channel, video_id, date, premiered, stream, subscribers, views, likes, score_result = trailer\\n                youtube_url = \"https://www.youtube.com/watch?v={}\".format(video_id)\\n                movie_name = movie[\"movie_name\"].replace(\",\",\"\")\\n                title = title.replace(\",\",\"\")\\n                channel = channel.replace(\",\",\"\")\\n                f.write(\"{},{},{},{},{},{}\".format(movie_name, youtube_url, title, channel, 0, colour))\\n                f.write(\"\\r\\n\")\\n            f.write(\",,,,,\")\\n            f.write(\"\\r\\n\")\\n            if colour == 0:\\n                colour = 1\\n            else:\\n                colour = 0\\n'"
      ]
     },
     "execution_count": 51,
     "metadata": {},
     "output_type": "execute_result"
    }
   ],
   "source": [
    "\"\"\"\n",
    "with open(\"file.csv\", \"w\") as f:\n",
    "    f.write(\"movie_name,video_url,video_title,channel,official_trailer,colour\")\n",
    "    f.write(\"\\r\\n\")\n",
    "    colour = 0\n",
    "    for movie in movies:\n",
    "        if movie[\"no_prerelease\"] == '0':\n",
    "            if movie[\"candidates\"] == []:\n",
    "                movie_name = movie[\"movie_name\"].replace(\",\",\"\")\n",
    "                f.write(\"{},{},{},{},{},{}\".format(movie_name, None, None, None, 0, 2))\n",
    "                f.write(\"\\r\\n\")\n",
    "            for trailer in movie[\"candidates\"]:\n",
    "                title, channel, video_id, date, premiered, stream, subscribers, views, likes, score_result = trailer\n",
    "                youtube_url = \"https://www.youtube.com/watch?v={}\".format(video_id)\n",
    "                movie_name = movie[\"movie_name\"].replace(\",\",\"\")\n",
    "                title = title.replace(\",\",\"\")\n",
    "                channel = channel.replace(\",\",\"\")\n",
    "                f.write(\"{},{},{},{},{},{}\".format(movie_name, youtube_url, title, channel, 0, colour))\n",
    "                f.write(\"\\r\\n\")\n",
    "            f.write(\",,,,,\")\n",
    "            f.write(\"\\r\\n\")\n",
    "            if colour == 0:\n",
    "                colour = 1\n",
    "            else:\n",
    "                colour = 0\n",
    "\"\"\""
   ]
  }
 ],
 "metadata": {
  "colab": {
   "provenance": []
  },
  "kernelspec": {
   "display_name": "Python 3 (ipykernel)",
   "language": "python",
   "name": "python3"
  },
  "language_info": {
   "codemirror_mode": {
    "name": "ipython",
    "version": 3
   },
   "file_extension": ".py",
   "mimetype": "text/x-python",
   "name": "python",
   "nbconvert_exporter": "python",
   "pygments_lexer": "ipython3",
   "version": "3.10.6"
  }
 },
 "nbformat": 4,
 "nbformat_minor": 1
}
