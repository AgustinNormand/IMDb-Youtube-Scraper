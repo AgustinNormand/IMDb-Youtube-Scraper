{
 "cells": [
  {
   "cell_type": "markdown",
   "metadata": {
    "id": "Glpq9VU6mZbk",
    "pycharm": {
     "name": "#%% md\n"
    }
   },
   "source": [
    "# Reading Movies"
   ]
  },
  {
   "cell_type": "code",
   "execution_count": 335,
   "metadata": {
    "id": "vnk-yese9cPk",
    "pycharm": {
     "name": "#%%\n"
    }
   },
   "outputs": [],
   "source": [
    "import ast\n",
    "import csv\n",
    "score_scheme = []\n",
    "with open('ScoreScheme.csv') as f:\n",
    "    reader = csv.DictReader(f)\n",
    "    lst = list(reader)\n",
    "    for item in lst:\n",
    "        if item[\"movie_name\"] == \"\":\n",
    "            continue\n",
    "        if item[\"video_url\"] == \"None\":\n",
    "            continue\n",
    "        score_scheme.append(item)"
   ]
  },
  {
   "cell_type": "code",
   "execution_count": 336,
   "metadata": {
    "colab": {
     "base_uri": "https://localhost:8080/"
    },
    "id": "0xdWtoRA_pGS",
    "outputId": "1b2797a7-17d5-4216-f531-b175fc236d32",
    "pycharm": {
     "name": "#%%\n"
    }
   },
   "outputs": [
    {
     "data": {
      "text/plain": "2870"
     },
     "execution_count": 336,
     "metadata": {},
     "output_type": "execute_result"
    }
   ],
   "source": [
    "len(score_scheme)"
   ]
  },
  {
   "cell_type": "code",
   "execution_count": 337,
   "outputs": [],
   "source": [
    "movies = []\n",
    "with open('Output.csv') as f:\n",
    "    reader = csv.DictReader(f)\n",
    "    lst = list(reader)\n",
    "    for item in lst:\n",
    "        item[\"query_results\"] = ast.literal_eval(item[\"query_results\"])\n",
    "        movies.append(item)"
   ],
   "metadata": {
    "collapsed": false,
    "pycharm": {
     "name": "#%%\n"
    }
   }
  },
  {
   "cell_type": "code",
   "execution_count": 338,
   "outputs": [
    {
     "data": {
      "text/plain": "1967"
     },
     "execution_count": 338,
     "metadata": {},
     "output_type": "execute_result"
    }
   ],
   "source": [
    "len(movies)"
   ],
   "metadata": {
    "collapsed": false,
    "pycharm": {
     "name": "#%%\n"
    }
   }
  },
  {
   "cell_type": "markdown",
   "metadata": {
    "pycharm": {
     "name": "#%% md\n"
    }
   },
   "source": [
    "# Merging Score Scheme File and Movies"
   ]
  },
  {
   "cell_type": "code",
   "execution_count": 339,
   "outputs": [
    {
     "data": {
      "text/plain": "1051"
     },
     "execution_count": 339,
     "metadata": {},
     "output_type": "execute_result"
    }
   ],
   "source": [
    "movies_with_prerelease = []\n",
    "for movie in movies:\n",
    "    if movie[\"no_prerelease\"] == \"1\":\n",
    "        continue\n",
    "    movies_with_prerelease.append(movie)\n",
    "len(movies_with_prerelease)"
   ],
   "metadata": {
    "collapsed": false,
    "pycharm": {
     "name": "#%%\n"
    }
   }
  },
  {
   "cell_type": "code",
   "execution_count": 340,
   "outputs": [],
   "source": [
    "index_ignore = []\n",
    "movies_with_results = []\n",
    "for movie in movies_with_prerelease:\n",
    "    movie[\"score_scheme_results\"] = []\n",
    "    found_movie = False\n",
    "    for index, result in enumerate(score_scheme):\n",
    "        if movie[\"movie_name\"].replace(\",\", \"\") == result[\"movie_name\"]:\n",
    "            if index not in index_ignore:\n",
    "                found_movie = True\n",
    "                movie[\"score_scheme_results\"].append(result)\n",
    "                index_ignore.append(index)\n",
    "        else:\n",
    "            if found_movie:\n",
    "                break\n",
    "    movies_with_results.append(movie)\n",
    "\n",
    "movies = movies_with_results"
   ],
   "metadata": {
    "collapsed": false,
    "pycharm": {
     "name": "#%%\n"
    }
   }
  },
  {
   "cell_type": "code",
   "execution_count": 341,
   "outputs": [
    {
     "name": "stdout",
     "output_type": "stream",
     "text": [
      "Pending to select  39\n",
      "New movies  1012\n"
     ]
    }
   ],
   "source": [
    "pending_to_select_trailers = []\n",
    "new_movies = []\n",
    "for movie in movies:\n",
    "    if movie[\"score_scheme_results\"] == []:\n",
    "        pending_to_select_trailers.append(movie)\n",
    "    else:\n",
    "        new_movies.append(movie)\n",
    "movies = new_movies\n",
    "print(\"Pending to select \",len(pending_to_select_trailers))\n",
    "print(\"New movies \",len(new_movies))"
   ],
   "metadata": {
    "collapsed": false,
    "pycharm": {
     "name": "#%%\n"
    }
   }
  },
  {
   "cell_type": "code",
   "execution_count": 342,
   "outputs": [
    {
     "name": "stdout",
     "output_type": "stream",
     "text": [
      "Not found https://www.youtube.com/watch?v=W6xUnDKcHNA\n",
      "Not found https://www.youtube.com/watch?v=0sH0__SpV88\n",
      "Not found https://www.youtube.com/watch?v=HydiAICZq6I\n"
     ]
    }
   ],
   "source": [
    "ampliated_movies = []\n",
    "for movie in movies:\n",
    "    ampliated_results = []\n",
    "    for result in movie[\"score_scheme_results\"]:\n",
    "        not_ampliated_video_id = result[\"video_url\"].replace(\"https://www.youtube.com/watch?v=\", \"\")\n",
    "        found = False\n",
    "        for query_result in movie[\"query_results\"]:\n",
    "            title, channel, video_id, result_date_str, premiered, stream, subscribers, views, likes = query_result\n",
    "            if not_ampliated_video_id == video_id:\n",
    "                result[\"release_date\"] = result_date_str\n",
    "                ampliated_results.append(result)\n",
    "                found = True\n",
    "                break\n",
    "        if not found:\n",
    "            print(\"Not found {}\".format(result[\"video_url\"]))\n",
    "            result[\"release_date\"] = \"TO-COMPLETE\"\n",
    "            ampliated_results.append(result)\n",
    "    movie[\"score_scheme_results\"] = ampliated_results\n",
    "    ampliated_movies.append(movie)\n",
    "movies = ampliated_movies"
   ],
   "metadata": {
    "collapsed": false,
    "pycharm": {
     "name": "#%%\n"
    }
   }
  },
  {
   "cell_type": "code",
   "execution_count": 343,
   "outputs": [],
   "source": [
    "completed_movies = []\n",
    "for movie in movies:\n",
    "    results = []\n",
    "    for result in movie[\"score_scheme_results\"]:\n",
    "        if result[\"video_url\"] == \"https://www.youtube.com/watch?v=W6xUnDKcHNA\":\n",
    "            result[\"release_date\"] = '7/23/2013'\n",
    "        if result[\"video_url\"] == \"https://www.youtube.com/watch?v=0sH0__SpV88\":\n",
    "            result[\"release_date\"] = '3/9/2015'\n",
    "        if result[\"video_url\"] == \"https://www.youtube.com/watch?v=HydiAICZq6I\":\n",
    "            result[\"release_date\"] = \"6/3/2014\"\n",
    "        results.append(result)\n",
    "    movie[\"score_scheme_results\"] = results\n",
    "    completed_movies.append(movie)\n",
    "movies = completed_movies"
   ],
   "metadata": {
    "collapsed": false,
    "pycharm": {
     "name": "#%%\n"
    }
   }
  },
  {
   "cell_type": "code",
   "execution_count": 344,
   "outputs": [],
   "source": [
    "from datetime import date\n",
    "\n",
    "def days_diff(date1, date2):\n",
    "    try:\n",
    "        movie_moth, movie_day, movie_year = date2.split(\"/\")\n",
    "        result_moth, result_day, result_year = date1.split(\"/\")\n",
    "        movie_date = date(int(movie_year), int(movie_moth), int(movie_day))\n",
    "        result_date = date(int(result_year), int(result_moth), int(result_day))\n",
    "        days_diff_video_movie = (result_date - movie_date).days\n",
    "    except Exception as e:\n",
    "        days_diff_video_movie = 1\n",
    "    return days_diff_video_movie\n",
    "\n",
    "new_movies = []\n",
    "for movie in movies:\n",
    "    results = []\n",
    "    for result in movie[\"score_scheme_results\"]:\n",
    "        result[\"days_diff\"] = days_diff(result[\"release_date\"], movie[\"release_start\"])\n",
    "        if result[\"days_diff\"] < 0:\n",
    "            results.append(result)\n",
    "    movie[\"score_scheme_results\"] = results\n",
    "    new_movies.append(movie)\n",
    "movies = new_movies"
   ],
   "metadata": {
    "collapsed": false,
    "pycharm": {
     "name": "#%%\n"
    }
   }
  },
  {
   "cell_type": "code",
   "execution_count": 345,
   "outputs": [
    {
     "name": "stdout",
     "output_type": "stream",
     "text": [
      "Pending to select  111\n",
      "New movies  940\n"
     ]
    }
   ],
   "source": [
    "movies_with_selected_trailers = []\n",
    "for movie in movies:\n",
    "    results = []\n",
    "    for result in movie[\"score_scheme_results\"]:\n",
    "        if result[\"official\"] == \"\" and result[\"teaser\"] == \"\":\n",
    "            continue\n",
    "        results.append(result)\n",
    "    movie[\"selected_trailers\"] = results\n",
    "    movies_with_selected_trailers.append(movie)\n",
    "movies = movies_with_selected_trailers\n",
    "\n",
    "new_movies = []\n",
    "for movie in movies:\n",
    "    if movie[\"selected_trailers\"] == []:\n",
    "        pending_to_select_trailers.append(movie)\n",
    "    else:\n",
    "        new_movies.append(movie)\n",
    "movies = new_movies\n",
    "print(\"Pending to select \",len(pending_to_select_trailers))\n",
    "print(\"New movies \",len(new_movies))"
   ],
   "metadata": {
    "collapsed": false,
    "pycharm": {
     "name": "#%%\n"
    }
   }
  },
  {
   "cell_type": "code",
   "execution_count": 346,
   "outputs": [],
   "source": [
    "movies_that_dont_need_extra_attention = []\n",
    "movies_that_need_extra_attention = []\n",
    "for movie in movies:\n",
    "    need_extra_attention = False\n",
    "    for result in movie[\"score_scheme_results\"]:\n",
    "        if result[\"days_diff\"] <= -365:\n",
    "            need_extra_attention = True\n",
    "\n",
    "    if need_extra_attention:\n",
    "        movies_that_need_extra_attention.append(movie)\n",
    "    else:\n",
    "        movies_that_dont_need_extra_attention.append(movie)"
   ],
   "metadata": {
    "collapsed": false,
    "pycharm": {
     "name": "#%%\n"
    }
   }
  },
  {
   "cell_type": "code",
   "execution_count": 347,
   "outputs": [],
   "source": [
    "movies_that_may_dont_need_scrape = []\n",
    "movies_that_need_scrape = []\n",
    "for movie in pending_to_select_trailers:\n",
    "    if movie[\"score_scheme_results\"] == []:\n",
    "        movies_that_need_scrape.append(movie)\n",
    "    else:\n",
    "        movies_that_may_dont_need_scrape.append(movie)"
   ],
   "metadata": {
    "collapsed": false,
    "pycharm": {
     "name": "#%%\n"
    }
   }
  },
  {
   "cell_type": "code",
   "execution_count": 348,
   "outputs": [],
   "source": [
    "with open(\"./new_score_scheme.csv\", \"w\") as f:\n",
    "    f.write(\n",
    "        \"uniqueID,movie_name,video_url,video_title,channel,score,id,official,teaser,days_diff,need_extra_attention,need_to_select_trailer\")\n",
    "    f.write(\"\\r\\n\")\n",
    "    for movie in movies_that_dont_need_extra_attention:\n",
    "        if movie[\"score_scheme_results\"] == []:\n",
    "            print(\"Alho\")\n",
    "        movie_name = movie[\"movie_name\"].replace(\",\", \"\")\n",
    "        for result in movie[\"score_scheme_results\"]:\n",
    "            f.write(\"{},{},{},{},{},{},{},{},{},{},{},{}\".format(\n",
    "                movie[\"uniqueID\"],\n",
    "                movie_name,\n",
    "                result[\"video_url\"],\n",
    "                result[\"video_title\"],\n",
    "                result[\"channel\"],\n",
    "                result[\"score\"],\n",
    "                result[\"id\"],\n",
    "                result[\"official\"],\n",
    "                result[\"teaser\"],\n",
    "                result[\"days_diff\"],\n",
    "                0,\n",
    "                0\n",
    "            ))\n",
    "            f.write(\"\\r\\n\")\n",
    "        f.write(\",,,,,,,,,,,\")\n",
    "        f.write(\"\\r\\n\")\n",
    "\n",
    "    for movie in movies_that_need_extra_attention:\n",
    "        if movie[\"score_scheme_results\"] == []:\n",
    "            print(\"Alho\")\n",
    "        movie_name = movie[\"movie_name\"].replace(\",\", \"\")\n",
    "        for result in movie[\"score_scheme_results\"]:\n",
    "            f.write(\"{},{},{},{},{},{},{},{},{},{},{},{}\".format(\n",
    "                movie[\"uniqueID\"],\n",
    "                movie_name,\n",
    "                result[\"video_url\"],\n",
    "                result[\"video_title\"],\n",
    "                result[\"channel\"],\n",
    "                result[\"score\"],\n",
    "                result[\"id\"],\n",
    "                result[\"official\"],\n",
    "                result[\"teaser\"],\n",
    "                result[\"days_diff\"],\n",
    "                1,\n",
    "                0\n",
    "            ))\n",
    "            f.write(\"\\r\\n\")\n",
    "        f.write(\",,,,,,,,,,,\")\n",
    "        f.write(\"\\r\\n\")"
   ],
   "metadata": {
    "collapsed": false,
    "pycharm": {
     "name": "#%%\n"
    }
   }
  },
  {
   "cell_type": "code",
   "execution_count": 349,
   "outputs": [
    {
     "data": {
      "text/plain": "'\\nwith open(\"./new_score_scheme.csv\", \"a\") as f:\\n    for movie in movies_that_may_dont_need_scrape:\\n        movie_name = movie[\"movie_name\"].replace(\",\", \"\")\\n        for result in movie[\"score_scheme_results\"]:\\n            f.write(\"{},{},{},{},{},{},{},{},{},{},{},{}\".format(\\n                movie[\"uniqueID\"],\\n                movie_name,\\n                result[\"video_url\"],\\n                result[\"video_title\"],\\n                result[\"channel\"],\\n                result[\"score\"],\\n                result[\"id\"],\\n                \"\",\\n                \"\",\\n                result[\"days_diff\"],\\n                0,\\n                1\\n            ))\\n            f.write(\"\\r\\n\")\\n        f.write(\",,,,,,,,,,,\")\\n        f.write(\"\\r\\n\")\\n\\n    for movie in movies_that_need_scrape:\\n        movie_name = movie[\"movie_name\"].replace(\",\", \"\")\\n        f.write(\"{},{},{},{},{},{},{},{},{},{},{},{}\".format(\\n                movie[\"uniqueID\"],\\n                movie_name,\\n                None,\\n                None,\\n                None,\\n                None,\\n                None,\\n                \"\",\\n                \"\",\\n                None,\\n                0,\\n                1\\n            ))\\n        f.write(\"\\r\\n\")\\n        f.write(\",,,,,,,,,,,\")\\n        f.write(\"\\r\\n\")\\n'"
     },
     "execution_count": 349,
     "metadata": {},
     "output_type": "execute_result"
    }
   ],
   "source": [
    "\"\"\"\n",
    "with open(\"./new_score_scheme.csv\", \"a\") as f:\n",
    "    for movie in movies_that_may_dont_need_scrape:\n",
    "        movie_name = movie[\"movie_name\"].replace(\",\", \"\")\n",
    "        for result in movie[\"score_scheme_results\"]:\n",
    "            f.write(\"{},{},{},{},{},{},{},{},{},{},{},{}\".format(\n",
    "                movie[\"uniqueID\"],\n",
    "                movie_name,\n",
    "                result[\"video_url\"],\n",
    "                result[\"video_title\"],\n",
    "                result[\"channel\"],\n",
    "                result[\"score\"],\n",
    "                result[\"id\"],\n",
    "                \"\",\n",
    "                \"\",\n",
    "                result[\"days_diff\"],\n",
    "                0,\n",
    "                1\n",
    "            ))\n",
    "            f.write(\"\\r\\n\")\n",
    "        f.write(\",,,,,,,,,,,\")\n",
    "        f.write(\"\\r\\n\")\n",
    "\n",
    "    for movie in movies_that_need_scrape:\n",
    "        movie_name = movie[\"movie_name\"].replace(\",\", \"\")\n",
    "        f.write(\"{},{},{},{},{},{},{},{},{},{},{},{}\".format(\n",
    "                movie[\"uniqueID\"],\n",
    "                movie_name,\n",
    "                None,\n",
    "                None,\n",
    "                None,\n",
    "                None,\n",
    "                None,\n",
    "                \"\",\n",
    "                \"\",\n",
    "                None,\n",
    "                0,\n",
    "                1\n",
    "            ))\n",
    "        f.write(\"\\r\\n\")\n",
    "        f.write(\",,,,,,,,,,,\")\n",
    "        f.write(\"\\r\\n\")\n",
    "\"\"\""
   ],
   "metadata": {
    "collapsed": false,
    "pycharm": {
     "name": "#%%\n"
    }
   }
  },
  {
   "cell_type": "code",
   "execution_count": 350,
   "outputs": [],
   "source": [
    "exclude_channels = []\n",
    "with open(\"Hand_Excluded_Channels.csv\") as f:\n",
    "  reader = csv.reader(f)\n",
    "  lst = reader\n",
    "  for item in lst:\n",
    "    exclude_channels.append(item[0])\n",
    "\n",
    "with open(\"Programmatically_Excluded_Channels.csv\") as f:\n",
    "  reader = csv.reader(f)\n",
    "  lst = reader\n",
    "  for item in lst:\n",
    "    exclude_channels.append(item[0])\n"
   ],
   "metadata": {
    "collapsed": false,
    "pycharm": {
     "name": "#%%\n"
    }
   }
  },
  {
   "cell_type": "code",
   "execution_count": 351,
   "outputs": [],
   "source": [
    "import re\n",
    "def translate(to_translate):\n",
    "\t\ttabin = u'áéíóú'\n",
    "\t\ttabout = u'aeiou'\n",
    "\t\ttabin = [ord(char) for char in tabin]\n",
    "\t\ttranslate_table = dict(zip(tabin, tabout))\n",
    "\t\treturn to_translate.translate(translate_table)\n",
    "\n",
    "def remove_non_alphanumeric(result):\n",
    "  return re.sub(r'[^a-zA-Z0-9]', '', result)\n",
    "\n",
    "def normalize(token):\n",
    "\t\tresult = token.lower()\n",
    "\t\tresult = translate(result)\n",
    "\t\tresult = remove_non_alphanumeric(result)\n",
    "\t\treturn result\n",
    "\n",
    "def score(title_tokens, channel_tokens, query_tokens):\n",
    "  normalized_title_tokens = []\n",
    "  for title_token in title_tokens:\n",
    "    normalized_title_token = normalize(title_token)\n",
    "    if len(normalized_title_token) > 1:\n",
    "      normalized_title_tokens.append(normalized_title_token)\n",
    "\n",
    "  normalized_channel_tokens = []\n",
    "  for channel_token in channel_tokens:\n",
    "    normalized_channel_tokens.append(normalize(channel_token))\n",
    "\n",
    "  normalized_query_tokens = []\n",
    "  for query_token in query_tokens:\n",
    "    normalized_query_token = normalize(query_token)\n",
    "    if len(normalized_query_token) > 1:\n",
    "      normalized_query_tokens.append(normalized_query_token)\n",
    "\n",
    "  matches = 0\n",
    "  for normalized_query_token in normalized_query_tokens:\n",
    "    if normalized_query_token in normalized_title_tokens:\n",
    "      matches += 1\n",
    "  score = matches / len(normalized_query_tokens)\n",
    "  return score"
   ],
   "metadata": {
    "collapsed": false,
    "pycharm": {
     "name": "#%%\n"
    }
   }
  },
  {
   "cell_type": "code",
   "execution_count": 352,
   "outputs": [],
   "source": [
    "with open(\"./new_score_scheme.csv\", \"a\") as f:\n",
    "    for movie in movies_that_may_dont_need_scrape:\n",
    "        movie_name = movie[\"movie_name\"].replace(\",\", \"\")\n",
    "\n",
    "        candidates = []\n",
    "\n",
    "        anterior_query_results = []\n",
    "        for query_result in movie[\"query_results\"]:\n",
    "            title, channel, video_id, result_date_str, premiered, stream, subscribers, views, likes = query_result\n",
    "            query_result.append(days_diff(result_date_str, movie[\"release_start\"]))\n",
    "            if days_diff(result_date_str, movie[\"release_start\"]) < 0:\n",
    "                anterior_query_results.append(query_result)\n",
    "\n",
    "        candidates = anterior_query_results\n",
    "\n",
    "        #exclude_channels_results = []\n",
    "        #for anterior_query_result in anterior_query_results:\n",
    "        #    title, channel, video_id, result_date_str, premiered, stream, subscribers, views, likes, days_diff_value = anterior_query_result\n",
    "        #    if channel.lower() not in exclude_channels:\n",
    "        #        exclude_channels_results.append(anterior_query_result)\n",
    "\n",
    "        #candidates = exclude_channels_results\n",
    "        #if exclude_channels_results == []:\n",
    "        #    candidates = anterior_query_results\n",
    "\n",
    "        if candidates == []:\n",
    "            print(\"Error\")\n",
    "\n",
    "        for result in candidates:\n",
    "            title, channel, video_id, result_date_str, premiered, stream, subscribers, views, likes, days_diff_value = result\n",
    "\n",
    "            youtube_url = \"https://www.youtube.com/watch?v={}\".format(video_id)\n",
    "\n",
    "            title = title.replace(\",\", \"\")\n",
    "            channel = channel.replace(\",\", \"\")\n",
    "\n",
    "            channel_tokens = channel.split(\" \")\n",
    "            title_tokens = title.split(\" \")\n",
    "            query_tokens = \"{} official trailer\".format(movie[\"movie_name\"]).split()\n",
    "            score_result = score(channel_tokens=channel_tokens, query_tokens=query_tokens, title_tokens=title_tokens)\n",
    "\n",
    "            f.write(\"{},{},{},{},{},{},{},{},{},{},{},{}\".format(\n",
    "                movie[\"uniqueID\"],\n",
    "                movie_name,\n",
    "                youtube_url,\n",
    "                title,\n",
    "                channel,\n",
    "                score_result,\n",
    "                0,\n",
    "                \"\",\n",
    "                \"\",\n",
    "                days_diff_value,\n",
    "                0,\n",
    "                1\n",
    "            ))\n",
    "            f.write(\"\\r\\n\")\n",
    "        f.write(\",,,,,,,,,,,\")\n",
    "        f.write(\"\\r\\n\")\n"
   ],
   "metadata": {
    "collapsed": false,
    "pycharm": {
     "name": "#%%\n"
    }
   }
  },
  {
   "cell_type": "code",
   "execution_count": 353,
   "outputs": [],
   "source": [
    "with open(\"./new_score_scheme.csv\", \"a\") as f:\n",
    "    for movie in movies_that_need_scrape:\n",
    "        movie_name = movie[\"movie_name\"].replace(\",\", \"\")\n",
    "\n",
    "        candidates = []\n",
    "\n",
    "        anterior_query_results = []\n",
    "        for query_result in movie[\"query_results\"]:\n",
    "            title, channel, video_id, result_date_str, premiered, stream, subscribers, views, likes = query_result\n",
    "            query_result.append(days_diff(result_date_str, movie[\"release_start\"]))\n",
    "            if days_diff(result_date_str, movie[\"release_start\"]) < 0:\n",
    "                anterior_query_results.append(query_result)\n",
    "\n",
    "        candidates = anterior_query_results\n",
    "\n",
    "        #exclude_channels_results = []\n",
    "        #for anterior_query_result in anterior_query_results:\n",
    "        #    title, channel, video_id, result_date_str, premiered, stream, subscribers, views, likes, days_diff_value = anterior_query_result\n",
    "        #    if channel.lower() not in exclude_channels:\n",
    "        #        exclude_channels_results.append(anterior_query_result)\n",
    "\n",
    "        #candidates = exclude_channels_results\n",
    "        #if exclude_channels_results == []:\n",
    "        #    candidates = anterior_query_results\n",
    "\n",
    "        if candidates == []:\n",
    "            print(\"Error\")\n",
    "\n",
    "        for result in candidates:\n",
    "            title, channel, video_id, result_date_str, premiered, stream, subscribers, views, likes, days_diff_value = result\n",
    "\n",
    "            youtube_url = \"https://www.youtube.com/watch?v={}\".format(video_id)\n",
    "\n",
    "            title = title.replace(\",\", \"\")\n",
    "            channel = channel.replace(\",\", \"\")\n",
    "\n",
    "            channel_tokens = channel.split(\" \")\n",
    "            title_tokens = title.split(\" \")\n",
    "            query_tokens = \"{} official trailer\".format(movie[\"movie_name\"]).split()\n",
    "            score_result = score(channel_tokens=channel_tokens, query_tokens=query_tokens, title_tokens=title_tokens)\n",
    "\n",
    "            f.write(\"{},{},{},{},{},{},{},{},{},{},{},{}\".format(\n",
    "                movie[\"uniqueID\"],\n",
    "                movie_name,\n",
    "                youtube_url,\n",
    "                title,\n",
    "                channel,\n",
    "                score_result,\n",
    "                0,\n",
    "                \"\",\n",
    "                \"\",\n",
    "                days_diff_value,\n",
    "                0,\n",
    "                1\n",
    "            ))\n",
    "            f.write(\"\\r\\n\")\n",
    "        f.write(\",,,,,,,,,,,\")\n",
    "        f.write(\"\\r\\n\")\n"
   ],
   "metadata": {
    "collapsed": false,
    "pycharm": {
     "name": "#%%\n"
    }
   }
  }
 ],
 "metadata": {
  "colab": {
   "provenance": []
  },
  "kernelspec": {
   "display_name": "Python 3 (ipykernel)",
   "language": "python",
   "name": "python3"
  },
  "language_info": {
   "codemirror_mode": {
    "name": "ipython",
    "version": 3
   },
   "file_extension": ".py",
   "mimetype": "text/x-python",
   "name": "python",
   "nbconvert_exporter": "python",
   "pygments_lexer": "ipython3",
   "version": "3.10.6"
  }
 },
 "nbformat": 4,
 "nbformat_minor": 1
}