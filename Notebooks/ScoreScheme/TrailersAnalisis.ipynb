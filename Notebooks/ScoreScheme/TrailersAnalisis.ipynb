{
 "cells": [
  {
   "cell_type": "markdown",
   "metadata": {
    "id": "Glpq9VU6mZbk",
    "pycharm": {
     "name": "#%% md\n"
    }
   },
   "source": [
    "# Reading Movies"
   ]
  },
  {
   "cell_type": "code",
   "execution_count": 58,
   "metadata": {
    "id": "vnk-yese9cPk",
    "pycharm": {
     "name": "#%%\n"
    }
   },
   "outputs": [],
   "source": [
    "import ast\n",
    "import csv\n",
    "movies = []\n",
    "with open('Output.csv') as f:\n",
    "    reader = csv.reader(f)\n",
    "    first_read = True\n",
    "    list_of_column_names = []\n",
    "    \n",
    "    for item in reader:\n",
    "        if first_read:\n",
    "            list_of_column_names.extend(item)\n",
    "            first_read = False\n",
    "            continue\n",
    "            \n",
    "        movie = {}\n",
    "        for value, column_name in zip(item, list_of_column_names):\n",
    "            movie[column_name] = value\n",
    "            \n",
    "        movie[\"query_results\"] = ast.literal_eval(movie[\"query_results\"])\n",
    "        movie[\"top_10_results\"] = movie[\"query_results\"][:10]\n",
    "        movies.append(movie)\n",
    "        #print(movie)\n",
    "\n",
    "exclude_channels = []\n",
    "with open(\"Hand_Excluded_Channels.csv\") as f:\n",
    "  reader = csv.reader(f)\n",
    "  lst = reader\n",
    "  for item in lst:\n",
    "    exclude_channels.append(item[0])\n",
    "\n",
    "with open(\"Programmatically_Excluded_Channels.csv\") as f:\n",
    "  reader = csv.reader(f)\n",
    "  lst = reader\n",
    "  for item in lst:\n",
    "    exclude_channels.append(item[0])\n",
    "\n",
    "known_channels = []\n",
    "with open(\"Hand_Known_Channels.csv\") as f:\n",
    "  reader = csv.reader(f)\n",
    "  lst = reader\n",
    "  for item in lst:\n",
    "    known_channels.append(item[0])\n",
    "\n",
    "\n"
   ]
  },
  {
   "cell_type": "code",
   "execution_count": 59,
   "metadata": {
    "colab": {
     "base_uri": "https://localhost:8080/"
    },
    "id": "0xdWtoRA_pGS",
    "outputId": "1b2797a7-17d5-4216-f531-b175fc236d32",
    "pycharm": {
     "name": "#%%\n"
    }
   },
   "outputs": [
    {
     "data": {
      "text/plain": "1967"
     },
     "execution_count": 59,
     "metadata": {},
     "output_type": "execute_result"
    }
   ],
   "source": [
    "len(movies)"
   ]
  },
  {
   "cell_type": "code",
   "execution_count": 60,
   "metadata": {
    "id": "ZmTpbur3AkJX",
    "pycharm": {
     "name": "#%%\n"
    }
   },
   "outputs": [],
   "source": [
    "import re\n",
    "def translate(to_translate):\n",
    "\t\ttabin = u'áéíóú'\n",
    "\t\ttabout = u'aeiou'\n",
    "\t\ttabin = [ord(char) for char in tabin]\n",
    "\t\ttranslate_table = dict(zip(tabin, tabout))\n",
    "\t\treturn to_translate.translate(translate_table)\n",
    "\n",
    "def remove_non_alphanumeric(result):\n",
    "  return re.sub(r'[^a-zA-Z0-9]', '', result)\n",
    "\n",
    "def normalize(token):\n",
    "\t\tresult = token.lower()\n",
    "\t\tresult = translate(result)\n",
    "\t\tresult = remove_non_alphanumeric(result)\n",
    "\t\treturn result"
   ]
  },
  {
   "cell_type": "code",
   "execution_count": 61,
   "metadata": {
    "id": "NSdfz_yNEGpP",
    "pycharm": {
     "name": "#%%\n"
    }
   },
   "outputs": [],
   "source": [
    "from datetime import date\n",
    "\n",
    "def diff_dates(date1, date2):\n",
    "  return abs(date2 - date1).days\n",
    "\n",
    "\n",
    "def anterior(date1, date2):\n",
    "  return (date2 - date1).days >= 0\n",
    "\n",
    "def remove_results_by_date(release_start, query_results):\n",
    "        anterior_query_results = []\n",
    "        for query_result in query_results:\n",
    "            title, channel, video_id, result_date_str, premiered, stream, subscribers, views, likes = query_result\n",
    "\n",
    "            if release_start == None or result_date_str == None or release_start == \"\" or result_date_str == \"\":\n",
    "                is_anterior = True\n",
    "            else:\n",
    "                #print(\"{} {}\".format(repr(release_start), result_date_str))\n",
    "                movie_moth, movie_day, movie_year = release_start.split(\"/\")\n",
    "                result_moth, result_day, result_year = result_date_str.split(\"/\")\n",
    "                movie_date = date(int(movie_year), int(movie_moth), int(movie_day))\n",
    "                result_date = date(int(result_year), int(result_moth), int(result_day))\n",
    "                is_anterior = anterior(result_date, movie_date)\n",
    "\n",
    "            #self.logger.debug(\"Movie Date {},  Result Date {}, Diff {} Result Date Is Anterior? {}\".format(release_start, result_date_str, diff_dates(movie_date, result_date), is_anterior))\n",
    "\n",
    "            if is_anterior:\n",
    "                anterior_query_results.append(query_result)\n",
    "        return anterior_query_results"
   ]
  },
  {
   "cell_type": "code",
   "execution_count": 62,
   "metadata": {
    "id": "dt2AvSlBZb39",
    "pycharm": {
     "name": "#%%\n"
    }
   },
   "outputs": [],
   "source": [
    "def remove_results_by_channel(distributor, ampliated_top_k):\n",
    "  results = []\n",
    "  for result in ampliated_top_k:\n",
    "    if result[1].lower() in known_channels:\n",
    "      results.append(result)\n",
    "\n",
    "  #if distributor == \"Universal Pictures Distributor\": ##To Do\n",
    "    #return get_results_from_channel()\n",
    "\n",
    "  return results\n",
    "\n",
    "def exclude_by_channel(ampliated_top_k):\n",
    "  results = []\n",
    "  for result in ampliated_top_k:\n",
    "    if result[1].lower() not in exclude_channels:\n",
    "      results.append(result)\n",
    "  return results\n",
    "  "
   ]
  },
  {
   "cell_type": "code",
   "execution_count": 63,
   "metadata": {
    "id": "V7JWV_fy8hfv",
    "pycharm": {
     "name": "#%%\n"
    }
   },
   "outputs": [],
   "source": [
    "def score(title_tokens, channel_tokens, query_tokens):\n",
    "  normalized_title_tokens = []\n",
    "  for title_token in title_tokens:\n",
    "    normalized_title_token = normalize(title_token)\n",
    "    if len(normalized_title_token) > 1:\n",
    "      normalized_title_tokens.append(normalized_title_token)\n",
    "\n",
    "  normalized_channel_tokens = []\n",
    "  for channel_token in channel_tokens:\n",
    "    normalized_channel_tokens.append(normalize(channel_token))\n",
    "\n",
    "  normalized_query_tokens = []\n",
    "  for query_token in query_tokens:\n",
    "    normalized_query_token = normalize(query_token)\n",
    "    if len(normalized_query_token) > 1:\n",
    "      normalized_query_tokens.append(normalized_query_token)\n",
    "      \n",
    "  matches = 0\n",
    "  for normalized_query_token in normalized_query_tokens:\n",
    "    if normalized_query_token in normalized_title_tokens:\n",
    "      matches += 1\n",
    "  score = matches / len(normalized_query_tokens)\n",
    "  return score"
   ]
  },
  {
   "cell_type": "code",
   "execution_count": 64,
   "metadata": {
    "id": "uai_rWFxexCY",
    "pycharm": {
     "name": "#%%\n"
    }
   },
   "outputs": [
    {
     "data": {
      "text/plain": "'for movie in movies:\\n  scored_trailers = []\\n\\n  channel_excluded_results = exclude_by_channel(movie[\"top_10_results\"])\\n\\n  movie[\"anterior_channel_excluded_results\"] = remove_results_by_date(movie[\"release_start\"], channel_excluded_results)\\n\\n  movie[\"known_channel_results\"] = remove_results_by_channel(movie[\"distributor\"], movie[\"anterior_channel_excluded_results\"]) #OPTION 1\\n\\n  results = movie[\"known_channel_results\"]\\n\\n  if results == []:\\n    results = movie[\"anterior_channel_excluded_results\"]\\n\\n  for trailer_primary_result in results:\\n    title, channel, video_id, video_date, premiered, stream, subscribers, views, likes = trailer_primary_result\\n\\n    if premiered or stream:\\n      continue\\n\\n    title_tokens = title.split(\" \")\\n    channel_tokens = channel.split(\" \")\\n    query_tokens = query_tokens = \"{} official trailer\".format(movie[\"movie_name\"]).split()\\n\\n    score_result = score(title_tokens, channel_tokens, query_tokens)\\n    \\n\\n    scored_trailers.append([title, channel, video_id, video_date, premiered, stream, subscribers, views, likes, score_result])\\n  movie[\"scored_trailers\"] = scored_trailers'"
     },
     "execution_count": 64,
     "metadata": {},
     "output_type": "execute_result"
    }
   ],
   "source": [
    "  \"\"\"for movie in movies:\n",
    "    scored_trailers = []\n",
    "\n",
    "    channel_excluded_results = exclude_by_channel(movie[\"top_10_results\"])\n",
    "\n",
    "    movie[\"anterior_channel_excluded_results\"] = remove_results_by_date(movie[\"release_start\"], channel_excluded_results)\n",
    "\n",
    "    movie[\"known_channel_results\"] = remove_results_by_channel(movie[\"distributor\"], movie[\"anterior_channel_excluded_results\"]) #OPTION 1\n",
    "\n",
    "    results = movie[\"known_channel_results\"]\n",
    "\n",
    "    if results == []:\n",
    "      results = movie[\"anterior_channel_excluded_results\"]\n",
    "\n",
    "    for trailer_primary_result in results:\n",
    "      title, channel, video_id, video_date, premiered, stream, subscribers, views, likes = trailer_primary_result\n",
    "\n",
    "      if premiered or stream:\n",
    "        continue\n",
    "\n",
    "      title_tokens = title.split(\" \")\n",
    "      channel_tokens = channel.split(\" \")\n",
    "      query_tokens = query_tokens = \"{} official trailer\".format(movie[\"movie_name\"]).split()\n",
    "\n",
    "      score_result = score(title_tokens, channel_tokens, query_tokens)\n",
    "      \n",
    "\n",
    "      scored_trailers.append([title, channel, video_id, video_date, premiered, stream, subscribers, views, likes, score_result])\n",
    "    movie[\"scored_trailers\"] = scored_trailers\"\"\"\n"
   ]
  },
  {
   "cell_type": "markdown",
   "metadata": {
    "id": "9-8ozgY_YXXr",
    "pycharm": {
     "name": "#%% md\n"
    }
   },
   "source": [
    "# Creating manual file\n"
   ]
  },
  {
   "cell_type": "code",
   "execution_count": 65,
   "metadata": {
    "id": "tkt80cH0Y_2j",
    "pycharm": {
     "name": "#%%\n"
    }
   },
   "outputs": [
    {
     "data": {
      "text/plain": "'with open(\"score_scheme.csv\", \"w\") as f:\\n  f.write(\"movie_name,video_url,video_title,channel,score,id,official_trailer,known_channels_used\")\\n  f.write(\"\\r\\n\")\\n  for movie in movies:\\n    if movie[\"no_prerelease\"] == \\'0\\':\\n      if movie[\"scored_trailers\"] == []:\\n        movie_name = movie[\"movie_name\"].replace(\",\",\"\")\\n        f.write(\"{},{},{},{},{},{},{},{}\".format(movie_name, None, None, None, None, None, None, None))\\n        f.write(\"\\r\\n\")\\n\\n      counter = 1\\n      for trailer in movie[\"scored_trailers\"]:\\n        title, channel, video_id, video_date, premiered, stream, subscribers, views, likes, score_result = trailer\\n        youtube_url = \"https://www.youtube.com/watch?v={}\".format(video_id)\\n        movie_name = movie[\"movie_name\"].replace(\",\",\"\")\\n        title = title.replace(\",\",\"\")\\n        channel = channel.replace(\",\",\"\")\\n        official_trailer = 0\\n        if score_result >= 0.75:\\n          official_trailer = 1\\n\\n        score_result = str(round(score_result, 2))\\n        \\n        kwnown_channels_used = 0\\n        if movie[\"known_channel_results\"] != []:\\n          kwnown_channels_used = 1\\n        f.write(\"{},{},{},{},{},{},{},{}\".format(movie_name, youtube_url, title, channel, score_result, counter, official_trailer, kwnown_channels_used))\\n        f.write(\"\\r\\n\")\\n        counter += 1\\n      f.write(\",,,,,,,\")\\n      f.write(\"\\r\\n\")'"
     },
     "execution_count": 65,
     "metadata": {},
     "output_type": "execute_result"
    }
   ],
   "source": [
    "\"\"\"with open(\"score_scheme.csv\", \"w\") as f:\n",
    "  f.write(\"movie_name,video_url,video_title,channel,score,id,official_trailer,known_channels_used\")\n",
    "  f.write(\"\\r\\n\")\n",
    "  for movie in movies:\n",
    "    if movie[\"no_prerelease\"] == '0':\n",
    "      if movie[\"scored_trailers\"] == []:\n",
    "        movie_name = movie[\"movie_name\"].replace(\",\",\"\")\n",
    "        f.write(\"{},{},{},{},{},{},{},{}\".format(movie_name, None, None, None, None, None, None, None))\n",
    "        f.write(\"\\r\\n\")\n",
    "\n",
    "      counter = 1\n",
    "      for trailer in movie[\"scored_trailers\"]:\n",
    "        title, channel, video_id, video_date, premiered, stream, subscribers, views, likes, score_result = trailer\n",
    "        youtube_url = \"https://www.youtube.com/watch?v={}\".format(video_id)\n",
    "        movie_name = movie[\"movie_name\"].replace(\",\",\"\")\n",
    "        title = title.replace(\",\",\"\")\n",
    "        channel = channel.replace(\",\",\"\")\n",
    "        official_trailer = 0\n",
    "        if score_result >= 0.75:\n",
    "          official_trailer = 1\n",
    "\n",
    "        score_result = str(round(score_result, 2))\n",
    "        \n",
    "        kwnown_channels_used = 0\n",
    "        if movie[\"known_channel_results\"] != []:\n",
    "          kwnown_channels_used = 1\n",
    "        f.write(\"{},{},{},{},{},{},{},{}\".format(movie_name, youtube_url, title, channel, score_result, counter, official_trailer, kwnown_channels_used))\n",
    "        f.write(\"\\r\\n\")\n",
    "        counter += 1\n",
    "      f.write(\",,,,,,,\")\n",
    "      f.write(\"\\r\\n\")\"\"\""
   ]
  },
  {
   "cell_type": "markdown",
   "metadata": {
    "id": "y5Imm7ZYdfep",
    "pycharm": {
     "name": "#%% md\n"
    }
   },
   "source": [
    "# Creating Debug Files\n",
    "\n",
    "# Top 10 > Filter Date"
   ]
  },
  {
   "cell_type": "code",
   "execution_count": 66,
   "metadata": {
    "colab": {
     "base_uri": "https://localhost:8080/"
    },
    "id": "lciPF62sdjuK",
    "outputId": "cb45542d-4c45-484f-ebfc-1b2519327b53",
    "pycharm": {
     "name": "#%%\n"
    }
   },
   "outputs": [],
   "source": [
    "with open(\"./Debug_Files/query_results.csv\", \"w\") as f:\n",
    "    f.write(\"uniqueID,movie_name,video_url,video_title,channel,score,days_diff,no_prerelease\")\n",
    "    f.write(\"\\r\\n\")\n",
    "    for movie in movies:\n",
    "        query_tokens = \"{} official trailer\".format(movie[\"movie_name\"]).split()\n",
    "        for result in movie[\"query_results\"]:\n",
    "            title, channel, video_id, video_date, premiered, stream, subscribers, views, likes = result\n",
    "\n",
    "            youtube_url = \"https://www.youtube.com/watch?v={}\".format(video_id)\n",
    "            movie_name = movie[\"movie_name\"].replace(\",\", \"\")\n",
    "            title = title.replace(\",\", \"\")\n",
    "            channel = channel.replace(\",\", \"\")\n",
    "\n",
    "            channel_tokens = channel.split(\" \")\n",
    "            title_tokens = title.split(\" \")\n",
    "            score_result = score(channel_tokens=channel_tokens, query_tokens=query_tokens, title_tokens=title_tokens)\n",
    "\n",
    "            try:\n",
    "                movie_moth, movie_day, movie_year = movie[\"release_start\"].split(\"/\")\n",
    "                result_moth, result_day, result_year = video_date.split(\"/\")\n",
    "                movie_date = date(int(movie_year), int(movie_moth), int(movie_day))\n",
    "                result_date = date(int(result_year), int(result_moth), int(result_day))\n",
    "                days_diff_video_movie = (result_date - movie_date).days\n",
    "            except Exception as e:\n",
    "                days_diff_video_movie = 1\n",
    "\n",
    "            f.write(\"{},{},{},{},{},{},{},{}\".format(movie[\"uniqueID\"], movie_name, youtube_url, title, channel,\n",
    "                                                        score_result, days_diff_video_movie, movie[\"no_prerelease\"]))\n",
    "            f.write(\"\\r\\n\")\n",
    "\n",
    "        f.write(\",,,,,,,,\")\n",
    "        f.write(\"\\r\\n\")"
   ]
  },
  {
   "cell_type": "code",
   "execution_count": 67,
   "metadata": {
    "pycharm": {
     "name": "#%%\n"
    }
   },
   "outputs": [],
   "source": [
    "with open(\"./Debug_Files/date_filtered.csv\", \"w\") as f:\n",
    "    f.write(\"uniqueID,movie_name,video_url,video_title,channel,score,days_diff\")\n",
    "    f.write(\"\\r\\n\")\n",
    "    date_movies = []\n",
    "    for movie in movies:\n",
    "        if movie[\"no_prerelease\"] == \"1\":\n",
    "            continue\n",
    "        results = []\n",
    "\n",
    "        query_tokens = \"{} official trailer\".format(movie[\"movie_name\"]).split()\n",
    "\n",
    "        for result in movie[\"query_results\"]:\n",
    "            title, channel, video_id, video_date, premiered, stream, subscribers, views, likes = result\n",
    "\n",
    "            try:\n",
    "                movie_moth, movie_day, movie_year = movie[\"release_start\"].split(\"/\")\n",
    "                result_moth, result_day, result_year = video_date.split(\"/\")\n",
    "                movie_date = date(int(movie_year), int(movie_moth), int(movie_day))\n",
    "                result_date = date(int(result_year), int(result_moth), int(result_day))\n",
    "                days_diff_video_movie = (result_date - movie_date).days\n",
    "            except Exception as e:\n",
    "                days_diff_video_movie = 1\n",
    "\n",
    "            if days_diff_video_movie >= 0:\n",
    "                continue\n",
    "\n",
    "            youtube_url = \"https://www.youtube.com/watch?v={}\".format(video_id)\n",
    "            movie_name = movie[\"movie_name\"].replace(\",\", \"\")\n",
    "            title = title.replace(\",\", \"\")\n",
    "            channel = channel.replace(\",\", \"\")\n",
    "\n",
    "            channel_tokens = channel.split(\" \")\n",
    "            title_tokens = title.split(\" \")\n",
    "            score_result = score(channel_tokens=channel_tokens, query_tokens=query_tokens, title_tokens=title_tokens)\n",
    "\n",
    "            f.write(\"{},{},{},{},{},{},{}\".format(movie[\"uniqueID\"], movie_name, youtube_url, title, channel, score_result, days_diff_video_movie))\n",
    "            f.write(\"\\r\\n\")\n",
    "            results.append([youtube_url, title, channel, score_result, days_diff_video_movie])\n",
    "\n",
    "        movie[\"date_filtered_results\"] = results\n",
    "        date_movies.append(movie)\n",
    "        f.write(\",,,,,,,\")\n",
    "        f.write(\"\\r\\n\")"
   ]
  },
  {
   "cell_type": "code",
   "execution_count": 68,
   "outputs": [],
   "source": [
    "with open(\"./Debug_Files/date_filtered_top_10.csv\", \"w\") as f:\n",
    "    f.write(\"uniqueID,movie_name,video_url,video_title,channel,score,days_diff\")\n",
    "    f.write(\"\\r\\n\")\n",
    "    top_movies = []\n",
    "    for movie in date_movies:\n",
    "        movie_name = movie[\"movie_name\"].replace(\",\", \"\")\n",
    "\n",
    "        for result in movie[\"date_filtered_results\"][:10]:\n",
    "            youtube_url, title, channel, score_result, days_diff_video_movie = result\n",
    "\n",
    "            f.write(\"{},{},{},{},{},{},{}\".format(movie[\"uniqueID\"], movie_name, youtube_url, title, channel, score_result, days_diff_video_movie))\n",
    "            f.write(\"\\r\\n\")\n",
    "\n",
    "        movie[\"top_10\"] = movie[\"date_filtered_results\"][:10]\n",
    "        top_movies.append(movie)\n",
    "\n",
    "        f.write(\",,,,,,,\")\n",
    "        f.write(\"\\r\\n\")"
   ],
   "metadata": {
    "collapsed": false,
    "pycharm": {
     "name": "#%%\n"
    }
   }
  },
  {
   "cell_type": "code",
   "execution_count": 69,
   "outputs": [],
   "source": [
    "with open(\"./Debug_Files/date_filtered_top_10_channel_excluded.csv\", \"w\") as f:\n",
    "    f.write(\"uniqueID,movie_name,video_url,video_title,channel,score,days_diff\")\n",
    "    f.write(\"\\r\\n\")\n",
    "    channel_movies = []\n",
    "    for movie in top_movies:\n",
    "        results = []\n",
    "        movie_name = movie[\"movie_name\"].replace(\",\", \"\")\n",
    "\n",
    "        for result in movie[\"top_10\"]:\n",
    "            youtube_url, title, channel, score_result, days_diff_video_movie = result\n",
    "\n",
    "            if channel.lower() in exclude_channels:\n",
    "                continue\n",
    "\n",
    "            f.write(\"{},{},{},{},{},{},{}\".format(movie[\"uniqueID\"], movie_name, youtube_url, title, channel, score_result, days_diff_video_movie))\n",
    "            f.write(\"\\r\\n\")\n",
    "            results.append([youtube_url, title, channel, score_result, days_diff_video_movie])\n",
    "\n",
    "        movie[\"channel_excluded_results\"] = results\n",
    "        channel_movies.append(movie)\n",
    "\n",
    "        if len(results) == 0:\n",
    "            movie_name = movie[\"movie_name\"].replace(\",\",\"\")\n",
    "            f.write(\"{},{},{},{},{},{},{}\".format(movie[\"uniqueID\"], movie_name, None, None, None, None, None))\n",
    "            f.write(\"\\r\\n\")\n",
    "        f.write(\",,,,,,,\")\n",
    "        f.write(\"\\r\\n\")"
   ],
   "metadata": {
    "collapsed": false,
    "pycharm": {
     "name": "#%%\n"
    }
   }
  },
  {
   "cell_type": "markdown",
   "source": [
    "Another Creating Debug Files\n"
   ],
   "metadata": {
    "collapsed": false,
    "pycharm": {
     "name": "#%% md\n"
    }
   }
  },
  {
   "cell_type": "code",
   "execution_count": 41,
   "outputs": [],
   "source": [
    "import csv\n",
    "\n",
    "with open(\"./Debug_Files/date_filtered_top_10_channel_excluded.csv\", \"r\") as f:\n",
    "    channel_excluded = []\n",
    "    reader = csv.reader(f)\n",
    "    first_read = True\n",
    "    list_of_column_names = []\n",
    "\n",
    "    for item in reader:\n",
    "        if first_read:\n",
    "            list_of_column_names.extend(item)\n",
    "            first_read = False\n",
    "            continue\n",
    "        if item[0] == \"\" or item[2] == 'None':\n",
    "            continue\n",
    "        movie = {}\n",
    "        for value, column_name in zip(item, list_of_column_names):\n",
    "            movie[column_name] = value\n",
    "        channel_excluded.append(movie)"
   ],
   "metadata": {
    "collapsed": false,
    "pycharm": {
     "name": "#%%\n"
    }
   }
  },
  {
   "cell_type": "code",
   "execution_count": 42,
   "outputs": [],
   "source": [
    "uniqueIDS = []\n",
    "for movie in channel_excluded:\n",
    "    try:\n",
    "        if int(movie[\"days_diff\"]) <= -365:\n",
    "            if movie[\"uniqueID\"] not in uniqueIDS:\n",
    "                uniqueIDS.append(movie[\"uniqueID\"])\n",
    "    except Exception as e:\n",
    "        print(movie)\n",
    "        #print(movie[\"uniqueID\"])"
   ],
   "metadata": {
    "collapsed": false,
    "pycharm": {
     "name": "#%%\n"
    }
   }
  },
  {
   "cell_type": "code",
   "execution_count": 43,
   "outputs": [
    {
     "data": {
      "text/plain": "327"
     },
     "execution_count": 43,
     "metadata": {},
     "output_type": "execute_result"
    }
   ],
   "source": [
    "len(uniqueIDS)"
   ],
   "metadata": {
    "collapsed": false,
    "pycharm": {
     "name": "#%%\n"
    }
   }
  },
  {
   "cell_type": "code",
   "execution_count": 164,
   "outputs": [
    {
     "data": {
      "text/plain": "['3',\n '8',\n '15',\n '19',\n '26',\n '27',\n '35',\n '36',\n '37',\n '41',\n '44',\n '51',\n '55',\n '59',\n '60',\n '61',\n '72',\n '82',\n '84',\n '87',\n '100',\n '102',\n '103',\n '104',\n '105',\n '113',\n '126',\n '128',\n '138',\n '150',\n '155',\n '161',\n '185',\n '191',\n '204',\n '216',\n '227',\n '234',\n '237',\n '247',\n '251',\n '286',\n '295',\n '297',\n '298',\n '304',\n '321',\n '325',\n '326',\n '327',\n '347',\n '363',\n '368',\n '371',\n '373',\n '401',\n '405',\n '434',\n '439',\n '444',\n '448',\n '451',\n '458',\n '459',\n '467',\n '469',\n '473',\n '489',\n '497',\n '498',\n '509',\n '553',\n '555',\n '569',\n '571',\n '578',\n '586',\n '598',\n '601',\n '606',\n '617',\n '623',\n '640',\n '644',\n '647',\n '664',\n '677',\n '683',\n '686',\n '711',\n '716',\n '720',\n '722',\n '726',\n '731',\n '757',\n '758',\n '762',\n '763',\n '772',\n '777',\n '784',\n '790',\n '796',\n '801',\n '808',\n '821',\n '825',\n '837',\n '871',\n '879',\n '891',\n '908',\n '914',\n '922',\n '928',\n '942',\n '956',\n '957',\n '962',\n '970',\n '1.002',\n '1.013',\n '1.016',\n '1.024',\n '1.034',\n '1.035',\n '1.036',\n '1.038',\n '1.044',\n '1.052',\n '1.054',\n '1.057',\n '1.059',\n '1.062',\n '1.065',\n '1.067',\n '1.068',\n '1.069',\n '1.075',\n '1.076',\n '1.079',\n '1.081',\n '1.084',\n '1.093',\n '1.097',\n '1.099',\n '1.106',\n '1.109',\n '1.112',\n '1.115',\n '1.117',\n '1.124',\n '1.127',\n '1.131',\n '1.132',\n '1.138',\n '1.142',\n '1.144',\n '1.148',\n '1.154',\n '1.157',\n '1.158',\n '1.159',\n '1.164',\n '1.165',\n '1.171',\n '1.172',\n '1.178',\n '1.185',\n '1.192',\n '1.195',\n '1.196',\n '1.199',\n '1.208',\n '1.214',\n '1.229',\n '1.249',\n '1.250',\n '1.274',\n '1.277',\n '1.280',\n '1.283',\n '1.284',\n '1.286',\n '1.290',\n '1.291',\n '1.294',\n '1.295',\n '1.297',\n '1.299',\n '1.302',\n '1.318',\n '1.323',\n '1.325',\n '1.326',\n '1.345',\n '1.365',\n '1.366',\n '1.381',\n '1.382',\n '1.384',\n '1.389',\n '1.396',\n '1.405',\n '1.406',\n '1.416',\n '1.451',\n '1.471',\n '1.480',\n '1.494',\n '1.496',\n '1.520',\n '1.533',\n '1.534',\n '1.543',\n '1.553',\n '1.561',\n '1.588',\n '1.600',\n '1.624',\n '1.636',\n '1.638',\n '1.645',\n '1.652',\n '1.658',\n '1.660',\n '1.663',\n '1.668',\n '1.674',\n '1.677',\n '1.678',\n '1.680',\n '1.689',\n '1.696',\n '1.718',\n '1.735',\n '1.737',\n '1.738',\n '1.746',\n '1.760',\n '1.770',\n '1.780',\n '1.781',\n '1.783',\n '1.784',\n '1.794',\n '1.796',\n '1.814',\n '1.833',\n '1.841',\n '1.848',\n '1.867',\n '1.876',\n '1.882',\n '1.893',\n '1.898',\n '1.901',\n '1.921',\n '1.972',\n '1.975',\n '1.980',\n '1.982',\n '1.996',\n '1.997']"
     },
     "execution_count": 164,
     "metadata": {},
     "output_type": "execute_result"
    }
   ],
   "source": [
    "uniqueIDS"
   ],
   "metadata": {
    "collapsed": false,
    "pycharm": {
     "name": "#%%\n"
    }
   }
  }
 ],
 "metadata": {
  "colab": {
   "provenance": []
  },
  "kernelspec": {
   "display_name": "Python 3 (ipykernel)",
   "language": "python",
   "name": "python3"
  },
  "language_info": {
   "codemirror_mode": {
    "name": "ipython",
    "version": 3
   },
   "file_extension": ".py",
   "mimetype": "text/x-python",
   "name": "python",
   "nbconvert_exporter": "python",
   "pygments_lexer": "ipython3",
   "version": "3.10.6"
  }
 },
 "nbformat": 4,
 "nbformat_minor": 1
}