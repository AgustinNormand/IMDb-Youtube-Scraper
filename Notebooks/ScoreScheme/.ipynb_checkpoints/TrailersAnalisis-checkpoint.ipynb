{
 "cells": [
  {
   "cell_type": "markdown",
   "metadata": {
    "id": "Glpq9VU6mZbk"
   },
   "source": [
    "# Reading Movies"
   ]
  },
  {
   "cell_type": "code",
   "execution_count": 11,
   "metadata": {
    "id": "vnk-yese9cPk"
   },
   "outputs": [],
   "source": [
    "import ast\n",
    "import csv\n",
    "movies = []\n",
    "with open('Output.csv') as f:\n",
    "    reader = csv.reader(f)\n",
    "    first_read = True\n",
    "    list_of_column_names = []\n",
    "    \n",
    "    for item in reader:\n",
    "        if first_read:\n",
    "            list_of_column_names.extend(item)\n",
    "            first_read = False\n",
    "            continue\n",
    "            \n",
    "        movie = {}\n",
    "        for value, column_name in zip(item, list_of_column_names):\n",
    "            movie[column_name] = value\n",
    "            \n",
    "        movie[\"query_results\"] = ast.literal_eval(movie[\"query_results\"])\n",
    "        movie[\"top_10_results\"] = movie[\"query_results\"][:10]\n",
    "        movies.append(movie)\n",
    "        #print(movie)\n",
    "\n",
    "exclude_channels = []\n",
    "with open(\"Hand_Excluded_Channels.csv\") as f:\n",
    "  reader = csv.reader(f)\n",
    "  lst = reader\n",
    "  for item in lst:\n",
    "    exclude_channels.append(item[0])\n",
    "\n",
    "with open(\"Programmatically_Excluded_Channels.csv\") as f:\n",
    "  reader = csv.reader(f)\n",
    "  lst = reader\n",
    "  for item in lst:\n",
    "    exclude_channels.append(item[0])\n",
    "\n",
    "known_channels = []\n",
    "with open(\"Hand_Known_Channels.csv\") as f:\n",
    "  reader = csv.reader(f)\n",
    "  lst = reader\n",
    "  for item in lst:\n",
    "    known_channels.append(item[0])\n",
    "\n",
    "\n"
   ]
  },
  {
   "cell_type": "code",
   "execution_count": 12,
   "metadata": {
    "colab": {
     "base_uri": "https://localhost:8080/"
    },
    "id": "0xdWtoRA_pGS",
    "outputId": "1b2797a7-17d5-4216-f531-b175fc236d32"
   },
   "outputs": [
    {
     "data": {
      "text/plain": [
       "1967"
      ]
     },
     "execution_count": 12,
     "metadata": {},
     "output_type": "execute_result"
    }
   ],
   "source": [
    "len(movies)"
   ]
  },
  {
   "cell_type": "code",
   "execution_count": 13,
   "metadata": {
    "id": "ZmTpbur3AkJX"
   },
   "outputs": [],
   "source": [
    "import re\n",
    "def translate(to_translate):\n",
    "\t\ttabin = u'áéíóú'\n",
    "\t\ttabout = u'aeiou'\n",
    "\t\ttabin = [ord(char) for char in tabin]\n",
    "\t\ttranslate_table = dict(zip(tabin, tabout))\n",
    "\t\treturn to_translate.translate(translate_table)\n",
    "\n",
    "def remove_non_alphanumeric(result):\n",
    "  return re.sub(r'[^a-zA-Z0-9]', '', result)\n",
    "\n",
    "def normalize(token):\n",
    "\t\tresult = token.lower()\n",
    "\t\tresult = translate(result)\n",
    "\t\tresult = remove_non_alphanumeric(result)\n",
    "\t\treturn result"
   ]
  },
  {
   "cell_type": "code",
   "execution_count": 14,
   "metadata": {
    "id": "NSdfz_yNEGpP"
   },
   "outputs": [],
   "source": [
    "from datetime import date\n",
    "\n",
    "def diff_dates(date1, date2):\n",
    "  return abs(date2 - date1).days\n",
    "\n",
    "\n",
    "def anterior(date1, date2):\n",
    "  return (date2 - date1).days >= 0\n",
    "\n",
    "def remove_results_by_date(release_start, query_results):\n",
    "        anterior_query_results = []\n",
    "        for query_result in query_results:\n",
    "            title, channel, video_id, result_date_str, premiered, stream, subscribers, views, likes = query_result\n",
    "\n",
    "            if release_start == None or result_date_str == None or release_start == \"\" or result_date_str == \"\":\n",
    "                is_anterior = True\n",
    "            else:\n",
    "                #print(\"{} {}\".format(repr(release_start), result_date_str))\n",
    "                movie_moth, movie_day, movie_year = release_start.split(\"/\")\n",
    "                result_moth, result_day, result_year = result_date_str.split(\"/\")\n",
    "                movie_date = date(int(movie_year), int(movie_moth), int(movie_day))\n",
    "                result_date = date(int(result_year), int(result_moth), int(result_day))\n",
    "                is_anterior = anterior(result_date, movie_date)\n",
    "\n",
    "            #self.logger.debug(\"Movie Date {},  Result Date {}, Diff {} Result Date Is Anterior? {}\".format(release_start, result_date_str, diff_dates(movie_date, result_date), is_anterior))\n",
    "\n",
    "            if is_anterior:\n",
    "                anterior_query_results.append(query_result)\n",
    "        return anterior_query_results"
   ]
  },
  {
   "cell_type": "code",
   "execution_count": 15,
   "metadata": {
    "id": "dt2AvSlBZb39"
   },
   "outputs": [],
   "source": [
    "def remove_results_by_channel(distributor, ampliated_top_k):\n",
    "  results = []\n",
    "  for result in ampliated_top_k:\n",
    "    if result[1].lower() in known_channels:\n",
    "      results.append(result)\n",
    "\n",
    "  #if distributor == \"Universal Pictures Distributor\": ##To Do\n",
    "    #return get_results_from_channel()\n",
    "\n",
    "  return results\n",
    "\n",
    "def exclude_by_channel(ampliated_top_k):\n",
    "  results = []\n",
    "  for result in ampliated_top_k:\n",
    "    if result[1].lower() not in exclude_channels:\n",
    "      results.append(result)\n",
    "  return results\n",
    "  "
   ]
  },
  {
   "cell_type": "code",
   "execution_count": 16,
   "metadata": {
    "id": "V7JWV_fy8hfv"
   },
   "outputs": [],
   "source": [
    "def score(title_tokens, channel_tokens, query_tokens):\n",
    "  normalized_title_tokens = []\n",
    "  for title_token in title_tokens:\n",
    "    normalized_title_token = normalize(title_token)\n",
    "    if len(normalized_title_token) > 1:\n",
    "      normalized_title_tokens.append(normalized_title_token)\n",
    "\n",
    "  normalized_channel_tokens = []\n",
    "  for channel_token in channel_tokens:\n",
    "    normalized_channel_tokens.append(normalize(channel_token))\n",
    "\n",
    "  normalized_query_tokens = []\n",
    "  for query_token in query_tokens:\n",
    "    normalized_query_token = normalize(query_token)\n",
    "    if len(normalized_query_token) > 1:\n",
    "      normalized_query_tokens.append(normalized_query_token)\n",
    "      \n",
    "  matches = 0\n",
    "  for normalized_query_token in normalized_query_tokens:\n",
    "    if normalized_query_token in normalized_title_tokens:\n",
    "      matches += 1\n",
    "  score = matches / len(normalized_query_tokens)\n",
    "  return score"
   ]
  },
  {
   "cell_type": "code",
   "execution_count": 17,
   "metadata": {
    "id": "uai_rWFxexCY"
   },
   "outputs": [],
   "source": [
    "  for movie in movies:\n",
    "    scored_trailers = []\n",
    "\n",
    "    channel_excluded_results = exclude_by_channel(movie[\"top_10_results\"])\n",
    "\n",
    "    movie[\"anterior_channel_excluded_results\"] = remove_results_by_date(movie[\"release_start\"], channel_excluded_results)\n",
    "\n",
    "    movie[\"known_channel_results\"] = remove_results_by_channel(movie[\"distributor\"], movie[\"anterior_channel_excluded_results\"]) #OPTION 1\n",
    "\n",
    "    results = movie[\"known_channel_results\"]\n",
    "\n",
    "    if results == []:\n",
    "      results = movie[\"anterior_channel_excluded_results\"]\n",
    "\n",
    "    for trailer_primary_result in results:\n",
    "      title, channel, video_id, video_date, premiered, stream, subscribers, views, likes = trailer_primary_result\n",
    "\n",
    "      if premiered or stream:\n",
    "        continue\n",
    "\n",
    "      title_tokens = title.split(\" \")\n",
    "      channel_tokens = channel.split(\" \")\n",
    "      query_tokens = query_tokens = \"{} official trailer\".format(movie[\"movie_name\"]).split()\n",
    "\n",
    "      score_result = score(title_tokens, channel_tokens, query_tokens)\n",
    "      \n",
    "\n",
    "      scored_trailers.append([title, channel, video_id, video_date, premiered, stream, subscribers, views, likes, score_result])\n",
    "    movie[\"scored_trailers\"] = scored_trailers"
   ]
  },
  {
   "cell_type": "markdown",
   "metadata": {
    "id": "9-8ozgY_YXXr"
   },
   "source": [
    "# Creating manual file\n"
   ]
  },
  {
   "cell_type": "code",
   "execution_count": 18,
   "metadata": {
    "id": "tkt80cH0Y_2j"
   },
   "outputs": [],
   "source": [
    "with open(\"score_scheme.csv\", \"w\") as f:\n",
    "  f.write(\"movie_name,video_url,video_title,channel,score,id,official_trailer,known_channels_used\")\n",
    "  f.write(\"\\r\\n\")\n",
    "  for movie in movies:\n",
    "    if movie[\"no_prerelease\"] == '0':\n",
    "      if movie[\"scored_trailers\"] == []:\n",
    "        movie_name = movie[\"movie_name\"].replace(\",\",\"\")\n",
    "        f.write(\"{},{},{},{},{},{},{},{}\".format(movie_name, None, None, None, None, None, None, None))\n",
    "        f.write(\"\\r\\n\")\n",
    "\n",
    "      counter = 1\n",
    "      for trailer in movie[\"scored_trailers\"]:\n",
    "        title, channel, video_id, date, premiered, stream, subscribers, views, likes, score_result = trailer\n",
    "        youtube_url = \"https://www.youtube.com/watch?v={}\".format(video_id)\n",
    "        movie_name = movie[\"movie_name\"].replace(\",\",\"\")\n",
    "        title = title.replace(\",\",\"\")\n",
    "        channel = channel.replace(\",\",\"\")\n",
    "        official_trailer = 0\n",
    "        if score_result >= 0.75:\n",
    "          official_trailer = 1\n",
    "\n",
    "        score_result = str(round(score_result, 2))\n",
    "        \n",
    "        kwnown_channels_used = 0\n",
    "        if movie[\"known_channel_results\"] != []:\n",
    "          kwnown_channels_used = 1\n",
    "        f.write(\"{},{},{},{},{},{},{},{}\".format(movie_name, youtube_url, title, channel, score_result, counter, official_trailer, kwnown_channels_used))\n",
    "        f.write(\"\\r\\n\")\n",
    "        counter += 1\n",
    "      f.write(\",,,,,,,\")\n",
    "      f.write(\"\\r\\n\")"
   ]
  },
  {
   "cell_type": "markdown",
   "metadata": {
    "id": "y5Imm7ZYdfep"
   },
   "source": [
    "# Creating Debug Files"
   ]
  },
  {
   "cell_type": "code",
   "execution_count": 19,
   "metadata": {
    "colab": {
     "base_uri": "https://localhost:8080/"
    },
    "id": "lciPF62sdjuK",
    "outputId": "cb45542d-4c45-484f-ebfc-1b2519327b53"
   },
   "outputs": [],
   "source": [
    "with open(\"./Debug_Files/query_results.csv\", \"w\") as f:\n",
    "  f.write(\"movie_name,video_url,video_title,channel,score\")\n",
    "  f.write(\"\\r\\n\")\n",
    "  for movie in movies:\n",
    "    \n",
    "    query_tokens = query_tokens = \"{} official trailer\".format(movie[\"movie_name\"]).split()\n",
    "    #print(movie)\n",
    "    for result in movie[\"query_results\"]:\n",
    "      title, channel, video_id, video_date, premiered, stream, subscribers, views, likes = result\n",
    "\n",
    "      youtube_url = \"https://www.youtube.com/watch?v={}\".format(video_id)\n",
    "      movie_name = movie[\"movie_name\"].replace(\",\",\"\")\n",
    "      title = title.replace(\",\",\"\")\n",
    "      channel = channel.replace(\",\",\"\")\n",
    "\n",
    "      channel_tokens = channel.split(\" \")\n",
    "      title_tokens = title.split(\" \")\n",
    "      score_result = score(channel_tokens=channel_tokens, query_tokens=query_tokens, title_tokens=title_tokens)\n",
    "\n",
    "      #TODO print normalized tokens to debug\n",
    "      \n",
    "      f.write(\"{},{},{},{},{},{},{},{}\".format(movie_name, youtube_url, title, channel, score_result, counter, official_trailer, kwnown_channels_used))\n",
    "      f.write(\"\\r\\n\")\n",
    "      #break\n",
    "    #break\n",
    "\n",
    "  f.write(\",,,,,,,\")\n",
    "  f.write(\"\\r\\n\")"
   ]
  },
  {
   "cell_type": "code",
   "execution_count": 22,
   "metadata": {},
   "outputs": [
    {
     "ename": "NameError",
     "evalue": "name 'days_diff' is not defined",
     "output_type": "error",
     "traceback": [
      "\u001b[0;31m---------------------------------------------------------------------------\u001b[0m",
      "\u001b[0;31mNameError\u001b[0m                                 Traceback (most recent call last)",
      "Input \u001b[0;32mIn [22]\u001b[0m, in \u001b[0;36m<cell line: 1>\u001b[0;34m()\u001b[0m\n\u001b[1;32m     18\u001b[0m   score_result \u001b[38;5;241m=\u001b[39m score(channel_tokens\u001b[38;5;241m=\u001b[39mchannel_tokens, query_tokens\u001b[38;5;241m=\u001b[39mquery_tokens, title_tokens\u001b[38;5;241m=\u001b[39mtitle_tokens)\n\u001b[1;32m     21\u001b[0m   \u001b[38;5;66;03m#TODO print normalized tokens to debug\u001b[39;00m\n\u001b[0;32m---> 23\u001b[0m   f\u001b[38;5;241m.\u001b[39mwrite(\u001b[38;5;124m\"\u001b[39m\u001b[38;5;132;01m{}\u001b[39;00m\u001b[38;5;124m,\u001b[39m\u001b[38;5;132;01m{}\u001b[39;00m\u001b[38;5;124m,\u001b[39m\u001b[38;5;132;01m{}\u001b[39;00m\u001b[38;5;124m,\u001b[39m\u001b[38;5;132;01m{}\u001b[39;00m\u001b[38;5;124m,\u001b[39m\u001b[38;5;132;01m{}\u001b[39;00m\u001b[38;5;124m,\u001b[39m\u001b[38;5;132;01m{}\u001b[39;00m\u001b[38;5;124m,\u001b[39m\u001b[38;5;132;01m{}\u001b[39;00m\u001b[38;5;124m,\u001b[39m\u001b[38;5;132;01m{}\u001b[39;00m\u001b[38;5;124m,\u001b[39m\u001b[38;5;132;01m{}\u001b[39;00m\u001b[38;5;124m\"\u001b[39m\u001b[38;5;241m.\u001b[39mformat(movie_name, youtube_url, title, channel, score_result, counter, official_trailer, kwnown_channels_used, \u001b[43mdays_diff\u001b[49m))\n\u001b[1;32m     24\u001b[0m   f\u001b[38;5;241m.\u001b[39mwrite(\u001b[38;5;124m\"\u001b[39m\u001b[38;5;130;01m\\r\u001b[39;00m\u001b[38;5;130;01m\\n\u001b[39;00m\u001b[38;5;124m\"\u001b[39m)\n\u001b[1;32m     25\u001b[0m   \u001b[38;5;66;03m#break\u001b[39;00m\n\u001b[1;32m     26\u001b[0m \u001b[38;5;66;03m#break\u001b[39;00m\n",
      "\u001b[0;31mNameError\u001b[0m: name 'days_diff' is not defined"
     ]
    }
   ],
   "source": [
    "with open(\"./Debug_Files/top_10.csv\", \"w\") as f:\n",
    "    f.write(\"movie_name,video_url,video_title,channel,score,days_diff\")\n",
    "    f.write(\"\\r\\n\")\n",
    "    for movie in movies:\n",
    "        query_tokens = query_tokens = \"{} official trailer\".format(movie[\"movie_name\"]).split()\n",
    "    #print(movie)\n",
    "        for result in movie[\"top_10_results\"]:\n",
    "          title, channel, video_id, video_date, premiered, stream, subscribers, views, likes = result\n",
    "\n",
    "          youtube_url = \"https://www.youtube.com/watch?v={}\".format(video_id)\n",
    "          movie_name = movie[\"movie_name\"].replace(\",\",\"\")\n",
    "          title = title.replace(\",\",\"\")\n",
    "          channel = channel.replace(\",\",\"\")\n",
    "\n",
    "          channel_tokens = channel.split(\" \")\n",
    "          title_tokens = title.split(\" \")\n",
    "          score_result = score(channel_tokens=channel_tokens, query_tokens=query_tokens, title_tokens=title_tokens)\n",
    "\n",
    "      #TODO print normalized tokens to debug\n",
    "      \n",
    "          f.write(\"{},{},{},{},{},{},{},{},{}\".format(movie_name, youtube_url, title, channel, score_result, counter, official_trailer, kwnown_channels_used, days_diff))\n",
    "          f.write(\"\\r\\n\")\n",
    "      #break\n",
    "    #break\n",
    "\n",
    "      f.write(\",,,,,,,,\")\n",
    "      f.write(\"\\r\\n\")"
   ]
  },
  {
   "cell_type": "code",
   "execution_count": null,
   "metadata": {},
   "outputs": [],
   "source": []
  }
 ],
 "metadata": {
  "colab": {
   "provenance": []
  },
  "kernelspec": {
   "display_name": "Python 3 (ipykernel)",
   "language": "python",
   "name": "python3"
  },
  "language_info": {
   "codemirror_mode": {
    "name": "ipython",
    "version": 3
   },
   "file_extension": ".py",
   "mimetype": "text/x-python",
   "name": "python",
   "nbconvert_exporter": "python",
   "pygments_lexer": "ipython3",
   "version": "3.10.6"
  }
 },
 "nbformat": 4,
 "nbformat_minor": 1
}
