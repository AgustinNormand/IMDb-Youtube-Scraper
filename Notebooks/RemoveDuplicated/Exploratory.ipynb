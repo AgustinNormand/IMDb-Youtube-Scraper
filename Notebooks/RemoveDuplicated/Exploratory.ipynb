{
 "cells": [
  {
   "cell_type": "markdown",
   "metadata": {
    "id": "Glpq9VU6mZbk"
   },
   "source": [
    "# Reading Movies"
   ]
  },
  {
   "cell_type": "code",
   "execution_count": 9,
   "metadata": {
    "id": "vnk-yese9cPk"
   },
   "outputs": [],
   "source": [
    "import ast\n",
    "import csv\n",
    "raw_movies = []\n",
    "csv_filename = 'Output - Output.csv'\n",
    "with open(csv_filename) as f:\n",
    "    reader = csv.DictReader(f)\n",
    "    lst = list(reader)\n",
    "    for item in lst:\n",
    "        #if item[\"anterior_query_results\"] != None:\n",
    "        item[\"query_results\"] = ast.literal_eval(item[\"query_results\"])\n",
    "        raw_movies.append(item)"
   ]
  },
  {
   "cell_type": "code",
   "execution_count": 15,
   "metadata": {},
   "outputs": [
    {
     "data": {
      "text/plain": [
       "dict_keys(['uniqueID', 'movie_name', 'url_bom', 'success', 'gross_dom', 'gross_int', 'gross_worldwide', 'distributor', 'opening_box', 'opening_theater', 'budget', 'release_start', 'release_end', 'mpaa', 'run_time', 'Action', 'Adventure', 'Drama', 'Sci-Fi', 'Fantasy', 'Animation', 'Family', 'Musical', 'Horror', 'Comedy', 'Thriller', 'Romance', 'Mystery', 'Crime', 'War', 'Music', 'Sport', 'Biography', 'History', 'Documentary', 'Western', 'Film-Noir', 'release_length', 'url_imdb', 'summary', 'user_raiting', 'user_reviews', 'critic_rating', 'critic_reviews', 'writers', 'directors', 'movie_star', 'query_url', 'no_prerelease', 'query_results'])"
      ]
     },
     "execution_count": 15,
     "metadata": {},
     "output_type": "execute_result"
    }
   ],
   "source": [
    "raw_movies[0].keys()"
   ]
  },
  {
   "cell_type": "code",
   "execution_count": 18,
   "metadata": {},
   "outputs": [],
   "source": [
    "def equals(movie1, movie2):\n",
    "    keys = list(movie1.keys())\n",
    "    keys.remove(\"uniqueID\")\n",
    "    keys.remove(\"success\")\n",
    "    keys.remove(\"query_results\")\n",
    "    keys.remove(\"no_prerelease\")\n",
    "    \n",
    "    for key in keys:\n",
    "        if movie1[key] != movie2[key]:\n",
    "            return False\n",
    "    return True\n",
    "\n",
    "\n",
    "def is_in(searched_movie, movies):\n",
    "    for movie in movies:\n",
    "        if equals(movie, searched_movie):\n",
    "            return True\n",
    "    return False\n",
    "\n",
    "def delete_duplicates(movies):\n",
    "    unique_movies = []\n",
    "    duplicated_count = 0\n",
    "    for movie in movies:\n",
    "        if not is_in(movie, unique_movies):\n",
    "            unique_movies.append(movie)\n",
    "        else:\n",
    "            duplicated_count += 1\n",
    "            print(\"Duplicated found {}\".format(movie[\"movie_name\"]))\n",
    "    print(\"Duplicated Count {}.\".format(duplicated_count))\n",
    "    return unique_movies"
   ]
  },
  {
   "cell_type": "code",
   "execution_count": 19,
   "metadata": {},
   "outputs": [
    {
     "name": "stdout",
     "output_type": "stream",
     "text": [
      "Duplicated found The Addams Family\n",
      "Duplicated found The Passion of the Christ\n",
      "Duplicated found Toy Story\n",
      "Duplicated found Guardians of the Galaxy\n",
      "Duplicated found Monsters, Inc.\n",
      "Duplicated found Saving Private Ryan\n",
      "Duplicated found Star Wars: Episode V - The Empire Strikes Back\n",
      "Duplicated found Anchorman 2: The Legend Continues\n",
      "Duplicated found Spider-Man: No Way Home\n",
      "Duplicated Count 9.\n"
     ]
    }
   ],
   "source": [
    "movies = delete_duplicates(raw_movies)"
   ]
  },
  {
   "cell_type": "code",
   "execution_count": 13,
   "metadata": {},
   "outputs": [
    {
     "data": {
      "text/plain": [
       "1967"
      ]
     },
     "execution_count": 13,
     "metadata": {},
     "output_type": "execute_result"
    }
   ],
   "source": [
    "len(movies)"
   ]
  }
 ],
 "metadata": {
  "colab": {
   "provenance": []
  },
  "kernelspec": {
   "display_name": "Python 3 (ipykernel)",
   "language": "python",
   "name": "python3"
  },
  "language_info": {
   "codemirror_mode": {
    "name": "ipython",
    "version": 3
   },
   "file_extension": ".py",
   "mimetype": "text/x-python",
   "name": "python",
   "nbconvert_exporter": "python",
   "pygments_lexer": "ipython3",
   "version": "3.10.6"
  }
 },
 "nbformat": 4,
 "nbformat_minor": 1
}
