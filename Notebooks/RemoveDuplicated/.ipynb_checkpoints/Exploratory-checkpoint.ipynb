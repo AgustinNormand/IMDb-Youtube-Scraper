{
 "cells": [
  {
   "cell_type": "markdown",
   "metadata": {
    "id": "Glpq9VU6mZbk"
   },
   "source": [
    "# Reading Movies"
   ]
  },
  {
   "cell_type": "code",
   "execution_count": 1,
   "metadata": {
    "id": "vnk-yese9cPk"
   },
   "outputs": [],
   "source": [
    "import ast\n",
    "import csv\n",
    "movies = []\n",
    "csv_filename = 'results.csv.bk'\n",
    "with open(csv_filename) as f:\n",
    "    reader = csv.DictReader(f)\n",
    "    lst = list(reader)\n",
    "    for item in lst:\n",
    "        #item[\"query_results\"] = ast.literal_eval(item[\"query_results\"])\n",
    "        if item[\"anterior_query_results\"] != None:\n",
    "            item[\"query_results\"] = ast.literal_eval(item[\"query_results\"])\n",
    "            item[\"top_10_results\"] = item[\"query_results\"][:10]\n",
    "            item[\"anterior_query_results\"] = ast.literal_eval(item[\"anterior_query_results\"])\n",
    "        else:\n",
    "            item[\"anterior_query_results\"] = []\n",
    "        movies.append(item)"
   ]
  },
  {
   "cell_type": "code",
   "execution_count": null,
   "metadata": {},
   "outputs": [],
   "source": [
    "def equals(self, movie1, movie2):\n",
    "    keys = list(movie1.keys())\n",
    "    keys.remove(\"uniqueID\")\n",
    "    keys.remove(\"success\")\n",
    "\n",
    "    for key in keys:\n",
    "        if movie1[key] != movie2[key]:\n",
    "            return False\n",
    "    return True\n",
    "\n",
    "\n",
    "def is_in(self, searched_movie, movies):\n",
    "    for movie in movies:\n",
    "        if self.equals(movie, searched_movie):\n",
    "            return True\n",
    "    return False\n",
    "\n",
    "def delete_duplicates(self, movies):\n",
    "    unique_movies = []\n",
    "    for movie in movies:\n",
    "        if not self.is_in(movie, unique_movies):\n",
    "            unique_movies.append(movie)\n",
    "        else:\n",
    "            self.duplicated_count += 1\n",
    "                self.logger.debug(\"Movie duplicated detected {}\".format(movie))\n",
    "        return unique_movies"
   ]
  }
 ],
 "metadata": {
  "colab": {
   "provenance": []
  },
  "kernelspec": {
   "display_name": "Python 3 (ipykernel)",
   "language": "python",
   "name": "python3"
  },
  "language_info": {
   "codemirror_mode": {
    "name": "ipython",
    "version": 3
   },
   "file_extension": ".py",
   "mimetype": "text/x-python",
   "name": "python",
   "nbconvert_exporter": "python",
   "pygments_lexer": "ipython3",
   "version": "3.10.6"
  }
 },
 "nbformat": 4,
 "nbformat_minor": 1
}
